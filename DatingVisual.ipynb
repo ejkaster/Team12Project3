{
 "cells": [
  {
   "cell_type": "code",
   "execution_count": 3,
   "metadata": {},
   "outputs": [],
   "source": [
    "from sklearn.ensemble import RandomForestClassifier\n",
    "import pandas as pd\n",
    "from sklearn.model_selection import train_test_split\n",
    "import os"
   ]
  },
  {
   "cell_type": "code",
   "execution_count": 4,
   "metadata": {},
   "outputs": [
    {
     "data": {
      "text/html": [
       "<div>\n",
       "<style scoped>\n",
       "    .dataframe tbody tr th:only-of-type {\n",
       "        vertical-align: middle;\n",
       "    }\n",
       "\n",
       "    .dataframe tbody tr th {\n",
       "        vertical-align: top;\n",
       "    }\n",
       "\n",
       "    .dataframe thead th {\n",
       "        text-align: right;\n",
       "    }\n",
       "</style>\n",
       "<table border=\"1\" class=\"dataframe\">\n",
       "  <thead>\n",
       "    <tr style=\"text-align: right;\">\n",
       "      <th></th>\n",
       "      <th>gender</th>\n",
       "      <th>order</th>\n",
       "      <th>match</th>\n",
       "      <th>sim_int_pct</th>\n",
       "      <th>samerace</th>\n",
       "      <th>age_partner</th>\n",
       "      <th>race_partner</th>\n",
       "      <th>pf_o_att</th>\n",
       "      <th>pref_sincerity</th>\n",
       "      <th>Pref_intell</th>\n",
       "      <th>...</th>\n",
       "      <th>clubbing</th>\n",
       "      <th>reading</th>\n",
       "      <th>tv</th>\n",
       "      <th>theater</th>\n",
       "      <th>movies</th>\n",
       "      <th>concerts</th>\n",
       "      <th>music</th>\n",
       "      <th>shopping</th>\n",
       "      <th>yoga</th>\n",
       "      <th>exphappy_frm_spddting</th>\n",
       "    </tr>\n",
       "  </thead>\n",
       "  <tbody>\n",
       "    <tr>\n",
       "      <th>0</th>\n",
       "      <td>0</td>\n",
       "      <td>4</td>\n",
       "      <td>0</td>\n",
       "      <td>0.14</td>\n",
       "      <td>0</td>\n",
       "      <td>27.0</td>\n",
       "      <td>2.0</td>\n",
       "      <td>35.0</td>\n",
       "      <td>20.0</td>\n",
       "      <td>20.0</td>\n",
       "      <td>...</td>\n",
       "      <td>5.0</td>\n",
       "      <td>6.0</td>\n",
       "      <td>9.0</td>\n",
       "      <td>1.0</td>\n",
       "      <td>10.0</td>\n",
       "      <td>10.0</td>\n",
       "      <td>9.0</td>\n",
       "      <td>8.0</td>\n",
       "      <td>1.0</td>\n",
       "      <td>3.0</td>\n",
       "    </tr>\n",
       "    <tr>\n",
       "      <th>1</th>\n",
       "      <td>0</td>\n",
       "      <td>3</td>\n",
       "      <td>0</td>\n",
       "      <td>0.54</td>\n",
       "      <td>0</td>\n",
       "      <td>22.0</td>\n",
       "      <td>2.0</td>\n",
       "      <td>60.0</td>\n",
       "      <td>0.0</td>\n",
       "      <td>0.0</td>\n",
       "      <td>...</td>\n",
       "      <td>5.0</td>\n",
       "      <td>6.0</td>\n",
       "      <td>9.0</td>\n",
       "      <td>1.0</td>\n",
       "      <td>10.0</td>\n",
       "      <td>10.0</td>\n",
       "      <td>9.0</td>\n",
       "      <td>8.0</td>\n",
       "      <td>1.0</td>\n",
       "      <td>3.0</td>\n",
       "    </tr>\n",
       "    <tr>\n",
       "      <th>2</th>\n",
       "      <td>0</td>\n",
       "      <td>10</td>\n",
       "      <td>1</td>\n",
       "      <td>0.16</td>\n",
       "      <td>1</td>\n",
       "      <td>22.0</td>\n",
       "      <td>4.0</td>\n",
       "      <td>19.0</td>\n",
       "      <td>18.0</td>\n",
       "      <td>19.0</td>\n",
       "      <td>...</td>\n",
       "      <td>5.0</td>\n",
       "      <td>6.0</td>\n",
       "      <td>9.0</td>\n",
       "      <td>1.0</td>\n",
       "      <td>10.0</td>\n",
       "      <td>10.0</td>\n",
       "      <td>9.0</td>\n",
       "      <td>8.0</td>\n",
       "      <td>1.0</td>\n",
       "      <td>3.0</td>\n",
       "    </tr>\n",
       "    <tr>\n",
       "      <th>3</th>\n",
       "      <td>0</td>\n",
       "      <td>5</td>\n",
       "      <td>1</td>\n",
       "      <td>0.61</td>\n",
       "      <td>0</td>\n",
       "      <td>23.0</td>\n",
       "      <td>2.0</td>\n",
       "      <td>30.0</td>\n",
       "      <td>5.0</td>\n",
       "      <td>15.0</td>\n",
       "      <td>...</td>\n",
       "      <td>5.0</td>\n",
       "      <td>6.0</td>\n",
       "      <td>9.0</td>\n",
       "      <td>1.0</td>\n",
       "      <td>10.0</td>\n",
       "      <td>10.0</td>\n",
       "      <td>9.0</td>\n",
       "      <td>8.0</td>\n",
       "      <td>1.0</td>\n",
       "      <td>3.0</td>\n",
       "    </tr>\n",
       "    <tr>\n",
       "      <th>4</th>\n",
       "      <td>0</td>\n",
       "      <td>7</td>\n",
       "      <td>1</td>\n",
       "      <td>0.21</td>\n",
       "      <td>0</td>\n",
       "      <td>24.0</td>\n",
       "      <td>3.0</td>\n",
       "      <td>30.0</td>\n",
       "      <td>10.0</td>\n",
       "      <td>20.0</td>\n",
       "      <td>...</td>\n",
       "      <td>5.0</td>\n",
       "      <td>6.0</td>\n",
       "      <td>9.0</td>\n",
       "      <td>1.0</td>\n",
       "      <td>10.0</td>\n",
       "      <td>10.0</td>\n",
       "      <td>9.0</td>\n",
       "      <td>8.0</td>\n",
       "      <td>1.0</td>\n",
       "      <td>3.0</td>\n",
       "    </tr>\n",
       "    <tr>\n",
       "      <th>...</th>\n",
       "      <td>...</td>\n",
       "      <td>...</td>\n",
       "      <td>...</td>\n",
       "      <td>...</td>\n",
       "      <td>...</td>\n",
       "      <td>...</td>\n",
       "      <td>...</td>\n",
       "      <td>...</td>\n",
       "      <td>...</td>\n",
       "      <td>...</td>\n",
       "      <td>...</td>\n",
       "      <td>...</td>\n",
       "      <td>...</td>\n",
       "      <td>...</td>\n",
       "      <td>...</td>\n",
       "      <td>...</td>\n",
       "      <td>...</td>\n",
       "      <td>...</td>\n",
       "      <td>...</td>\n",
       "      <td>...</td>\n",
       "      <td>...</td>\n",
       "    </tr>\n",
       "    <tr>\n",
       "      <th>8373</th>\n",
       "      <td>1</td>\n",
       "      <td>5</td>\n",
       "      <td>0</td>\n",
       "      <td>0.64</td>\n",
       "      <td>0</td>\n",
       "      <td>26.0</td>\n",
       "      <td>3.0</td>\n",
       "      <td>10.0</td>\n",
       "      <td>10.0</td>\n",
       "      <td>30.0</td>\n",
       "      <td>...</td>\n",
       "      <td>9.0</td>\n",
       "      <td>8.0</td>\n",
       "      <td>3.0</td>\n",
       "      <td>7.0</td>\n",
       "      <td>9.0</td>\n",
       "      <td>10.0</td>\n",
       "      <td>10.0</td>\n",
       "      <td>7.0</td>\n",
       "      <td>3.0</td>\n",
       "      <td>10.0</td>\n",
       "    </tr>\n",
       "    <tr>\n",
       "      <th>8374</th>\n",
       "      <td>1</td>\n",
       "      <td>4</td>\n",
       "      <td>0</td>\n",
       "      <td>0.71</td>\n",
       "      <td>0</td>\n",
       "      <td>24.0</td>\n",
       "      <td>6.0</td>\n",
       "      <td>50.0</td>\n",
       "      <td>20.0</td>\n",
       "      <td>10.0</td>\n",
       "      <td>...</td>\n",
       "      <td>9.0</td>\n",
       "      <td>8.0</td>\n",
       "      <td>3.0</td>\n",
       "      <td>7.0</td>\n",
       "      <td>9.0</td>\n",
       "      <td>10.0</td>\n",
       "      <td>10.0</td>\n",
       "      <td>7.0</td>\n",
       "      <td>3.0</td>\n",
       "      <td>10.0</td>\n",
       "    </tr>\n",
       "    <tr>\n",
       "      <th>8375</th>\n",
       "      <td>1</td>\n",
       "      <td>10</td>\n",
       "      <td>0</td>\n",
       "      <td>-0.46</td>\n",
       "      <td>0</td>\n",
       "      <td>29.0</td>\n",
       "      <td>3.0</td>\n",
       "      <td>40.0</td>\n",
       "      <td>10.0</td>\n",
       "      <td>30.0</td>\n",
       "      <td>...</td>\n",
       "      <td>9.0</td>\n",
       "      <td>8.0</td>\n",
       "      <td>3.0</td>\n",
       "      <td>7.0</td>\n",
       "      <td>9.0</td>\n",
       "      <td>10.0</td>\n",
       "      <td>10.0</td>\n",
       "      <td>7.0</td>\n",
       "      <td>3.0</td>\n",
       "      <td>10.0</td>\n",
       "    </tr>\n",
       "    <tr>\n",
       "      <th>8376</th>\n",
       "      <td>1</td>\n",
       "      <td>16</td>\n",
       "      <td>0</td>\n",
       "      <td>0.62</td>\n",
       "      <td>0</td>\n",
       "      <td>22.0</td>\n",
       "      <td>4.0</td>\n",
       "      <td>10.0</td>\n",
       "      <td>25.0</td>\n",
       "      <td>25.0</td>\n",
       "      <td>...</td>\n",
       "      <td>9.0</td>\n",
       "      <td>8.0</td>\n",
       "      <td>3.0</td>\n",
       "      <td>7.0</td>\n",
       "      <td>9.0</td>\n",
       "      <td>10.0</td>\n",
       "      <td>10.0</td>\n",
       "      <td>7.0</td>\n",
       "      <td>3.0</td>\n",
       "      <td>10.0</td>\n",
       "    </tr>\n",
       "    <tr>\n",
       "      <th>8377</th>\n",
       "      <td>1</td>\n",
       "      <td>15</td>\n",
       "      <td>0</td>\n",
       "      <td>0.01</td>\n",
       "      <td>0</td>\n",
       "      <td>22.0</td>\n",
       "      <td>4.0</td>\n",
       "      <td>20.0</td>\n",
       "      <td>20.0</td>\n",
       "      <td>10.0</td>\n",
       "      <td>...</td>\n",
       "      <td>9.0</td>\n",
       "      <td>8.0</td>\n",
       "      <td>3.0</td>\n",
       "      <td>7.0</td>\n",
       "      <td>9.0</td>\n",
       "      <td>10.0</td>\n",
       "      <td>10.0</td>\n",
       "      <td>7.0</td>\n",
       "      <td>3.0</td>\n",
       "      <td>10.0</td>\n",
       "    </tr>\n",
       "  </tbody>\n",
       "</table>\n",
       "<p>8378 rows × 54 columns</p>\n",
       "</div>"
      ],
      "text/plain": [
       "      gender  order  match  sim_int_pct  samerace  age_partner  race_partner  \\\n",
       "0          0      4      0         0.14         0         27.0           2.0   \n",
       "1          0      3      0         0.54         0         22.0           2.0   \n",
       "2          0     10      1         0.16         1         22.0           4.0   \n",
       "3          0      5      1         0.61         0         23.0           2.0   \n",
       "4          0      7      1         0.21         0         24.0           3.0   \n",
       "...      ...    ...    ...          ...       ...          ...           ...   \n",
       "8373       1      5      0         0.64         0         26.0           3.0   \n",
       "8374       1      4      0         0.71         0         24.0           6.0   \n",
       "8375       1     10      0        -0.46         0         29.0           3.0   \n",
       "8376       1     16      0         0.62         0         22.0           4.0   \n",
       "8377       1     15      0         0.01         0         22.0           4.0   \n",
       "\n",
       "      pf_o_att  pref_sincerity  Pref_intell  ...  clubbing  reading   tv  \\\n",
       "0         35.0            20.0         20.0  ...       5.0      6.0  9.0   \n",
       "1         60.0             0.0          0.0  ...       5.0      6.0  9.0   \n",
       "2         19.0            18.0         19.0  ...       5.0      6.0  9.0   \n",
       "3         30.0             5.0         15.0  ...       5.0      6.0  9.0   \n",
       "4         30.0            10.0         20.0  ...       5.0      6.0  9.0   \n",
       "...        ...             ...          ...  ...       ...      ...  ...   \n",
       "8373      10.0            10.0         30.0  ...       9.0      8.0  3.0   \n",
       "8374      50.0            20.0         10.0  ...       9.0      8.0  3.0   \n",
       "8375      40.0            10.0         30.0  ...       9.0      8.0  3.0   \n",
       "8376      10.0            25.0         25.0  ...       9.0      8.0  3.0   \n",
       "8377      20.0            20.0         10.0  ...       9.0      8.0  3.0   \n",
       "\n",
       "      theater  movies  concerts  music  shopping  yoga  exphappy_frm_spddting  \n",
       "0         1.0    10.0      10.0    9.0       8.0   1.0                    3.0  \n",
       "1         1.0    10.0      10.0    9.0       8.0   1.0                    3.0  \n",
       "2         1.0    10.0      10.0    9.0       8.0   1.0                    3.0  \n",
       "3         1.0    10.0      10.0    9.0       8.0   1.0                    3.0  \n",
       "4         1.0    10.0      10.0    9.0       8.0   1.0                    3.0  \n",
       "...       ...     ...       ...    ...       ...   ...                    ...  \n",
       "8373      7.0     9.0      10.0   10.0       7.0   3.0                   10.0  \n",
       "8374      7.0     9.0      10.0   10.0       7.0   3.0                   10.0  \n",
       "8375      7.0     9.0      10.0   10.0       7.0   3.0                   10.0  \n",
       "8376      7.0     9.0      10.0   10.0       7.0   3.0                   10.0  \n",
       "8377      7.0     9.0      10.0   10.0       7.0   3.0                   10.0  \n",
       "\n",
       "[8378 rows x 54 columns]"
      ]
     },
     "execution_count": 4,
     "metadata": {},
     "output_type": "execute_result"
    }
   ],
   "source": [
    "filepath = \"./Data/3_ML_Dry_Run.csv\"\n",
    "df = pd.read_csv(filepath)\n",
    "# df = pd.read_csv(os.path.join(\"Data\", \"Speed_Dating_Data_columns.csv\"))\n",
    "df"
   ]
  },
  {
   "cell_type": "code",
   "execution_count": 5,
   "metadata": {},
   "outputs": [
    {
     "data": {
      "text/html": [
       "<div>\n",
       "<style scoped>\n",
       "    .dataframe tbody tr th:only-of-type {\n",
       "        vertical-align: middle;\n",
       "    }\n",
       "\n",
       "    .dataframe tbody tr th {\n",
       "        vertical-align: top;\n",
       "    }\n",
       "\n",
       "    .dataframe thead th {\n",
       "        text-align: right;\n",
       "    }\n",
       "</style>\n",
       "<table border=\"1\" class=\"dataframe\">\n",
       "  <thead>\n",
       "    <tr style=\"text-align: right;\">\n",
       "      <th></th>\n",
       "      <th>order</th>\n",
       "      <th>match</th>\n",
       "      <th>sim_int_pct</th>\n",
       "      <th>samerace</th>\n",
       "      <th>age_partner</th>\n",
       "      <th>race_partner</th>\n",
       "      <th>pf_o_att</th>\n",
       "      <th>pref_sincerity</th>\n",
       "      <th>Pref_intell</th>\n",
       "      <th>pref_fun</th>\n",
       "      <th>...</th>\n",
       "      <th>clubbing</th>\n",
       "      <th>reading</th>\n",
       "      <th>tv</th>\n",
       "      <th>theater</th>\n",
       "      <th>movies</th>\n",
       "      <th>concerts</th>\n",
       "      <th>music</th>\n",
       "      <th>shopping</th>\n",
       "      <th>yoga</th>\n",
       "      <th>exphappy_frm_spddting</th>\n",
       "    </tr>\n",
       "    <tr>\n",
       "      <th>gender</th>\n",
       "      <th></th>\n",
       "      <th></th>\n",
       "      <th></th>\n",
       "      <th></th>\n",
       "      <th></th>\n",
       "      <th></th>\n",
       "      <th></th>\n",
       "      <th></th>\n",
       "      <th></th>\n",
       "      <th></th>\n",
       "      <th></th>\n",
       "      <th></th>\n",
       "      <th></th>\n",
       "      <th></th>\n",
       "      <th></th>\n",
       "      <th></th>\n",
       "      <th></th>\n",
       "      <th></th>\n",
       "      <th></th>\n",
       "      <th></th>\n",
       "      <th></th>\n",
       "    </tr>\n",
       "  </thead>\n",
       "  <tbody>\n",
       "    <tr>\n",
       "      <th>0</th>\n",
       "      <td>4184</td>\n",
       "      <td>4184</td>\n",
       "      <td>4105</td>\n",
       "      <td>4184</td>\n",
       "      <td>4155</td>\n",
       "      <td>4164</td>\n",
       "      <td>4164</td>\n",
       "      <td>4164</td>\n",
       "      <td>4164</td>\n",
       "      <td>4155</td>\n",
       "      <td>...</td>\n",
       "      <td>4125</td>\n",
       "      <td>4125</td>\n",
       "      <td>4125</td>\n",
       "      <td>4125</td>\n",
       "      <td>4125</td>\n",
       "      <td>4125</td>\n",
       "      <td>4125</td>\n",
       "      <td>4125</td>\n",
       "      <td>4125</td>\n",
       "      <td>4103</td>\n",
       "    </tr>\n",
       "    <tr>\n",
       "      <th>1</th>\n",
       "      <td>4194</td>\n",
       "      <td>4194</td>\n",
       "      <td>4115</td>\n",
       "      <td>4194</td>\n",
       "      <td>4119</td>\n",
       "      <td>4141</td>\n",
       "      <td>4125</td>\n",
       "      <td>4125</td>\n",
       "      <td>4125</td>\n",
       "      <td>4125</td>\n",
       "      <td>...</td>\n",
       "      <td>4174</td>\n",
       "      <td>4174</td>\n",
       "      <td>4174</td>\n",
       "      <td>4174</td>\n",
       "      <td>4174</td>\n",
       "      <td>4174</td>\n",
       "      <td>4174</td>\n",
       "      <td>4174</td>\n",
       "      <td>4174</td>\n",
       "      <td>4174</td>\n",
       "    </tr>\n",
       "  </tbody>\n",
       "</table>\n",
       "<p>2 rows × 53 columns</p>\n",
       "</div>"
      ],
      "text/plain": [
       "        order  match  sim_int_pct  samerace  age_partner  race_partner  \\\n",
       "gender                                                                   \n",
       "0        4184   4184         4105      4184         4155          4164   \n",
       "1        4194   4194         4115      4194         4119          4141   \n",
       "\n",
       "        pf_o_att  pref_sincerity  Pref_intell  pref_fun  ...  clubbing  \\\n",
       "gender                                                   ...             \n",
       "0           4164            4164         4164      4155  ...      4125   \n",
       "1           4125            4125         4125      4125  ...      4174   \n",
       "\n",
       "        reading    tv  theater  movies  concerts  music  shopping  yoga  \\\n",
       "gender                                                                    \n",
       "0          4125  4125     4125    4125      4125   4125      4125  4125   \n",
       "1          4174  4174     4174    4174      4174   4174      4174  4174   \n",
       "\n",
       "        exphappy_frm_spddting  \n",
       "gender                         \n",
       "0                        4103  \n",
       "1                        4174  \n",
       "\n",
       "[2 rows x 53 columns]"
      ]
     },
     "execution_count": 5,
     "metadata": {},
     "output_type": "execute_result"
    }
   ],
   "source": [
    "df.groupby(\"gender\").count()"
   ]
  },
  {
   "cell_type": "code",
   "execution_count": 6,
   "metadata": {},
   "outputs": [
    {
     "data": {
      "text/html": [
       "<div>\n",
       "<style scoped>\n",
       "    .dataframe tbody tr th:only-of-type {\n",
       "        vertical-align: middle;\n",
       "    }\n",
       "\n",
       "    .dataframe tbody tr th {\n",
       "        vertical-align: top;\n",
       "    }\n",
       "\n",
       "    .dataframe thead th {\n",
       "        text-align: right;\n",
       "    }\n",
       "</style>\n",
       "<table border=\"1\" class=\"dataframe\">\n",
       "  <thead>\n",
       "    <tr style=\"text-align: right;\">\n",
       "      <th></th>\n",
       "      <th>gender</th>\n",
       "      <th>order</th>\n",
       "      <th>match</th>\n",
       "      <th>sim_int_pct</th>\n",
       "      <th>samerace</th>\n",
       "      <th>age_partner</th>\n",
       "      <th>race_partner</th>\n",
       "      <th>pf_o_att</th>\n",
       "      <th>pref_sincerity</th>\n",
       "      <th>Pref_intell</th>\n",
       "      <th>...</th>\n",
       "      <th>undergra_colby college, waterville, me</th>\n",
       "      <th>undergra_harvard</th>\n",
       "      <th>undergra_marymount manhattan college</th>\n",
       "      <th>undergra_nyu</th>\n",
       "      <th>undergra_oberlin</th>\n",
       "      <th>undergra_u of southern california, economics</th>\n",
       "      <th>undergra_ucla</th>\n",
       "      <th>undergra_umass</th>\n",
       "      <th>undergra_university of pennsylvania</th>\n",
       "      <th>undergra_wellesley college</th>\n",
       "    </tr>\n",
       "  </thead>\n",
       "  <tbody>\n",
       "    <tr>\n",
       "      <th>0</th>\n",
       "      <td>0</td>\n",
       "      <td>4</td>\n",
       "      <td>0</td>\n",
       "      <td>0.14</td>\n",
       "      <td>0</td>\n",
       "      <td>27.0</td>\n",
       "      <td>2.0</td>\n",
       "      <td>35.0</td>\n",
       "      <td>20.0</td>\n",
       "      <td>20.0</td>\n",
       "      <td>...</td>\n",
       "      <td>0</td>\n",
       "      <td>0</td>\n",
       "      <td>0</td>\n",
       "      <td>0</td>\n",
       "      <td>0</td>\n",
       "      <td>0</td>\n",
       "      <td>0</td>\n",
       "      <td>0</td>\n",
       "      <td>0</td>\n",
       "      <td>0</td>\n",
       "    </tr>\n",
       "    <tr>\n",
       "      <th>1</th>\n",
       "      <td>0</td>\n",
       "      <td>3</td>\n",
       "      <td>0</td>\n",
       "      <td>0.54</td>\n",
       "      <td>0</td>\n",
       "      <td>22.0</td>\n",
       "      <td>2.0</td>\n",
       "      <td>60.0</td>\n",
       "      <td>0.0</td>\n",
       "      <td>0.0</td>\n",
       "      <td>...</td>\n",
       "      <td>0</td>\n",
       "      <td>0</td>\n",
       "      <td>0</td>\n",
       "      <td>0</td>\n",
       "      <td>0</td>\n",
       "      <td>0</td>\n",
       "      <td>0</td>\n",
       "      <td>0</td>\n",
       "      <td>0</td>\n",
       "      <td>0</td>\n",
       "    </tr>\n",
       "    <tr>\n",
       "      <th>2</th>\n",
       "      <td>0</td>\n",
       "      <td>10</td>\n",
       "      <td>1</td>\n",
       "      <td>0.16</td>\n",
       "      <td>1</td>\n",
       "      <td>22.0</td>\n",
       "      <td>4.0</td>\n",
       "      <td>19.0</td>\n",
       "      <td>18.0</td>\n",
       "      <td>19.0</td>\n",
       "      <td>...</td>\n",
       "      <td>0</td>\n",
       "      <td>0</td>\n",
       "      <td>0</td>\n",
       "      <td>0</td>\n",
       "      <td>0</td>\n",
       "      <td>0</td>\n",
       "      <td>0</td>\n",
       "      <td>0</td>\n",
       "      <td>0</td>\n",
       "      <td>0</td>\n",
       "    </tr>\n",
       "    <tr>\n",
       "      <th>3</th>\n",
       "      <td>0</td>\n",
       "      <td>5</td>\n",
       "      <td>1</td>\n",
       "      <td>0.61</td>\n",
       "      <td>0</td>\n",
       "      <td>23.0</td>\n",
       "      <td>2.0</td>\n",
       "      <td>30.0</td>\n",
       "      <td>5.0</td>\n",
       "      <td>15.0</td>\n",
       "      <td>...</td>\n",
       "      <td>0</td>\n",
       "      <td>0</td>\n",
       "      <td>0</td>\n",
       "      <td>0</td>\n",
       "      <td>0</td>\n",
       "      <td>0</td>\n",
       "      <td>0</td>\n",
       "      <td>0</td>\n",
       "      <td>0</td>\n",
       "      <td>0</td>\n",
       "    </tr>\n",
       "    <tr>\n",
       "      <th>4</th>\n",
       "      <td>0</td>\n",
       "      <td>7</td>\n",
       "      <td>1</td>\n",
       "      <td>0.21</td>\n",
       "      <td>0</td>\n",
       "      <td>24.0</td>\n",
       "      <td>3.0</td>\n",
       "      <td>30.0</td>\n",
       "      <td>10.0</td>\n",
       "      <td>20.0</td>\n",
       "      <td>...</td>\n",
       "      <td>0</td>\n",
       "      <td>0</td>\n",
       "      <td>0</td>\n",
       "      <td>0</td>\n",
       "      <td>0</td>\n",
       "      <td>0</td>\n",
       "      <td>0</td>\n",
       "      <td>0</td>\n",
       "      <td>0</td>\n",
       "      <td>0</td>\n",
       "    </tr>\n",
       "    <tr>\n",
       "      <th>...</th>\n",
       "      <td>...</td>\n",
       "      <td>...</td>\n",
       "      <td>...</td>\n",
       "      <td>...</td>\n",
       "      <td>...</td>\n",
       "      <td>...</td>\n",
       "      <td>...</td>\n",
       "      <td>...</td>\n",
       "      <td>...</td>\n",
       "      <td>...</td>\n",
       "      <td>...</td>\n",
       "      <td>...</td>\n",
       "      <td>...</td>\n",
       "      <td>...</td>\n",
       "      <td>...</td>\n",
       "      <td>...</td>\n",
       "      <td>...</td>\n",
       "      <td>...</td>\n",
       "      <td>...</td>\n",
       "      <td>...</td>\n",
       "      <td>...</td>\n",
       "    </tr>\n",
       "    <tr>\n",
       "      <th>8350</th>\n",
       "      <td>1</td>\n",
       "      <td>19</td>\n",
       "      <td>0</td>\n",
       "      <td>0.48</td>\n",
       "      <td>0</td>\n",
       "      <td>24.0</td>\n",
       "      <td>2.0</td>\n",
       "      <td>10.0</td>\n",
       "      <td>15.0</td>\n",
       "      <td>30.0</td>\n",
       "      <td>...</td>\n",
       "      <td>0</td>\n",
       "      <td>0</td>\n",
       "      <td>0</td>\n",
       "      <td>0</td>\n",
       "      <td>0</td>\n",
       "      <td>0</td>\n",
       "      <td>0</td>\n",
       "      <td>0</td>\n",
       "      <td>0</td>\n",
       "      <td>0</td>\n",
       "    </tr>\n",
       "    <tr>\n",
       "      <th>8351</th>\n",
       "      <td>1</td>\n",
       "      <td>16</td>\n",
       "      <td>0</td>\n",
       "      <td>0.41</td>\n",
       "      <td>0</td>\n",
       "      <td>26.0</td>\n",
       "      <td>3.0</td>\n",
       "      <td>10.0</td>\n",
       "      <td>10.0</td>\n",
       "      <td>30.0</td>\n",
       "      <td>...</td>\n",
       "      <td>0</td>\n",
       "      <td>0</td>\n",
       "      <td>0</td>\n",
       "      <td>0</td>\n",
       "      <td>0</td>\n",
       "      <td>0</td>\n",
       "      <td>0</td>\n",
       "      <td>0</td>\n",
       "      <td>0</td>\n",
       "      <td>0</td>\n",
       "    </tr>\n",
       "    <tr>\n",
       "      <th>8352</th>\n",
       "      <td>1</td>\n",
       "      <td>15</td>\n",
       "      <td>0</td>\n",
       "      <td>0.29</td>\n",
       "      <td>0</td>\n",
       "      <td>24.0</td>\n",
       "      <td>6.0</td>\n",
       "      <td>50.0</td>\n",
       "      <td>20.0</td>\n",
       "      <td>10.0</td>\n",
       "      <td>...</td>\n",
       "      <td>0</td>\n",
       "      <td>0</td>\n",
       "      <td>0</td>\n",
       "      <td>0</td>\n",
       "      <td>0</td>\n",
       "      <td>0</td>\n",
       "      <td>0</td>\n",
       "      <td>0</td>\n",
       "      <td>0</td>\n",
       "      <td>0</td>\n",
       "    </tr>\n",
       "    <tr>\n",
       "      <th>8354</th>\n",
       "      <td>1</td>\n",
       "      <td>5</td>\n",
       "      <td>0</td>\n",
       "      <td>0.09</td>\n",
       "      <td>0</td>\n",
       "      <td>22.0</td>\n",
       "      <td>4.0</td>\n",
       "      <td>10.0</td>\n",
       "      <td>25.0</td>\n",
       "      <td>25.0</td>\n",
       "      <td>...</td>\n",
       "      <td>0</td>\n",
       "      <td>0</td>\n",
       "      <td>0</td>\n",
       "      <td>0</td>\n",
       "      <td>0</td>\n",
       "      <td>0</td>\n",
       "      <td>0</td>\n",
       "      <td>0</td>\n",
       "      <td>0</td>\n",
       "      <td>0</td>\n",
       "    </tr>\n",
       "    <tr>\n",
       "      <th>8355</th>\n",
       "      <td>1</td>\n",
       "      <td>4</td>\n",
       "      <td>0</td>\n",
       "      <td>-0.32</td>\n",
       "      <td>0</td>\n",
       "      <td>22.0</td>\n",
       "      <td>4.0</td>\n",
       "      <td>20.0</td>\n",
       "      <td>20.0</td>\n",
       "      <td>10.0</td>\n",
       "      <td>...</td>\n",
       "      <td>0</td>\n",
       "      <td>0</td>\n",
       "      <td>0</td>\n",
       "      <td>0</td>\n",
       "      <td>0</td>\n",
       "      <td>0</td>\n",
       "      <td>0</td>\n",
       "      <td>0</td>\n",
       "      <td>0</td>\n",
       "      <td>0</td>\n",
       "    </tr>\n",
       "  </tbody>\n",
       "</table>\n",
       "<p>5135 rows × 187 columns</p>\n",
       "</div>"
      ],
      "text/plain": [
       "      gender  order  match  sim_int_pct  samerace  age_partner  race_partner  \\\n",
       "0          0      4      0         0.14         0         27.0           2.0   \n",
       "1          0      3      0         0.54         0         22.0           2.0   \n",
       "2          0     10      1         0.16         1         22.0           4.0   \n",
       "3          0      5      1         0.61         0         23.0           2.0   \n",
       "4          0      7      1         0.21         0         24.0           3.0   \n",
       "...      ...    ...    ...          ...       ...          ...           ...   \n",
       "8350       1     19      0         0.48         0         24.0           2.0   \n",
       "8351       1     16      0         0.41         0         26.0           3.0   \n",
       "8352       1     15      0         0.29         0         24.0           6.0   \n",
       "8354       1      5      0         0.09         0         22.0           4.0   \n",
       "8355       1      4      0        -0.32         0         22.0           4.0   \n",
       "\n",
       "      pf_o_att  pref_sincerity  Pref_intell  ...  \\\n",
       "0         35.0            20.0         20.0  ...   \n",
       "1         60.0             0.0          0.0  ...   \n",
       "2         19.0            18.0         19.0  ...   \n",
       "3         30.0             5.0         15.0  ...   \n",
       "4         30.0            10.0         20.0  ...   \n",
       "...        ...             ...          ...  ...   \n",
       "8350      10.0            15.0         30.0  ...   \n",
       "8351      10.0            10.0         30.0  ...   \n",
       "8352      50.0            20.0         10.0  ...   \n",
       "8354      10.0            25.0         25.0  ...   \n",
       "8355      20.0            20.0         10.0  ...   \n",
       "\n",
       "      undergra_colby college, waterville, me  undergra_harvard  \\\n",
       "0                                          0                 0   \n",
       "1                                          0                 0   \n",
       "2                                          0                 0   \n",
       "3                                          0                 0   \n",
       "4                                          0                 0   \n",
       "...                                      ...               ...   \n",
       "8350                                       0                 0   \n",
       "8351                                       0                 0   \n",
       "8352                                       0                 0   \n",
       "8354                                       0                 0   \n",
       "8355                                       0                 0   \n",
       "\n",
       "      undergra_marymount manhattan college  undergra_nyu  undergra_oberlin  \\\n",
       "0                                        0             0                 0   \n",
       "1                                        0             0                 0   \n",
       "2                                        0             0                 0   \n",
       "3                                        0             0                 0   \n",
       "4                                        0             0                 0   \n",
       "...                                    ...           ...               ...   \n",
       "8350                                     0             0                 0   \n",
       "8351                                     0             0                 0   \n",
       "8352                                     0             0                 0   \n",
       "8354                                     0             0                 0   \n",
       "8355                                     0             0                 0   \n",
       "\n",
       "      undergra_u of southern california, economics  undergra_ucla  \\\n",
       "0                                                0              0   \n",
       "1                                                0              0   \n",
       "2                                                0              0   \n",
       "3                                                0              0   \n",
       "4                                                0              0   \n",
       "...                                            ...            ...   \n",
       "8350                                             0              0   \n",
       "8351                                             0              0   \n",
       "8352                                             0              0   \n",
       "8354                                             0              0   \n",
       "8355                                             0              0   \n",
       "\n",
       "      undergra_umass  undergra_university of pennsylvania  \\\n",
       "0                  0                                    0   \n",
       "1                  0                                    0   \n",
       "2                  0                                    0   \n",
       "3                  0                                    0   \n",
       "4                  0                                    0   \n",
       "...              ...                                  ...   \n",
       "8350               0                                    0   \n",
       "8351               0                                    0   \n",
       "8352               0                                    0   \n",
       "8354               0                                    0   \n",
       "8355               0                                    0   \n",
       "\n",
       "      undergra_wellesley college  \n",
       "0                              0  \n",
       "1                              0  \n",
       "2                              0  \n",
       "3                              0  \n",
       "4                              0  \n",
       "...                          ...  \n",
       "8350                           0  \n",
       "8351                           0  \n",
       "8352                           0  \n",
       "8354                           0  \n",
       "8355                           0  \n",
       "\n",
       "[5135 rows x 187 columns]"
      ]
     },
     "execution_count": 6,
     "metadata": {},
     "output_type": "execute_result"
    }
   ],
   "source": [
    "df2 = df.dropna()\n",
    "df2 = pd.get_dummies(df2, columns = [\"undergra\"])\n",
    "df2"
   ]
  },
  {
   "cell_type": "code",
   "execution_count": 7,
   "metadata": {},
   "outputs": [],
   "source": [
    "def string_to_number(val):\n",
    "    return int(''.join(filter(str.isdigit, val)))"
   ]
  },
  {
   "cell_type": "code",
   "execution_count": 8,
   "metadata": {},
   "outputs": [],
   "source": [
    "df2[\"mn_sat\"] = df2[\"mn_sat\"].map(string_to_number)"
   ]
  },
  {
   "cell_type": "code",
   "execution_count": 9,
   "metadata": {},
   "outputs": [],
   "source": [
    "df2[\"tuition\"] = df2[\"tuition\"].map(string_to_number)"
   ]
  },
  {
   "cell_type": "code",
   "execution_count": 10,
   "metadata": {},
   "outputs": [],
   "source": [
    "df2[\"income\"] = df2[\"income\"].map(string_to_number)"
   ]
  },
  {
   "cell_type": "code",
   "execution_count": 11,
   "metadata": {},
   "outputs": [],
   "source": [
    "df_male = df2.loc[df2[\"gender\"]==1]\n",
    "df_female = df2.loc[df2[\"gender\"]==0]"
   ]
  },
  {
   "cell_type": "code",
   "execution_count": 12,
   "metadata": {},
   "outputs": [],
   "source": [
    "X = df2.drop(columns = 'match')\n",
    "y = df2[\"match\"]\n",
    "X_male = df_male.drop(columns = ['match' , \"gender\"])\n",
    "y_male = df_male[\"match\"]\n",
    "X_female = df_female.drop(columns = ['match' , \"gender\"])\n",
    "y_female = df_female[\"match\"]"
   ]
  },
  {
   "cell_type": "code",
   "execution_count": 13,
   "metadata": {},
   "outputs": [],
   "source": [
    "X_male_train, X_male_test, y_male_train, y_male_test = train_test_split(X_male, y_male, random_state=42)\n",
    "X_female_train, X_female_test, y_female_train, y_female_test = train_test_split(X_female, y_female, random_state=42)"
   ]
  },
  {
   "cell_type": "code",
   "execution_count": 14,
   "metadata": {},
   "outputs": [],
   "source": [
    "X_train, X_test, y_train, y_test = train_test_split(X, y, random_state=42)"
   ]
  },
  {
   "cell_type": "code",
   "execution_count": 15,
   "metadata": {
    "scrolled": false
   },
   "outputs": [
    {
     "data": {
      "text/plain": [
       "0.8598130841121495"
      ]
     },
     "execution_count": 15,
     "metadata": {},
     "output_type": "execute_result"
    }
   ],
   "source": [
    "rf = RandomForestClassifier(n_estimators=200)\n",
    "rf = rf.fit(X_train, y_train)\n",
    "rf.score(X_test, y_test)"
   ]
  },
  {
   "cell_type": "code",
   "execution_count": 16,
   "metadata": {},
   "outputs": [
    {
     "data": {
      "text/plain": [
       "0.8708551483420593"
      ]
     },
     "execution_count": 16,
     "metadata": {},
     "output_type": "execute_result"
    }
   ],
   "source": [
    "rf_male = RandomForestClassifier(n_estimators=200)\n",
    "rf_male = rf_male.fit(X_male_train, y_male_train)\n",
    "rf_male.score(X_male_test, y_male_test)"
   ]
  },
  {
   "cell_type": "code",
   "execution_count": 17,
   "metadata": {},
   "outputs": [
    {
     "data": {
      "text/plain": [
       "0.8537271448663853"
      ]
     },
     "execution_count": 17,
     "metadata": {},
     "output_type": "execute_result"
    }
   ],
   "source": [
    "rf_female = RandomForestClassifier(n_estimators=200)\n",
    "rf_female = rf_female.fit(X_female_train, y_female_train)\n",
    "rf_female.score(X_female_test, y_female_test)"
   ]
  },
  {
   "cell_type": "code",
   "execution_count": 18,
   "metadata": {},
   "outputs": [
    {
     "data": {
      "text/plain": [
       "gender                                            int64\n",
       "order                                             int64\n",
       "match                                             int64\n",
       "sim_int_pct                                     float64\n",
       "samerace                                          int64\n",
       "                                                 ...   \n",
       "undergra_u of southern california, economics      uint8\n",
       "undergra_ucla                                     uint8\n",
       "undergra_umass                                    uint8\n",
       "undergra_university of pennsylvania               uint8\n",
       "undergra_wellesley college                        uint8\n",
       "Length: 187, dtype: object"
      ]
     },
     "execution_count": 18,
     "metadata": {},
     "output_type": "execute_result"
    }
   ],
   "source": [
    "# pd.set_option('display.max_columns', None)\n",
    "# pd.set_option('display.max_rows', None)\n",
    "df2.dtypes\n"
   ]
  },
  {
   "cell_type": "code",
   "execution_count": 19,
   "metadata": {},
   "outputs": [
    {
     "data": {
      "text/plain": [
       "array([4.86325734e-03, 2.60357380e-02, 3.02878543e-02, 5.95284810e-03,\n",
       "       2.18283279e-02, 1.27472213e-02, 2.26900003e-02, 2.27811280e-02,\n",
       "       2.12055391e-02, 2.16241074e-02, 2.33844813e-02, 2.34721714e-02,\n",
       "       1.22799990e-01, 3.09325766e-02, 1.61006883e-02, 1.72160637e-02,\n",
       "       2.87673448e-02, 1.74669325e-02, 2.96013807e-02, 3.84066334e-02,\n",
       "       3.30762912e-02, 1.13014432e-02, 1.56376752e-02, 1.52884262e-02,\n",
       "       1.05963496e-02, 1.09508431e-02, 8.67109125e-03, 1.42735867e-02,\n",
       "       1.24400597e-02, 1.60317101e-02, 8.98899324e-03, 1.24927465e-02,\n",
       "       8.98388594e-03, 1.26808872e-02, 1.36820771e-02, 1.38962907e-02,\n",
       "       1.47030924e-02, 1.09590754e-02, 1.18038892e-02, 1.23559180e-02,\n",
       "       1.52947715e-02, 1.30612458e-02, 1.37538218e-02, 1.19400316e-02,\n",
       "       1.25581390e-02, 1.28745930e-02, 1.08652543e-02, 1.44615909e-02,\n",
       "       1.34554822e-02, 1.38025177e-02, 1.30000494e-02, 1.30163464e-02,\n",
       "       1.04541108e-04, 3.60510206e-04, 9.69370094e-07, 3.96146253e-04,\n",
       "       2.95455075e-04, 4.26713037e-07, 4.91259127e-05, 1.06758768e-03,\n",
       "       8.92476884e-05, 1.78420027e-04, 4.91364450e-04, 2.51659344e-04,\n",
       "       8.23827554e-05, 3.02889689e-04, 4.83833253e-05, 6.95205322e-05,\n",
       "       2.94648370e-05, 6.65191275e-04, 2.14064125e-04, 5.76551595e-04,\n",
       "       2.22403941e-03, 2.32686382e-04, 1.41418597e-04, 5.33471699e-05,\n",
       "       6.56592593e-04, 1.62314282e-04, 1.18911577e-04, 1.35328596e-05,\n",
       "       2.34010439e-04, 6.00339701e-04, 1.32422625e-04, 1.86879314e-08,\n",
       "       1.07298623e-05, 2.17467042e-04, 2.19742985e-04, 7.81848600e-05,\n",
       "       9.96840657e-04, 2.34305601e-06, 1.59066656e-04, 2.04995006e-04,\n",
       "       6.48227103e-04, 9.19190774e-05, 1.42429098e-04, 6.80570860e-07,\n",
       "       5.20408522e-06, 8.68133761e-04, 2.46650957e-04, 1.40033198e-04,\n",
       "       4.99533719e-04, 1.57896753e-04, 3.97777758e-05, 8.73160400e-04,\n",
       "       1.38159729e-04, 2.89281007e-05, 1.61226255e-04, 3.09443389e-04,\n",
       "       6.28695586e-05, 9.43466606e-05, 3.10646140e-04, 3.78678332e-04,\n",
       "       1.35216187e-04, 1.98392466e-05, 1.10142995e-04, 8.32526190e-06,\n",
       "       1.17770073e-04, 1.48635043e-04, 5.51056842e-04, 4.74664712e-05,\n",
       "       1.88545886e-04, 5.57511984e-05, 2.22543336e-04, 4.69422146e-05,\n",
       "       8.44131458e-06, 0.00000000e+00, 2.04945364e-06, 4.63750781e-05,\n",
       "       1.47157312e-04, 9.33160627e-04, 1.33745820e-05, 1.51063749e-04,\n",
       "       3.54021264e-05, 3.36483616e-04, 7.03907735e-05, 2.17442410e-04,\n",
       "       5.91828035e-05, 2.07113336e-05, 2.11163191e-04, 9.36728661e-05,\n",
       "       2.24662427e-04, 1.06041997e-03, 5.87877900e-06, 6.70480366e-06,\n",
       "       4.80200640e-05, 2.14231021e-04, 4.75438663e-08, 7.54543698e-05,\n",
       "       2.53915064e-05, 3.07750391e-03, 2.81393185e-04, 4.04919507e-04,\n",
       "       1.10584434e-05, 3.01627464e-04, 2.08167935e-05, 1.64801689e-04,\n",
       "       1.14244142e-04, 5.10184335e-04, 0.00000000e+00, 7.65795424e-05,\n",
       "       1.85998696e-04, 1.07486056e-04, 4.55536016e-04, 1.92197851e-08,\n",
       "       5.25848248e-04, 6.45043947e-05, 4.34000328e-04, 4.31245504e-05,\n",
       "       1.51913428e-04, 2.80399581e-04, 2.52669617e-04, 4.78506926e-04,\n",
       "       3.28139584e-04, 4.38529593e-04, 1.51473830e-03, 3.18721612e-04,\n",
       "       4.17158457e-04, 3.20748378e-04, 2.08848575e-05, 1.45544299e-05,\n",
       "       1.82342868e-06, 1.10776415e-04, 5.87954469e-04, 2.31238828e-05,\n",
       "       1.75653450e-04, 1.31629680e-04])"
      ]
     },
     "execution_count": 19,
     "metadata": {},
     "output_type": "execute_result"
    }
   ],
   "source": [
    "importances = rf.feature_importances_\n",
    "importances"
   ]
  },
  {
   "cell_type": "code",
   "execution_count": 20,
   "metadata": {},
   "outputs": [],
   "source": [
    "def round_Feature (x):\n",
    "    return round(x,6)*100"
   ]
  },
  {
   "cell_type": "markdown",
   "metadata": {},
   "source": [
    "## Overall Features"
   ]
  },
  {
   "cell_type": "code",
   "execution_count": 93,
   "metadata": {},
   "outputs": [
    {
     "data": {
      "text/html": [
       "<div>\n",
       "<style scoped>\n",
       "    .dataframe tbody tr th:only-of-type {\n",
       "        vertical-align: middle;\n",
       "    }\n",
       "\n",
       "    .dataframe tbody tr th {\n",
       "        vertical-align: top;\n",
       "    }\n",
       "\n",
       "    .dataframe thead th {\n",
       "        text-align: right;\n",
       "    }\n",
       "</style>\n",
       "<table border=\"1\" class=\"dataframe\">\n",
       "  <thead>\n",
       "    <tr style=\"text-align: right;\">\n",
       "      <th></th>\n",
       "      <th>Feature_Percentage</th>\n",
       "      <th>Feature</th>\n",
       "    </tr>\n",
       "  </thead>\n",
       "  <tbody>\n",
       "    <tr>\n",
       "      <th>0</th>\n",
       "      <td>12.2800</td>\n",
       "      <td>dec_partner</td>\n",
       "    </tr>\n",
       "    <tr>\n",
       "      <th>1</th>\n",
       "      <td>3.8407</td>\n",
       "      <td>likeness_partner</td>\n",
       "    </tr>\n",
       "    <tr>\n",
       "      <th>2</th>\n",
       "      <td>3.3076</td>\n",
       "      <td>partner_says_yes</td>\n",
       "    </tr>\n",
       "    <tr>\n",
       "      <th>3</th>\n",
       "      <td>3.0933</td>\n",
       "      <td>overall_attr_partner</td>\n",
       "    </tr>\n",
       "    <tr>\n",
       "      <th>4</th>\n",
       "      <td>3.0288</td>\n",
       "      <td>sim_int_pct</td>\n",
       "    </tr>\n",
       "    <tr>\n",
       "      <th>5</th>\n",
       "      <td>2.9601</td>\n",
       "      <td>shar_of_partner</td>\n",
       "    </tr>\n",
       "    <tr>\n",
       "      <th>6</th>\n",
       "      <td>2.8767</td>\n",
       "      <td>fun_of_partner</td>\n",
       "    </tr>\n",
       "    <tr>\n",
       "      <th>7</th>\n",
       "      <td>2.6036</td>\n",
       "      <td>order</td>\n",
       "    </tr>\n",
       "    <tr>\n",
       "      <th>8</th>\n",
       "      <td>2.3472</td>\n",
       "      <td>pref_shared_int</td>\n",
       "    </tr>\n",
       "    <tr>\n",
       "      <th>9</th>\n",
       "      <td>2.3384</td>\n",
       "      <td>pref_ambiton</td>\n",
       "    </tr>\n",
       "    <tr>\n",
       "      <th>10</th>\n",
       "      <td>2.2781</td>\n",
       "      <td>pref_sincerity</td>\n",
       "    </tr>\n",
       "    <tr>\n",
       "      <th>11</th>\n",
       "      <td>2.2690</td>\n",
       "      <td>pf_o_att</td>\n",
       "    </tr>\n",
       "    <tr>\n",
       "      <th>12</th>\n",
       "      <td>2.1828</td>\n",
       "      <td>age_partner</td>\n",
       "    </tr>\n",
       "    <tr>\n",
       "      <th>13</th>\n",
       "      <td>2.1624</td>\n",
       "      <td>pref_fun</td>\n",
       "    </tr>\n",
       "    <tr>\n",
       "      <th>14</th>\n",
       "      <td>2.1206</td>\n",
       "      <td>Pref_intell</td>\n",
       "    </tr>\n",
       "    <tr>\n",
       "      <th>15</th>\n",
       "      <td>1.7467</td>\n",
       "      <td>amb_of_partner</td>\n",
       "    </tr>\n",
       "    <tr>\n",
       "      <th>16</th>\n",
       "      <td>1.7216</td>\n",
       "      <td>intel_of_partner</td>\n",
       "    </tr>\n",
       "    <tr>\n",
       "      <th>17</th>\n",
       "      <td>1.6101</td>\n",
       "      <td>sinc_of_partner</td>\n",
       "    </tr>\n",
       "    <tr>\n",
       "      <th>18</th>\n",
       "      <td>1.6032</td>\n",
       "      <td>income</td>\n",
       "    </tr>\n",
       "    <tr>\n",
       "      <th>19</th>\n",
       "      <td>1.5638</td>\n",
       "      <td>age_subject</td>\n",
       "    </tr>\n",
       "    <tr>\n",
       "      <th>20</th>\n",
       "      <td>1.5295</td>\n",
       "      <td>hiking</td>\n",
       "    </tr>\n",
       "    <tr>\n",
       "      <th>21</th>\n",
       "      <td>1.5288</td>\n",
       "      <td>field_cd</td>\n",
       "    </tr>\n",
       "    <tr>\n",
       "      <th>22</th>\n",
       "      <td>1.4703</td>\n",
       "      <td>exercise</td>\n",
       "    </tr>\n",
       "    <tr>\n",
       "      <th>23</th>\n",
       "      <td>1.4462</td>\n",
       "      <td>concerts</td>\n",
       "    </tr>\n",
       "    <tr>\n",
       "      <th>24</th>\n",
       "      <td>1.4274</td>\n",
       "      <td>imprace</td>\n",
       "    </tr>\n",
       "    <tr>\n",
       "      <th>25</th>\n",
       "      <td>1.3896</td>\n",
       "      <td>tvsports</td>\n",
       "    </tr>\n",
       "    <tr>\n",
       "      <th>26</th>\n",
       "      <td>1.3803</td>\n",
       "      <td>shopping</td>\n",
       "    </tr>\n",
       "    <tr>\n",
       "      <th>27</th>\n",
       "      <td>1.3754</td>\n",
       "      <td>clubbing</td>\n",
       "    </tr>\n",
       "    <tr>\n",
       "      <th>28</th>\n",
       "      <td>1.3682</td>\n",
       "      <td>sports</td>\n",
       "    </tr>\n",
       "    <tr>\n",
       "      <th>29</th>\n",
       "      <td>1.3455</td>\n",
       "      <td>music</td>\n",
       "    </tr>\n",
       "  </tbody>\n",
       "</table>\n",
       "</div>"
      ],
      "text/plain": [
       "    Feature_Percentage               Feature\n",
       "0              12.2800           dec_partner\n",
       "1               3.8407      likeness_partner\n",
       "2               3.3076      partner_says_yes\n",
       "3               3.0933  overall_attr_partner\n",
       "4               3.0288           sim_int_pct\n",
       "5               2.9601       shar_of_partner\n",
       "6               2.8767        fun_of_partner\n",
       "7               2.6036                 order\n",
       "8               2.3472       pref_shared_int\n",
       "9               2.3384          pref_ambiton\n",
       "10              2.2781        pref_sincerity\n",
       "11              2.2690              pf_o_att\n",
       "12              2.1828           age_partner\n",
       "13              2.1624              pref_fun\n",
       "14              2.1206           Pref_intell\n",
       "15              1.7467        amb_of_partner\n",
       "16              1.7216      intel_of_partner\n",
       "17              1.6101       sinc_of_partner\n",
       "18              1.6032                income\n",
       "19              1.5638           age_subject\n",
       "20              1.5295                hiking\n",
       "21              1.5288              field_cd\n",
       "22              1.4703              exercise\n",
       "23              1.4462              concerts\n",
       "24              1.4274               imprace\n",
       "25              1.3896              tvsports\n",
       "26              1.3803              shopping\n",
       "27              1.3754              clubbing\n",
       "28              1.3682                sports\n",
       "29              1.3455                 music"
      ]
     },
     "execution_count": 93,
     "metadata": {},
     "output_type": "execute_result"
    }
   ],
   "source": [
    "# Import Model for all Match Data\n",
    "features_of_importance = sorted(zip(rf.feature_importances_, X.columns), reverse=True)\n",
    "feature_df = pd.DataFrame(features_of_importance, columns=[\"Feature_Percentage\" , \"Feature\"])\n",
    "feature_df[\"Feature_Percentage\"] = feature_df[\"Feature_Percentage\"].map(round_Feature)\n",
    "feature_df = feature_df.head(30)\n",
    "feature_df"
   ]
  },
  {
   "cell_type": "code",
   "execution_count": 95,
   "metadata": {},
   "outputs": [
    {
     "data": {
      "text/html": [
       "<div>\n",
       "<style scoped>\n",
       "    .dataframe tbody tr th:only-of-type {\n",
       "        vertical-align: middle;\n",
       "    }\n",
       "\n",
       "    .dataframe tbody tr th {\n",
       "        vertical-align: top;\n",
       "    }\n",
       "\n",
       "    .dataframe thead th {\n",
       "        text-align: right;\n",
       "    }\n",
       "</style>\n",
       "<table border=\"1\" class=\"dataframe\">\n",
       "  <thead>\n",
       "    <tr style=\"text-align: right;\">\n",
       "      <th></th>\n",
       "      <th>Feature_Percentage</th>\n",
       "      <th>Feature</th>\n",
       "    </tr>\n",
       "  </thead>\n",
       "  <tbody>\n",
       "    <tr>\n",
       "      <th>0</th>\n",
       "      <td>3.8407</td>\n",
       "      <td>likeness_partner</td>\n",
       "    </tr>\n",
       "    <tr>\n",
       "      <th>1</th>\n",
       "      <td>3.0933</td>\n",
       "      <td>overall_attr_partner</td>\n",
       "    </tr>\n",
       "    <tr>\n",
       "      <th>2</th>\n",
       "      <td>2.9601</td>\n",
       "      <td>shar_of_partner</td>\n",
       "    </tr>\n",
       "    <tr>\n",
       "      <th>3</th>\n",
       "      <td>2.8767</td>\n",
       "      <td>fun_of_partner</td>\n",
       "    </tr>\n",
       "    <tr>\n",
       "      <th>4</th>\n",
       "      <td>2.1828</td>\n",
       "      <td>age_partner</td>\n",
       "    </tr>\n",
       "    <tr>\n",
       "      <th>5</th>\n",
       "      <td>1.7467</td>\n",
       "      <td>amb_of_partner</td>\n",
       "    </tr>\n",
       "    <tr>\n",
       "      <th>6</th>\n",
       "      <td>1.7216</td>\n",
       "      <td>intel_of_partner</td>\n",
       "    </tr>\n",
       "    <tr>\n",
       "      <th>7</th>\n",
       "      <td>1.6101</td>\n",
       "      <td>sinc_of_partner</td>\n",
       "    </tr>\n",
       "    <tr>\n",
       "      <th>8</th>\n",
       "      <td>1.6032</td>\n",
       "      <td>income</td>\n",
       "    </tr>\n",
       "    <tr>\n",
       "      <th>9</th>\n",
       "      <td>1.5638</td>\n",
       "      <td>age_subject</td>\n",
       "    </tr>\n",
       "  </tbody>\n",
       "</table>\n",
       "</div>"
      ],
      "text/plain": [
       "   Feature_Percentage               Feature\n",
       "0              3.8407      likeness_partner\n",
       "1              3.0933  overall_attr_partner\n",
       "2              2.9601       shar_of_partner\n",
       "3              2.8767        fun_of_partner\n",
       "4              2.1828           age_partner\n",
       "5              1.7467        amb_of_partner\n",
       "6              1.7216      intel_of_partner\n",
       "7              1.6101       sinc_of_partner\n",
       "8              1.6032                income\n",
       "9              1.5638           age_subject"
      ]
     },
     "execution_count": 95,
     "metadata": {},
     "output_type": "execute_result"
    }
   ],
   "source": [
    "\n",
    "feature_df = feature_df[~feature_df.Feature.str.contains('dec')]\n",
    "feature_df = feature_df[~feature_df.Feature.str.contains('yes')]\n",
    "feature_df = feature_df[~feature_df.Feature.str.contains('pf_o_att')]\n",
    "feature_df = feature_df[~feature_df.Feature.str.contains('order')]\n",
    "feature_df = feature_df[~feature_df.Feature.str.contains('pref', case=False)]\n",
    "feature_df = feature_df[~feature_df.Feature.str.contains('tv')]\n",
    "feature_df = feature_df[~feature_df.Feature.str.contains('yoga')]\n",
    "feature_df = feature_df[~feature_df.Feature.str.contains('sim_int')]\n",
    "\n",
    "# Top 8 Overall Features that increase chances of Match\n",
    "top_feature_df = feature_df.head(10)\n",
    "top_feature_df = top_feature_df.reset_index(drop = True)\n",
    "top_feature_df"
   ]
  },
  {
   "cell_type": "code",
   "execution_count": null,
   "metadata": {},
   "outputs": [],
   "source": []
  },
  {
   "cell_type": "markdown",
   "metadata": {},
   "source": [
    "## Male Features"
   ]
  },
  {
   "cell_type": "code",
   "execution_count": 96,
   "metadata": {},
   "outputs": [
    {
     "data": {
      "text/html": [
       "<div>\n",
       "<style scoped>\n",
       "    .dataframe tbody tr th:only-of-type {\n",
       "        vertical-align: middle;\n",
       "    }\n",
       "\n",
       "    .dataframe tbody tr th {\n",
       "        vertical-align: top;\n",
       "    }\n",
       "\n",
       "    .dataframe thead th {\n",
       "        text-align: right;\n",
       "    }\n",
       "</style>\n",
       "<table border=\"1\" class=\"dataframe\">\n",
       "  <thead>\n",
       "    <tr style=\"text-align: right;\">\n",
       "      <th></th>\n",
       "      <th>Feature_Percentage</th>\n",
       "      <th>Feature</th>\n",
       "    </tr>\n",
       "  </thead>\n",
       "  <tbody>\n",
       "    <tr>\n",
       "      <th>0</th>\n",
       "      <td>14.8394</td>\n",
       "      <td>dec_partner</td>\n",
       "    </tr>\n",
       "    <tr>\n",
       "      <th>1</th>\n",
       "      <td>4.3569</td>\n",
       "      <td>partner_says_yes</td>\n",
       "    </tr>\n",
       "    <tr>\n",
       "      <th>2</th>\n",
       "      <td>3.4898</td>\n",
       "      <td>likeness_partner</td>\n",
       "    </tr>\n",
       "    <tr>\n",
       "      <th>3</th>\n",
       "      <td>3.1888</td>\n",
       "      <td>fun_of_partner</td>\n",
       "    </tr>\n",
       "    <tr>\n",
       "      <th>4</th>\n",
       "      <td>3.0844</td>\n",
       "      <td>shar_of_partner</td>\n",
       "    </tr>\n",
       "    <tr>\n",
       "      <th>5</th>\n",
       "      <td>2.9708</td>\n",
       "      <td>overall_attr_partner</td>\n",
       "    </tr>\n",
       "    <tr>\n",
       "      <th>6</th>\n",
       "      <td>2.7938</td>\n",
       "      <td>sim_int_pct</td>\n",
       "    </tr>\n",
       "    <tr>\n",
       "      <th>7</th>\n",
       "      <td>2.4957</td>\n",
       "      <td>order</td>\n",
       "    </tr>\n",
       "    <tr>\n",
       "      <th>8</th>\n",
       "      <td>2.2800</td>\n",
       "      <td>pref_shared_int</td>\n",
       "    </tr>\n",
       "    <tr>\n",
       "      <th>9</th>\n",
       "      <td>2.2252</td>\n",
       "      <td>Pref_intell</td>\n",
       "    </tr>\n",
       "    <tr>\n",
       "      <th>10</th>\n",
       "      <td>2.1917</td>\n",
       "      <td>pref_ambiton</td>\n",
       "    </tr>\n",
       "    <tr>\n",
       "      <th>11</th>\n",
       "      <td>2.1798</td>\n",
       "      <td>age_partner</td>\n",
       "    </tr>\n",
       "    <tr>\n",
       "      <th>12</th>\n",
       "      <td>2.1791</td>\n",
       "      <td>pref_fun</td>\n",
       "    </tr>\n",
       "    <tr>\n",
       "      <th>13</th>\n",
       "      <td>2.1553</td>\n",
       "      <td>pref_sincerity</td>\n",
       "    </tr>\n",
       "    <tr>\n",
       "      <th>14</th>\n",
       "      <td>2.0920</td>\n",
       "      <td>pf_o_att</td>\n",
       "    </tr>\n",
       "    <tr>\n",
       "      <th>15</th>\n",
       "      <td>1.9085</td>\n",
       "      <td>sinc_of_partner</td>\n",
       "    </tr>\n",
       "    <tr>\n",
       "      <th>16</th>\n",
       "      <td>1.7938</td>\n",
       "      <td>amb_of_partner</td>\n",
       "    </tr>\n",
       "    <tr>\n",
       "      <th>17</th>\n",
       "      <td>1.7063</td>\n",
       "      <td>intel_of_partner</td>\n",
       "    </tr>\n",
       "    <tr>\n",
       "      <th>18</th>\n",
       "      <td>1.6356</td>\n",
       "      <td>yoga</td>\n",
       "    </tr>\n",
       "    <tr>\n",
       "      <th>19</th>\n",
       "      <td>1.5310</td>\n",
       "      <td>age_subject</td>\n",
       "    </tr>\n",
       "    <tr>\n",
       "      <th>20</th>\n",
       "      <td>1.4514</td>\n",
       "      <td>sports</td>\n",
       "    </tr>\n",
       "    <tr>\n",
       "      <th>21</th>\n",
       "      <td>1.4449</td>\n",
       "      <td>date</td>\n",
       "    </tr>\n",
       "    <tr>\n",
       "      <th>22</th>\n",
       "      <td>1.4023</td>\n",
       "      <td>race_partner</td>\n",
       "    </tr>\n",
       "    <tr>\n",
       "      <th>23</th>\n",
       "      <td>1.3415</td>\n",
       "      <td>concerts</td>\n",
       "    </tr>\n",
       "    <tr>\n",
       "      <th>24</th>\n",
       "      <td>1.3388</td>\n",
       "      <td>tvsports</td>\n",
       "    </tr>\n",
       "    <tr>\n",
       "      <th>25</th>\n",
       "      <td>1.3187</td>\n",
       "      <td>hiking</td>\n",
       "    </tr>\n",
       "    <tr>\n",
       "      <th>26</th>\n",
       "      <td>1.3172</td>\n",
       "      <td>art</td>\n",
       "    </tr>\n",
       "    <tr>\n",
       "      <th>27</th>\n",
       "      <td>1.3085</td>\n",
       "      <td>exercise</td>\n",
       "    </tr>\n",
       "    <tr>\n",
       "      <th>28</th>\n",
       "      <td>1.3059</td>\n",
       "      <td>music</td>\n",
       "    </tr>\n",
       "    <tr>\n",
       "      <th>29</th>\n",
       "      <td>1.2966</td>\n",
       "      <td>imprace</td>\n",
       "    </tr>\n",
       "  </tbody>\n",
       "</table>\n",
       "</div>"
      ],
      "text/plain": [
       "    Feature_Percentage               Feature\n",
       "0              14.8394           dec_partner\n",
       "1               4.3569      partner_says_yes\n",
       "2               3.4898      likeness_partner\n",
       "3               3.1888        fun_of_partner\n",
       "4               3.0844       shar_of_partner\n",
       "5               2.9708  overall_attr_partner\n",
       "6               2.7938           sim_int_pct\n",
       "7               2.4957                 order\n",
       "8               2.2800       pref_shared_int\n",
       "9               2.2252           Pref_intell\n",
       "10              2.1917          pref_ambiton\n",
       "11              2.1798           age_partner\n",
       "12              2.1791              pref_fun\n",
       "13              2.1553        pref_sincerity\n",
       "14              2.0920              pf_o_att\n",
       "15              1.9085       sinc_of_partner\n",
       "16              1.7938        amb_of_partner\n",
       "17              1.7063      intel_of_partner\n",
       "18              1.6356                  yoga\n",
       "19              1.5310           age_subject\n",
       "20              1.4514                sports\n",
       "21              1.4449                  date\n",
       "22              1.4023          race_partner\n",
       "23              1.3415              concerts\n",
       "24              1.3388              tvsports\n",
       "25              1.3187                hiking\n",
       "26              1.3172                   art\n",
       "27              1.3085              exercise\n",
       "28              1.3059                 music\n",
       "29              1.2966               imprace"
      ]
     },
     "execution_count": 96,
     "metadata": {},
     "output_type": "execute_result"
    }
   ],
   "source": [
    "# Import Model for Male Match Data\n",
    "\n",
    "male_features_of_importance = sorted(zip(rf_male.feature_importances_, X_male.columns), reverse=True)\n",
    "male_feature_df = pd.DataFrame(male_features_of_importance, columns=[\"Feature_Percentage\" , \"Feature\"])\n",
    "male_feature_df[\"Feature_Percentage\"] = male_feature_df[\"Feature_Percentage\"].map(round_Feature)\n",
    "male_feature_df = male_feature_df.head(30)\n",
    "male_feature_df"
   ]
  },
  {
   "cell_type": "code",
   "execution_count": 97,
   "metadata": {},
   "outputs": [],
   "source": [
    "# Filter out non-attribute features\n",
    "male_feature_df = male_feature_df[~male_feature_df.Feature.str.contains('dec')]\n",
    "male_feature_df = male_feature_df[~male_feature_df.Feature.str.contains('yes')]\n",
    "male_feature_df = male_feature_df[~male_feature_df.Feature.str.contains('pf_o_att')]\n",
    "male_feature_df = male_feature_df[~male_feature_df.Feature.str.contains('order')]\n",
    "male_feature_df = male_feature_df[~male_feature_df.Feature.str.contains('pref', case=False)]\n",
    "male_feature_df = male_feature_df[~male_feature_df.Feature.str.contains('tv')]\n",
    "male_feature_df = male_feature_df[~male_feature_df.Feature.str.contains('yoga')]\n",
    "male_feature_df = male_feature_df[~male_feature_df.Feature.str.contains('sim_int')]\n",
    "male_feature_df = male_feature_df[~male_feature_df.Feature.str.contains('sport')]"
   ]
  },
  {
   "cell_type": "code",
   "execution_count": 98,
   "metadata": {},
   "outputs": [
    {
     "data": {
      "text/html": [
       "<div>\n",
       "<style scoped>\n",
       "    .dataframe tbody tr th:only-of-type {\n",
       "        vertical-align: middle;\n",
       "    }\n",
       "\n",
       "    .dataframe tbody tr th {\n",
       "        vertical-align: top;\n",
       "    }\n",
       "\n",
       "    .dataframe thead th {\n",
       "        text-align: right;\n",
       "    }\n",
       "</style>\n",
       "<table border=\"1\" class=\"dataframe\">\n",
       "  <thead>\n",
       "    <tr style=\"text-align: right;\">\n",
       "      <th></th>\n",
       "      <th>Feature_Percentage</th>\n",
       "      <th>Feature</th>\n",
       "    </tr>\n",
       "  </thead>\n",
       "  <tbody>\n",
       "    <tr>\n",
       "      <th>0</th>\n",
       "      <td>3.4898</td>\n",
       "      <td>likeness_partner</td>\n",
       "    </tr>\n",
       "    <tr>\n",
       "      <th>1</th>\n",
       "      <td>3.1888</td>\n",
       "      <td>fun_of_partner</td>\n",
       "    </tr>\n",
       "    <tr>\n",
       "      <th>2</th>\n",
       "      <td>3.0844</td>\n",
       "      <td>shar_of_partner</td>\n",
       "    </tr>\n",
       "    <tr>\n",
       "      <th>3</th>\n",
       "      <td>2.9708</td>\n",
       "      <td>overall_attr_partner</td>\n",
       "    </tr>\n",
       "    <tr>\n",
       "      <th>4</th>\n",
       "      <td>2.1798</td>\n",
       "      <td>age_partner</td>\n",
       "    </tr>\n",
       "    <tr>\n",
       "      <th>5</th>\n",
       "      <td>1.9085</td>\n",
       "      <td>sinc_of_partner</td>\n",
       "    </tr>\n",
       "    <tr>\n",
       "      <th>6</th>\n",
       "      <td>1.7938</td>\n",
       "      <td>amb_of_partner</td>\n",
       "    </tr>\n",
       "    <tr>\n",
       "      <th>7</th>\n",
       "      <td>1.7063</td>\n",
       "      <td>intel_of_partner</td>\n",
       "    </tr>\n",
       "    <tr>\n",
       "      <th>8</th>\n",
       "      <td>1.5310</td>\n",
       "      <td>age_subject</td>\n",
       "    </tr>\n",
       "    <tr>\n",
       "      <th>9</th>\n",
       "      <td>1.4449</td>\n",
       "      <td>date</td>\n",
       "    </tr>\n",
       "  </tbody>\n",
       "</table>\n",
       "</div>"
      ],
      "text/plain": [
       "   Feature_Percentage               Feature\n",
       "0              3.4898      likeness_partner\n",
       "1              3.1888        fun_of_partner\n",
       "2              3.0844       shar_of_partner\n",
       "3              2.9708  overall_attr_partner\n",
       "4              2.1798           age_partner\n",
       "5              1.9085       sinc_of_partner\n",
       "6              1.7938        amb_of_partner\n",
       "7              1.7063      intel_of_partner\n",
       "8              1.5310           age_subject\n",
       "9              1.4449                  date"
      ]
     },
     "execution_count": 98,
     "metadata": {},
     "output_type": "execute_result"
    }
   ],
   "source": [
    "# TOP 8 Features in Males that increase chances of Match\n",
    "male_top_df = male_feature_df.head(10)\n",
    "male_top_df = male_top_df.reset_index(drop = True)\n",
    "male_top_df"
   ]
  },
  {
   "cell_type": "code",
   "execution_count": 99,
   "metadata": {},
   "outputs": [],
   "source": [
    "# Note: Date is the infrequency in which a particular man goes out on dates. "
   ]
  },
  {
   "cell_type": "code",
   "execution_count": 100,
   "metadata": {},
   "outputs": [],
   "source": [
    "# Select ONLY Partner Rated Feature\n",
    "male_rating_df = male_feature_df[male_feature_df['Feature'].str.contains('partner')]\n",
    "male_rating_df = male_rating_df[~male_rating_df.Feature.str.contains('likeness')]\n",
    "male_rating_df = male_rating_df[~male_rating_df.Feature.str.contains('age')]\n",
    "male_rating_df = male_rating_df[~male_rating_df.Feature.str.contains('race')]"
   ]
  },
  {
   "cell_type": "code",
   "execution_count": 101,
   "metadata": {},
   "outputs": [
    {
     "data": {
      "text/html": [
       "<div>\n",
       "<style scoped>\n",
       "    .dataframe tbody tr th:only-of-type {\n",
       "        vertical-align: middle;\n",
       "    }\n",
       "\n",
       "    .dataframe tbody tr th {\n",
       "        vertical-align: top;\n",
       "    }\n",
       "\n",
       "    .dataframe thead th {\n",
       "        text-align: right;\n",
       "    }\n",
       "</style>\n",
       "<table border=\"1\" class=\"dataframe\">\n",
       "  <thead>\n",
       "    <tr style=\"text-align: right;\">\n",
       "      <th></th>\n",
       "      <th>Feature_Percentage</th>\n",
       "      <th>Feature</th>\n",
       "    </tr>\n",
       "  </thead>\n",
       "  <tbody>\n",
       "    <tr>\n",
       "      <th>0</th>\n",
       "      <td>1.7938</td>\n",
       "      <td>amb_of_partner</td>\n",
       "    </tr>\n",
       "    <tr>\n",
       "      <th>1</th>\n",
       "      <td>3.1888</td>\n",
       "      <td>fun_of_partner</td>\n",
       "    </tr>\n",
       "    <tr>\n",
       "      <th>2</th>\n",
       "      <td>1.7063</td>\n",
       "      <td>intel_of_partner</td>\n",
       "    </tr>\n",
       "    <tr>\n",
       "      <th>3</th>\n",
       "      <td>2.9708</td>\n",
       "      <td>overall_attr_partner</td>\n",
       "    </tr>\n",
       "    <tr>\n",
       "      <th>4</th>\n",
       "      <td>3.0844</td>\n",
       "      <td>shar_of_partner</td>\n",
       "    </tr>\n",
       "    <tr>\n",
       "      <th>5</th>\n",
       "      <td>1.9085</td>\n",
       "      <td>sinc_of_partner</td>\n",
       "    </tr>\n",
       "  </tbody>\n",
       "</table>\n",
       "</div>"
      ],
      "text/plain": [
       "   Feature_Percentage               Feature\n",
       "0              1.7938        amb_of_partner\n",
       "1              3.1888        fun_of_partner\n",
       "2              1.7063      intel_of_partner\n",
       "3              2.9708  overall_attr_partner\n",
       "4              3.0844       shar_of_partner\n",
       "5              1.9085       sinc_of_partner"
      ]
     },
     "execution_count": 101,
     "metadata": {},
     "output_type": "execute_result"
    }
   ],
   "source": [
    "# RATED Attributes that increase chances of Match for Males\n",
    "male_rating_df = male_rating_df.sort_values('Feature')\n",
    "male_rating_df = male_rating_df.reset_index(drop=True)\n",
    "male_rating_df"
   ]
  },
  {
   "cell_type": "markdown",
   "metadata": {},
   "source": [
    "## Female Features"
   ]
  },
  {
   "cell_type": "code",
   "execution_count": 73,
   "metadata": {},
   "outputs": [
    {
     "data": {
      "text/html": [
       "<div>\n",
       "<style scoped>\n",
       "    .dataframe tbody tr th:only-of-type {\n",
       "        vertical-align: middle;\n",
       "    }\n",
       "\n",
       "    .dataframe tbody tr th {\n",
       "        vertical-align: top;\n",
       "    }\n",
       "\n",
       "    .dataframe thead th {\n",
       "        text-align: right;\n",
       "    }\n",
       "</style>\n",
       "<table border=\"1\" class=\"dataframe\">\n",
       "  <thead>\n",
       "    <tr style=\"text-align: right;\">\n",
       "      <th></th>\n",
       "      <th>Feature_Percentage</th>\n",
       "      <th>Feature</th>\n",
       "    </tr>\n",
       "  </thead>\n",
       "  <tbody>\n",
       "    <tr>\n",
       "      <th>0</th>\n",
       "      <td>9.6425</td>\n",
       "      <td>dec_partner</td>\n",
       "    </tr>\n",
       "    <tr>\n",
       "      <th>1</th>\n",
       "      <td>3.4665</td>\n",
       "      <td>sim_int_pct</td>\n",
       "    </tr>\n",
       "    <tr>\n",
       "      <th>2</th>\n",
       "      <td>3.3785</td>\n",
       "      <td>partner_says_yes</td>\n",
       "    </tr>\n",
       "    <tr>\n",
       "      <th>3</th>\n",
       "      <td>3.1334</td>\n",
       "      <td>overall_attr_partner</td>\n",
       "    </tr>\n",
       "    <tr>\n",
       "      <th>4</th>\n",
       "      <td>3.0575</td>\n",
       "      <td>order</td>\n",
       "    </tr>\n",
       "    <tr>\n",
       "      <th>5</th>\n",
       "      <td>2.9329</td>\n",
       "      <td>likeness_partner</td>\n",
       "    </tr>\n",
       "    <tr>\n",
       "      <th>6</th>\n",
       "      <td>2.8587</td>\n",
       "      <td>pref_sincerity</td>\n",
       "    </tr>\n",
       "    <tr>\n",
       "      <th>7</th>\n",
       "      <td>2.8405</td>\n",
       "      <td>shar_of_partner</td>\n",
       "    </tr>\n",
       "    <tr>\n",
       "      <th>8</th>\n",
       "      <td>2.6684</td>\n",
       "      <td>fun_of_partner</td>\n",
       "    </tr>\n",
       "    <tr>\n",
       "      <th>9</th>\n",
       "      <td>2.6159</td>\n",
       "      <td>pref_ambiton</td>\n",
       "    </tr>\n",
       "    <tr>\n",
       "      <th>10</th>\n",
       "      <td>2.5858</td>\n",
       "      <td>pref_shared_int</td>\n",
       "    </tr>\n",
       "    <tr>\n",
       "      <th>11</th>\n",
       "      <td>2.5683</td>\n",
       "      <td>pf_o_att</td>\n",
       "    </tr>\n",
       "    <tr>\n",
       "      <th>12</th>\n",
       "      <td>2.5443</td>\n",
       "      <td>age_partner</td>\n",
       "    </tr>\n",
       "    <tr>\n",
       "      <th>13</th>\n",
       "      <td>2.4126</td>\n",
       "      <td>Pref_intell</td>\n",
       "    </tr>\n",
       "    <tr>\n",
       "      <th>14</th>\n",
       "      <td>2.3972</td>\n",
       "      <td>pref_fun</td>\n",
       "    </tr>\n",
       "    <tr>\n",
       "      <th>15</th>\n",
       "      <td>1.9239</td>\n",
       "      <td>amb_of_partner</td>\n",
       "    </tr>\n",
       "    <tr>\n",
       "      <th>16</th>\n",
       "      <td>1.8441</td>\n",
       "      <td>intel_of_partner</td>\n",
       "    </tr>\n",
       "    <tr>\n",
       "      <th>17</th>\n",
       "      <td>1.7560</td>\n",
       "      <td>age_subject</td>\n",
       "    </tr>\n",
       "    <tr>\n",
       "      <th>18</th>\n",
       "      <td>1.7535</td>\n",
       "      <td>sinc_of_partner</td>\n",
       "    </tr>\n",
       "    <tr>\n",
       "      <th>19</th>\n",
       "      <td>1.7493</td>\n",
       "      <td>income</td>\n",
       "    </tr>\n",
       "    <tr>\n",
       "      <th>20</th>\n",
       "      <td>1.7222</td>\n",
       "      <td>exercise</td>\n",
       "    </tr>\n",
       "    <tr>\n",
       "      <th>21</th>\n",
       "      <td>1.6220</td>\n",
       "      <td>imprace</td>\n",
       "    </tr>\n",
       "    <tr>\n",
       "      <th>22</th>\n",
       "      <td>1.5483</td>\n",
       "      <td>yoga</td>\n",
       "    </tr>\n",
       "    <tr>\n",
       "      <th>23</th>\n",
       "      <td>1.5094</td>\n",
       "      <td>concerts</td>\n",
       "    </tr>\n",
       "    <tr>\n",
       "      <th>24</th>\n",
       "      <td>1.5048</td>\n",
       "      <td>exphappy_frm_spddting</td>\n",
       "    </tr>\n",
       "    <tr>\n",
       "      <th>25</th>\n",
       "      <td>1.5048</td>\n",
       "      <td>clubbing</td>\n",
       "    </tr>\n",
       "    <tr>\n",
       "      <th>26</th>\n",
       "      <td>1.4628</td>\n",
       "      <td>field_cd</td>\n",
       "    </tr>\n",
       "    <tr>\n",
       "      <th>27</th>\n",
       "      <td>1.4043</td>\n",
       "      <td>race_partner</td>\n",
       "    </tr>\n",
       "    <tr>\n",
       "      <th>28</th>\n",
       "      <td>1.3916</td>\n",
       "      <td>art</td>\n",
       "    </tr>\n",
       "    <tr>\n",
       "      <th>29</th>\n",
       "      <td>1.3808</td>\n",
       "      <td>sports</td>\n",
       "    </tr>\n",
       "  </tbody>\n",
       "</table>\n",
       "</div>"
      ],
      "text/plain": [
       "    Feature_Percentage                Feature\n",
       "0               9.6425            dec_partner\n",
       "1               3.4665            sim_int_pct\n",
       "2               3.3785       partner_says_yes\n",
       "3               3.1334   overall_attr_partner\n",
       "4               3.0575                  order\n",
       "5               2.9329       likeness_partner\n",
       "6               2.8587         pref_sincerity\n",
       "7               2.8405        shar_of_partner\n",
       "8               2.6684         fun_of_partner\n",
       "9               2.6159           pref_ambiton\n",
       "10              2.5858        pref_shared_int\n",
       "11              2.5683               pf_o_att\n",
       "12              2.5443            age_partner\n",
       "13              2.4126            Pref_intell\n",
       "14              2.3972               pref_fun\n",
       "15              1.9239         amb_of_partner\n",
       "16              1.8441       intel_of_partner\n",
       "17              1.7560            age_subject\n",
       "18              1.7535        sinc_of_partner\n",
       "19              1.7493                 income\n",
       "20              1.7222               exercise\n",
       "21              1.6220                imprace\n",
       "22              1.5483                   yoga\n",
       "23              1.5094               concerts\n",
       "24              1.5048  exphappy_frm_spddting\n",
       "25              1.5048               clubbing\n",
       "26              1.4628               field_cd\n",
       "27              1.4043           race_partner\n",
       "28              1.3916                    art\n",
       "29              1.3808                 sports"
      ]
     },
     "execution_count": 73,
     "metadata": {},
     "output_type": "execute_result"
    }
   ],
   "source": [
    "## Import Model for Female Match Data\n",
    "\n",
    "female_features_of_importance = sorted(zip(rf_female.feature_importances_, X_female.columns), reverse=True)\n",
    "female_feature_df = pd.DataFrame(female_features_of_importance, columns=[\"Feature_Percentage\" , \"Feature\"])\n",
    "female_feature_df[\"Feature_Percentage\"] = female_feature_df[\"Feature_Percentage\"].map(round_Feature)\n",
    "female_feature_df = female_feature_df.head(30)\n",
    "female_feature_df"
   ]
  },
  {
   "cell_type": "code",
   "execution_count": 74,
   "metadata": {},
   "outputs": [
    {
     "data": {
      "text/html": [
       "<div>\n",
       "<style scoped>\n",
       "    .dataframe tbody tr th:only-of-type {\n",
       "        vertical-align: middle;\n",
       "    }\n",
       "\n",
       "    .dataframe tbody tr th {\n",
       "        vertical-align: top;\n",
       "    }\n",
       "\n",
       "    .dataframe thead th {\n",
       "        text-align: right;\n",
       "    }\n",
       "</style>\n",
       "<table border=\"1\" class=\"dataframe\">\n",
       "  <thead>\n",
       "    <tr style=\"text-align: right;\">\n",
       "      <th></th>\n",
       "      <th>Feature_Percentage</th>\n",
       "      <th>Feature</th>\n",
       "    </tr>\n",
       "  </thead>\n",
       "  <tbody>\n",
       "    <tr>\n",
       "      <th>3</th>\n",
       "      <td>3.1334</td>\n",
       "      <td>overall_attr_partner</td>\n",
       "    </tr>\n",
       "    <tr>\n",
       "      <th>5</th>\n",
       "      <td>2.9329</td>\n",
       "      <td>likeness_partner</td>\n",
       "    </tr>\n",
       "    <tr>\n",
       "      <th>7</th>\n",
       "      <td>2.8405</td>\n",
       "      <td>shar_of_partner</td>\n",
       "    </tr>\n",
       "    <tr>\n",
       "      <th>8</th>\n",
       "      <td>2.6684</td>\n",
       "      <td>fun_of_partner</td>\n",
       "    </tr>\n",
       "    <tr>\n",
       "      <th>12</th>\n",
       "      <td>2.5443</td>\n",
       "      <td>age_partner</td>\n",
       "    </tr>\n",
       "    <tr>\n",
       "      <th>15</th>\n",
       "      <td>1.9239</td>\n",
       "      <td>amb_of_partner</td>\n",
       "    </tr>\n",
       "    <tr>\n",
       "      <th>16</th>\n",
       "      <td>1.8441</td>\n",
       "      <td>intel_of_partner</td>\n",
       "    </tr>\n",
       "    <tr>\n",
       "      <th>17</th>\n",
       "      <td>1.7560</td>\n",
       "      <td>age_subject</td>\n",
       "    </tr>\n",
       "    <tr>\n",
       "      <th>18</th>\n",
       "      <td>1.7535</td>\n",
       "      <td>sinc_of_partner</td>\n",
       "    </tr>\n",
       "    <tr>\n",
       "      <th>19</th>\n",
       "      <td>1.7493</td>\n",
       "      <td>income</td>\n",
       "    </tr>\n",
       "    <tr>\n",
       "      <th>20</th>\n",
       "      <td>1.7222</td>\n",
       "      <td>exercise</td>\n",
       "    </tr>\n",
       "    <tr>\n",
       "      <th>21</th>\n",
       "      <td>1.6220</td>\n",
       "      <td>imprace</td>\n",
       "    </tr>\n",
       "    <tr>\n",
       "      <th>23</th>\n",
       "      <td>1.5094</td>\n",
       "      <td>concerts</td>\n",
       "    </tr>\n",
       "    <tr>\n",
       "      <th>24</th>\n",
       "      <td>1.5048</td>\n",
       "      <td>exphappy_frm_spddting</td>\n",
       "    </tr>\n",
       "    <tr>\n",
       "      <th>25</th>\n",
       "      <td>1.5048</td>\n",
       "      <td>clubbing</td>\n",
       "    </tr>\n",
       "    <tr>\n",
       "      <th>26</th>\n",
       "      <td>1.4628</td>\n",
       "      <td>field_cd</td>\n",
       "    </tr>\n",
       "    <tr>\n",
       "      <th>27</th>\n",
       "      <td>1.4043</td>\n",
       "      <td>race_partner</td>\n",
       "    </tr>\n",
       "    <tr>\n",
       "      <th>28</th>\n",
       "      <td>1.3916</td>\n",
       "      <td>art</td>\n",
       "    </tr>\n",
       "    <tr>\n",
       "      <th>29</th>\n",
       "      <td>1.3808</td>\n",
       "      <td>sports</td>\n",
       "    </tr>\n",
       "  </tbody>\n",
       "</table>\n",
       "</div>"
      ],
      "text/plain": [
       "    Feature_Percentage                Feature\n",
       "3               3.1334   overall_attr_partner\n",
       "5               2.9329       likeness_partner\n",
       "7               2.8405        shar_of_partner\n",
       "8               2.6684         fun_of_partner\n",
       "12              2.5443            age_partner\n",
       "15              1.9239         amb_of_partner\n",
       "16              1.8441       intel_of_partner\n",
       "17              1.7560            age_subject\n",
       "18              1.7535        sinc_of_partner\n",
       "19              1.7493                 income\n",
       "20              1.7222               exercise\n",
       "21              1.6220                imprace\n",
       "23              1.5094               concerts\n",
       "24              1.5048  exphappy_frm_spddting\n",
       "25              1.5048               clubbing\n",
       "26              1.4628               field_cd\n",
       "27              1.4043           race_partner\n",
       "28              1.3916                    art\n",
       "29              1.3808                 sports"
      ]
     },
     "execution_count": 74,
     "metadata": {},
     "output_type": "execute_result"
    }
   ],
   "source": [
    "# Filter out non-attribute features\n",
    "female_feature_df = female_feature_df[~female_feature_df.Feature.str.contains('dec')]\n",
    "female_feature_df = female_feature_df[~female_feature_df.Feature.str.contains('yes')]\n",
    "female_feature_df = female_feature_df[~female_feature_df.Feature.str.contains('pf_o_att')]\n",
    "female_feature_df = female_feature_df[~female_feature_df.Feature.str.contains('order')]\n",
    "female_feature_df = female_feature_df[~female_feature_df.Feature.str.contains('pref', case=False)]\n",
    "female_feature_df = female_feature_df[~female_feature_df.Feature.str.contains('tv')]\n",
    "female_feature_df = female_feature_df[~female_feature_df.Feature.str.contains('yoga')]\n",
    "female_feature_df = female_feature_df[~female_feature_df.Feature.str.contains('sim_int')]\n",
    "female_feature_df.head(30)"
   ]
  },
  {
   "cell_type": "code",
   "execution_count": 76,
   "metadata": {},
   "outputs": [
    {
     "data": {
      "text/html": [
       "<div>\n",
       "<style scoped>\n",
       "    .dataframe tbody tr th:only-of-type {\n",
       "        vertical-align: middle;\n",
       "    }\n",
       "\n",
       "    .dataframe tbody tr th {\n",
       "        vertical-align: top;\n",
       "    }\n",
       "\n",
       "    .dataframe thead th {\n",
       "        text-align: right;\n",
       "    }\n",
       "</style>\n",
       "<table border=\"1\" class=\"dataframe\">\n",
       "  <thead>\n",
       "    <tr style=\"text-align: right;\">\n",
       "      <th></th>\n",
       "      <th>Feature_Percentage</th>\n",
       "      <th>Feature</th>\n",
       "    </tr>\n",
       "  </thead>\n",
       "  <tbody>\n",
       "    <tr>\n",
       "      <th>0</th>\n",
       "      <td>3.1334</td>\n",
       "      <td>overall_attr_partner</td>\n",
       "    </tr>\n",
       "    <tr>\n",
       "      <th>1</th>\n",
       "      <td>2.9329</td>\n",
       "      <td>likeness_partner</td>\n",
       "    </tr>\n",
       "    <tr>\n",
       "      <th>2</th>\n",
       "      <td>2.8405</td>\n",
       "      <td>shar_of_partner</td>\n",
       "    </tr>\n",
       "    <tr>\n",
       "      <th>3</th>\n",
       "      <td>2.6684</td>\n",
       "      <td>fun_of_partner</td>\n",
       "    </tr>\n",
       "    <tr>\n",
       "      <th>4</th>\n",
       "      <td>2.5443</td>\n",
       "      <td>age_partner</td>\n",
       "    </tr>\n",
       "    <tr>\n",
       "      <th>5</th>\n",
       "      <td>1.9239</td>\n",
       "      <td>amb_of_partner</td>\n",
       "    </tr>\n",
       "    <tr>\n",
       "      <th>6</th>\n",
       "      <td>1.8441</td>\n",
       "      <td>intel_of_partner</td>\n",
       "    </tr>\n",
       "    <tr>\n",
       "      <th>7</th>\n",
       "      <td>1.7560</td>\n",
       "      <td>age_subject</td>\n",
       "    </tr>\n",
       "    <tr>\n",
       "      <th>8</th>\n",
       "      <td>1.7535</td>\n",
       "      <td>sinc_of_partner</td>\n",
       "    </tr>\n",
       "    <tr>\n",
       "      <th>9</th>\n",
       "      <td>1.7493</td>\n",
       "      <td>income</td>\n",
       "    </tr>\n",
       "  </tbody>\n",
       "</table>\n",
       "</div>"
      ],
      "text/plain": [
       "   Feature_Percentage               Feature\n",
       "0              3.1334  overall_attr_partner\n",
       "1              2.9329      likeness_partner\n",
       "2              2.8405       shar_of_partner\n",
       "3              2.6684        fun_of_partner\n",
       "4              2.5443           age_partner\n",
       "5              1.9239        amb_of_partner\n",
       "6              1.8441      intel_of_partner\n",
       "7              1.7560           age_subject\n",
       "8              1.7535       sinc_of_partner\n",
       "9              1.7493                income"
      ]
     },
     "execution_count": 76,
     "metadata": {},
     "output_type": "execute_result"
    }
   ],
   "source": [
    "# Top 10 Features in Females that increase chances of Match\n",
    "female_top_df = female_feature_df.head(10)\n",
    "female_top_df = female_top_df.reset_index(drop = True)\n",
    "female_top_df"
   ]
  },
  {
   "cell_type": "code",
   "execution_count": 77,
   "metadata": {},
   "outputs": [],
   "source": [
    "# Featured Attributes that increase chances of Match for Females\n",
    "\n",
    "female_rating_df = female_feature_df[female_feature_df['Feature'].str.contains('partner')]\n",
    "female_rating_df = female_rating_df[~female_rating_df.Feature.str.contains('likeness')]\n",
    "female_rating_df = female_rating_df[~female_rating_df.Feature.str.contains('age')]\n",
    "female_rating_df = female_rating_df[~female_rating_df.Feature.str.contains('race')]"
   ]
  },
  {
   "cell_type": "code",
   "execution_count": 102,
   "metadata": {},
   "outputs": [
    {
     "data": {
      "text/html": [
       "<div>\n",
       "<style scoped>\n",
       "    .dataframe tbody tr th:only-of-type {\n",
       "        vertical-align: middle;\n",
       "    }\n",
       "\n",
       "    .dataframe tbody tr th {\n",
       "        vertical-align: top;\n",
       "    }\n",
       "\n",
       "    .dataframe thead th {\n",
       "        text-align: right;\n",
       "    }\n",
       "</style>\n",
       "<table border=\"1\" class=\"dataframe\">\n",
       "  <thead>\n",
       "    <tr style=\"text-align: right;\">\n",
       "      <th></th>\n",
       "      <th>Feature_Percentage</th>\n",
       "      <th>Feature</th>\n",
       "    </tr>\n",
       "  </thead>\n",
       "  <tbody>\n",
       "    <tr>\n",
       "      <th>0</th>\n",
       "      <td>1.9239</td>\n",
       "      <td>amb_of_partner</td>\n",
       "    </tr>\n",
       "    <tr>\n",
       "      <th>1</th>\n",
       "      <td>2.6684</td>\n",
       "      <td>fun_of_partner</td>\n",
       "    </tr>\n",
       "    <tr>\n",
       "      <th>2</th>\n",
       "      <td>1.8441</td>\n",
       "      <td>intel_of_partner</td>\n",
       "    </tr>\n",
       "    <tr>\n",
       "      <th>3</th>\n",
       "      <td>3.1334</td>\n",
       "      <td>overall_attr_partner</td>\n",
       "    </tr>\n",
       "    <tr>\n",
       "      <th>4</th>\n",
       "      <td>2.8405</td>\n",
       "      <td>shar_of_partner</td>\n",
       "    </tr>\n",
       "    <tr>\n",
       "      <th>5</th>\n",
       "      <td>1.7535</td>\n",
       "      <td>sinc_of_partner</td>\n",
       "    </tr>\n",
       "  </tbody>\n",
       "</table>\n",
       "</div>"
      ],
      "text/plain": [
       "   Feature_Percentage               Feature\n",
       "0              1.9239        amb_of_partner\n",
       "1              2.6684        fun_of_partner\n",
       "2              1.8441      intel_of_partner\n",
       "3              3.1334  overall_attr_partner\n",
       "4              2.8405       shar_of_partner\n",
       "5              1.7535       sinc_of_partner"
      ]
     },
     "execution_count": 102,
     "metadata": {},
     "output_type": "execute_result"
    }
   ],
   "source": [
    "female_rating_df = female_rating_df.sort_values('Feature')\n",
    "female_rating_df = female_rating_df.reset_index(drop=True)\n",
    "female_rating_df"
   ]
  },
  {
   "cell_type": "code",
   "execution_count": 123,
   "metadata": {},
   "outputs": [
    {
     "data": {
      "application/vnd.plotly.v1+json": {
       "config": {
        "plotlyServerURL": "https://plot.ly"
       },
       "data": [
        {
         "hovertext": "The Impotance as Rated by Women",
         "name": "Men",
         "type": "bar",
         "x": [
          "Ambition",
          "Fun",
          "Intelligence",
          "Attractiveness",
          "Shared Interests/Hobbies",
          "Sincerity"
         ],
         "y": [
          1.7937999999999998,
          3.1888,
          1.7063,
          2.9707999999999997,
          3.0844,
          1.9085
         ]
        },
        {
         "hovertext": "The Impotance as Rated by Men",
         "name": "Women",
         "type": "bar",
         "x": [
          "Ambition",
          "Fun",
          "Intelligence",
          "Attractiveness",
          "Shared Interests/Hobbies",
          "Sincerity"
         ],
         "y": [
          1.9239,
          2.6684,
          1.8440999999999999,
          3.1334,
          2.8405,
          1.7534999999999998
         ]
        }
       ],
       "layout": {
        "barmode": "group",
        "template": {
         "data": {
          "bar": [
           {
            "error_x": {
             "color": "#2a3f5f"
            },
            "error_y": {
             "color": "#2a3f5f"
            },
            "marker": {
             "line": {
              "color": "#E5ECF6",
              "width": 0.5
             }
            },
            "type": "bar"
           }
          ],
          "barpolar": [
           {
            "marker": {
             "line": {
              "color": "#E5ECF6",
              "width": 0.5
             }
            },
            "type": "barpolar"
           }
          ],
          "carpet": [
           {
            "aaxis": {
             "endlinecolor": "#2a3f5f",
             "gridcolor": "white",
             "linecolor": "white",
             "minorgridcolor": "white",
             "startlinecolor": "#2a3f5f"
            },
            "baxis": {
             "endlinecolor": "#2a3f5f",
             "gridcolor": "white",
             "linecolor": "white",
             "minorgridcolor": "white",
             "startlinecolor": "#2a3f5f"
            },
            "type": "carpet"
           }
          ],
          "choropleth": [
           {
            "colorbar": {
             "outlinewidth": 0,
             "ticks": ""
            },
            "type": "choropleth"
           }
          ],
          "contour": [
           {
            "colorbar": {
             "outlinewidth": 0,
             "ticks": ""
            },
            "colorscale": [
             [
              0,
              "#0d0887"
             ],
             [
              0.1111111111111111,
              "#46039f"
             ],
             [
              0.2222222222222222,
              "#7201a8"
             ],
             [
              0.3333333333333333,
              "#9c179e"
             ],
             [
              0.4444444444444444,
              "#bd3786"
             ],
             [
              0.5555555555555556,
              "#d8576b"
             ],
             [
              0.6666666666666666,
              "#ed7953"
             ],
             [
              0.7777777777777778,
              "#fb9f3a"
             ],
             [
              0.8888888888888888,
              "#fdca26"
             ],
             [
              1,
              "#f0f921"
             ]
            ],
            "type": "contour"
           }
          ],
          "contourcarpet": [
           {
            "colorbar": {
             "outlinewidth": 0,
             "ticks": ""
            },
            "type": "contourcarpet"
           }
          ],
          "heatmap": [
           {
            "colorbar": {
             "outlinewidth": 0,
             "ticks": ""
            },
            "colorscale": [
             [
              0,
              "#0d0887"
             ],
             [
              0.1111111111111111,
              "#46039f"
             ],
             [
              0.2222222222222222,
              "#7201a8"
             ],
             [
              0.3333333333333333,
              "#9c179e"
             ],
             [
              0.4444444444444444,
              "#bd3786"
             ],
             [
              0.5555555555555556,
              "#d8576b"
             ],
             [
              0.6666666666666666,
              "#ed7953"
             ],
             [
              0.7777777777777778,
              "#fb9f3a"
             ],
             [
              0.8888888888888888,
              "#fdca26"
             ],
             [
              1,
              "#f0f921"
             ]
            ],
            "type": "heatmap"
           }
          ],
          "heatmapgl": [
           {
            "colorbar": {
             "outlinewidth": 0,
             "ticks": ""
            },
            "colorscale": [
             [
              0,
              "#0d0887"
             ],
             [
              0.1111111111111111,
              "#46039f"
             ],
             [
              0.2222222222222222,
              "#7201a8"
             ],
             [
              0.3333333333333333,
              "#9c179e"
             ],
             [
              0.4444444444444444,
              "#bd3786"
             ],
             [
              0.5555555555555556,
              "#d8576b"
             ],
             [
              0.6666666666666666,
              "#ed7953"
             ],
             [
              0.7777777777777778,
              "#fb9f3a"
             ],
             [
              0.8888888888888888,
              "#fdca26"
             ],
             [
              1,
              "#f0f921"
             ]
            ],
            "type": "heatmapgl"
           }
          ],
          "histogram": [
           {
            "marker": {
             "colorbar": {
              "outlinewidth": 0,
              "ticks": ""
             }
            },
            "type": "histogram"
           }
          ],
          "histogram2d": [
           {
            "colorbar": {
             "outlinewidth": 0,
             "ticks": ""
            },
            "colorscale": [
             [
              0,
              "#0d0887"
             ],
             [
              0.1111111111111111,
              "#46039f"
             ],
             [
              0.2222222222222222,
              "#7201a8"
             ],
             [
              0.3333333333333333,
              "#9c179e"
             ],
             [
              0.4444444444444444,
              "#bd3786"
             ],
             [
              0.5555555555555556,
              "#d8576b"
             ],
             [
              0.6666666666666666,
              "#ed7953"
             ],
             [
              0.7777777777777778,
              "#fb9f3a"
             ],
             [
              0.8888888888888888,
              "#fdca26"
             ],
             [
              1,
              "#f0f921"
             ]
            ],
            "type": "histogram2d"
           }
          ],
          "histogram2dcontour": [
           {
            "colorbar": {
             "outlinewidth": 0,
             "ticks": ""
            },
            "colorscale": [
             [
              0,
              "#0d0887"
             ],
             [
              0.1111111111111111,
              "#46039f"
             ],
             [
              0.2222222222222222,
              "#7201a8"
             ],
             [
              0.3333333333333333,
              "#9c179e"
             ],
             [
              0.4444444444444444,
              "#bd3786"
             ],
             [
              0.5555555555555556,
              "#d8576b"
             ],
             [
              0.6666666666666666,
              "#ed7953"
             ],
             [
              0.7777777777777778,
              "#fb9f3a"
             ],
             [
              0.8888888888888888,
              "#fdca26"
             ],
             [
              1,
              "#f0f921"
             ]
            ],
            "type": "histogram2dcontour"
           }
          ],
          "mesh3d": [
           {
            "colorbar": {
             "outlinewidth": 0,
             "ticks": ""
            },
            "type": "mesh3d"
           }
          ],
          "parcoords": [
           {
            "line": {
             "colorbar": {
              "outlinewidth": 0,
              "ticks": ""
             }
            },
            "type": "parcoords"
           }
          ],
          "pie": [
           {
            "automargin": true,
            "type": "pie"
           }
          ],
          "scatter": [
           {
            "marker": {
             "colorbar": {
              "outlinewidth": 0,
              "ticks": ""
             }
            },
            "type": "scatter"
           }
          ],
          "scatter3d": [
           {
            "line": {
             "colorbar": {
              "outlinewidth": 0,
              "ticks": ""
             }
            },
            "marker": {
             "colorbar": {
              "outlinewidth": 0,
              "ticks": ""
             }
            },
            "type": "scatter3d"
           }
          ],
          "scattercarpet": [
           {
            "marker": {
             "colorbar": {
              "outlinewidth": 0,
              "ticks": ""
             }
            },
            "type": "scattercarpet"
           }
          ],
          "scattergeo": [
           {
            "marker": {
             "colorbar": {
              "outlinewidth": 0,
              "ticks": ""
             }
            },
            "type": "scattergeo"
           }
          ],
          "scattergl": [
           {
            "marker": {
             "colorbar": {
              "outlinewidth": 0,
              "ticks": ""
             }
            },
            "type": "scattergl"
           }
          ],
          "scattermapbox": [
           {
            "marker": {
             "colorbar": {
              "outlinewidth": 0,
              "ticks": ""
             }
            },
            "type": "scattermapbox"
           }
          ],
          "scatterpolar": [
           {
            "marker": {
             "colorbar": {
              "outlinewidth": 0,
              "ticks": ""
             }
            },
            "type": "scatterpolar"
           }
          ],
          "scatterpolargl": [
           {
            "marker": {
             "colorbar": {
              "outlinewidth": 0,
              "ticks": ""
             }
            },
            "type": "scatterpolargl"
           }
          ],
          "scatterternary": [
           {
            "marker": {
             "colorbar": {
              "outlinewidth": 0,
              "ticks": ""
             }
            },
            "type": "scatterternary"
           }
          ],
          "surface": [
           {
            "colorbar": {
             "outlinewidth": 0,
             "ticks": ""
            },
            "colorscale": [
             [
              0,
              "#0d0887"
             ],
             [
              0.1111111111111111,
              "#46039f"
             ],
             [
              0.2222222222222222,
              "#7201a8"
             ],
             [
              0.3333333333333333,
              "#9c179e"
             ],
             [
              0.4444444444444444,
              "#bd3786"
             ],
             [
              0.5555555555555556,
              "#d8576b"
             ],
             [
              0.6666666666666666,
              "#ed7953"
             ],
             [
              0.7777777777777778,
              "#fb9f3a"
             ],
             [
              0.8888888888888888,
              "#fdca26"
             ],
             [
              1,
              "#f0f921"
             ]
            ],
            "type": "surface"
           }
          ],
          "table": [
           {
            "cells": {
             "fill": {
              "color": "#EBF0F8"
             },
             "line": {
              "color": "white"
             }
            },
            "header": {
             "fill": {
              "color": "#C8D4E3"
             },
             "line": {
              "color": "white"
             }
            },
            "type": "table"
           }
          ]
         },
         "layout": {
          "annotationdefaults": {
           "arrowcolor": "#2a3f5f",
           "arrowhead": 0,
           "arrowwidth": 1
          },
          "coloraxis": {
           "colorbar": {
            "outlinewidth": 0,
            "ticks": ""
           }
          },
          "colorscale": {
           "diverging": [
            [
             0,
             "#8e0152"
            ],
            [
             0.1,
             "#c51b7d"
            ],
            [
             0.2,
             "#de77ae"
            ],
            [
             0.3,
             "#f1b6da"
            ],
            [
             0.4,
             "#fde0ef"
            ],
            [
             0.5,
             "#f7f7f7"
            ],
            [
             0.6,
             "#e6f5d0"
            ],
            [
             0.7,
             "#b8e186"
            ],
            [
             0.8,
             "#7fbc41"
            ],
            [
             0.9,
             "#4d9221"
            ],
            [
             1,
             "#276419"
            ]
           ],
           "sequential": [
            [
             0,
             "#0d0887"
            ],
            [
             0.1111111111111111,
             "#46039f"
            ],
            [
             0.2222222222222222,
             "#7201a8"
            ],
            [
             0.3333333333333333,
             "#9c179e"
            ],
            [
             0.4444444444444444,
             "#bd3786"
            ],
            [
             0.5555555555555556,
             "#d8576b"
            ],
            [
             0.6666666666666666,
             "#ed7953"
            ],
            [
             0.7777777777777778,
             "#fb9f3a"
            ],
            [
             0.8888888888888888,
             "#fdca26"
            ],
            [
             1,
             "#f0f921"
            ]
           ],
           "sequentialminus": [
            [
             0,
             "#0d0887"
            ],
            [
             0.1111111111111111,
             "#46039f"
            ],
            [
             0.2222222222222222,
             "#7201a8"
            ],
            [
             0.3333333333333333,
             "#9c179e"
            ],
            [
             0.4444444444444444,
             "#bd3786"
            ],
            [
             0.5555555555555556,
             "#d8576b"
            ],
            [
             0.6666666666666666,
             "#ed7953"
            ],
            [
             0.7777777777777778,
             "#fb9f3a"
            ],
            [
             0.8888888888888888,
             "#fdca26"
            ],
            [
             1,
             "#f0f921"
            ]
           ]
          },
          "colorway": [
           "#636efa",
           "#EF553B",
           "#00cc96",
           "#ab63fa",
           "#FFA15A",
           "#19d3f3",
           "#FF6692",
           "#B6E880",
           "#FF97FF",
           "#FECB52"
          ],
          "font": {
           "color": "#2a3f5f"
          },
          "geo": {
           "bgcolor": "white",
           "lakecolor": "white",
           "landcolor": "#E5ECF6",
           "showlakes": true,
           "showland": true,
           "subunitcolor": "white"
          },
          "hoverlabel": {
           "align": "left"
          },
          "hovermode": "closest",
          "mapbox": {
           "style": "light"
          },
          "paper_bgcolor": "white",
          "plot_bgcolor": "#E5ECF6",
          "polar": {
           "angularaxis": {
            "gridcolor": "white",
            "linecolor": "white",
            "ticks": ""
           },
           "bgcolor": "#E5ECF6",
           "radialaxis": {
            "gridcolor": "white",
            "linecolor": "white",
            "ticks": ""
           }
          },
          "scene": {
           "xaxis": {
            "backgroundcolor": "#E5ECF6",
            "gridcolor": "white",
            "gridwidth": 2,
            "linecolor": "white",
            "showbackground": true,
            "ticks": "",
            "zerolinecolor": "white"
           },
           "yaxis": {
            "backgroundcolor": "#E5ECF6",
            "gridcolor": "white",
            "gridwidth": 2,
            "linecolor": "white",
            "showbackground": true,
            "ticks": "",
            "zerolinecolor": "white"
           },
           "zaxis": {
            "backgroundcolor": "#E5ECF6",
            "gridcolor": "white",
            "gridwidth": 2,
            "linecolor": "white",
            "showbackground": true,
            "ticks": "",
            "zerolinecolor": "white"
           }
          },
          "shapedefaults": {
           "line": {
            "color": "#2a3f5f"
           }
          },
          "ternary": {
           "aaxis": {
            "gridcolor": "white",
            "linecolor": "white",
            "ticks": ""
           },
           "baxis": {
            "gridcolor": "white",
            "linecolor": "white",
            "ticks": ""
           },
           "bgcolor": "#E5ECF6",
           "caxis": {
            "gridcolor": "white",
            "linecolor": "white",
            "ticks": ""
           }
          },
          "title": {
           "x": 0.05
          },
          "xaxis": {
           "automargin": true,
           "gridcolor": "white",
           "linecolor": "white",
           "ticks": "",
           "title": {
            "standoff": 15
           },
           "zerolinecolor": "white",
           "zerolinewidth": 2
          },
          "yaxis": {
           "automargin": true,
           "gridcolor": "white",
           "linecolor": "white",
           "ticks": "",
           "title": {
            "standoff": 15
           },
           "zerolinecolor": "white",
           "zerolinewidth": 2
          }
         }
        },
        "title": {
         "text": "Importance of Attribute As Rated By Your Partner"
        }
       }
      },
      "text/html": [
       "<div>                            <div id=\"e28fc161-0a35-4d36-a352-14532f1c136e\" class=\"plotly-graph-div\" style=\"height:525px; width:100%;\"></div>            <script type=\"text/javascript\">                require([\"plotly\"], function(Plotly) {                    window.PLOTLYENV=window.PLOTLYENV || {};                                    if (document.getElementById(\"e28fc161-0a35-4d36-a352-14532f1c136e\")) {                    Plotly.newPlot(                        \"e28fc161-0a35-4d36-a352-14532f1c136e\",                        [{\"hovertext\": \"The Impotance as Rated by Women\", \"name\": \"Men\", \"type\": \"bar\", \"x\": [\"Ambition\", \"Fun\", \"Intelligence\", \"Attractiveness\", \"Shared Interests/Hobbies\", \"Sincerity\"], \"y\": [1.7937999999999998, 3.1888, 1.7063, 2.9707999999999997, 3.0844, 1.9085]}, {\"hovertext\": \"The Impotance as Rated by Men\", \"name\": \"Women\", \"type\": \"bar\", \"x\": [\"Ambition\", \"Fun\", \"Intelligence\", \"Attractiveness\", \"Shared Interests/Hobbies\", \"Sincerity\"], \"y\": [1.9239, 2.6684, 1.8440999999999999, 3.1334, 2.8405, 1.7534999999999998]}],                        {\"barmode\": \"group\", \"template\": {\"data\": {\"bar\": [{\"error_x\": {\"color\": \"#2a3f5f\"}, \"error_y\": {\"color\": \"#2a3f5f\"}, \"marker\": {\"line\": {\"color\": \"#E5ECF6\", \"width\": 0.5}}, \"type\": \"bar\"}], \"barpolar\": [{\"marker\": {\"line\": {\"color\": \"#E5ECF6\", \"width\": 0.5}}, \"type\": \"barpolar\"}], \"carpet\": [{\"aaxis\": {\"endlinecolor\": \"#2a3f5f\", \"gridcolor\": \"white\", \"linecolor\": \"white\", \"minorgridcolor\": \"white\", \"startlinecolor\": \"#2a3f5f\"}, \"baxis\": {\"endlinecolor\": \"#2a3f5f\", \"gridcolor\": \"white\", \"linecolor\": \"white\", \"minorgridcolor\": \"white\", \"startlinecolor\": \"#2a3f5f\"}, \"type\": \"carpet\"}], \"choropleth\": [{\"colorbar\": {\"outlinewidth\": 0, \"ticks\": \"\"}, \"type\": \"choropleth\"}], \"contour\": [{\"colorbar\": {\"outlinewidth\": 0, \"ticks\": \"\"}, \"colorscale\": [[0.0, \"#0d0887\"], [0.1111111111111111, \"#46039f\"], [0.2222222222222222, \"#7201a8\"], [0.3333333333333333, \"#9c179e\"], [0.4444444444444444, \"#bd3786\"], [0.5555555555555556, \"#d8576b\"], [0.6666666666666666, \"#ed7953\"], [0.7777777777777778, \"#fb9f3a\"], [0.8888888888888888, \"#fdca26\"], [1.0, \"#f0f921\"]], \"type\": \"contour\"}], \"contourcarpet\": [{\"colorbar\": {\"outlinewidth\": 0, \"ticks\": \"\"}, \"type\": \"contourcarpet\"}], \"heatmap\": [{\"colorbar\": {\"outlinewidth\": 0, \"ticks\": \"\"}, \"colorscale\": [[0.0, \"#0d0887\"], [0.1111111111111111, \"#46039f\"], [0.2222222222222222, \"#7201a8\"], [0.3333333333333333, \"#9c179e\"], [0.4444444444444444, \"#bd3786\"], [0.5555555555555556, \"#d8576b\"], [0.6666666666666666, \"#ed7953\"], [0.7777777777777778, \"#fb9f3a\"], [0.8888888888888888, \"#fdca26\"], [1.0, \"#f0f921\"]], \"type\": \"heatmap\"}], \"heatmapgl\": [{\"colorbar\": {\"outlinewidth\": 0, \"ticks\": \"\"}, \"colorscale\": [[0.0, \"#0d0887\"], [0.1111111111111111, \"#46039f\"], [0.2222222222222222, \"#7201a8\"], [0.3333333333333333, \"#9c179e\"], [0.4444444444444444, \"#bd3786\"], [0.5555555555555556, \"#d8576b\"], [0.6666666666666666, \"#ed7953\"], [0.7777777777777778, \"#fb9f3a\"], [0.8888888888888888, \"#fdca26\"], [1.0, \"#f0f921\"]], \"type\": \"heatmapgl\"}], \"histogram\": [{\"marker\": {\"colorbar\": {\"outlinewidth\": 0, \"ticks\": \"\"}}, \"type\": \"histogram\"}], \"histogram2d\": [{\"colorbar\": {\"outlinewidth\": 0, \"ticks\": \"\"}, \"colorscale\": [[0.0, \"#0d0887\"], [0.1111111111111111, \"#46039f\"], [0.2222222222222222, \"#7201a8\"], [0.3333333333333333, \"#9c179e\"], [0.4444444444444444, \"#bd3786\"], [0.5555555555555556, \"#d8576b\"], [0.6666666666666666, \"#ed7953\"], [0.7777777777777778, \"#fb9f3a\"], [0.8888888888888888, \"#fdca26\"], [1.0, \"#f0f921\"]], \"type\": \"histogram2d\"}], \"histogram2dcontour\": [{\"colorbar\": {\"outlinewidth\": 0, \"ticks\": \"\"}, \"colorscale\": [[0.0, \"#0d0887\"], [0.1111111111111111, \"#46039f\"], [0.2222222222222222, \"#7201a8\"], [0.3333333333333333, \"#9c179e\"], [0.4444444444444444, \"#bd3786\"], [0.5555555555555556, \"#d8576b\"], [0.6666666666666666, \"#ed7953\"], [0.7777777777777778, \"#fb9f3a\"], [0.8888888888888888, \"#fdca26\"], [1.0, \"#f0f921\"]], \"type\": \"histogram2dcontour\"}], \"mesh3d\": [{\"colorbar\": {\"outlinewidth\": 0, \"ticks\": \"\"}, \"type\": \"mesh3d\"}], \"parcoords\": [{\"line\": {\"colorbar\": {\"outlinewidth\": 0, \"ticks\": \"\"}}, \"type\": \"parcoords\"}], \"pie\": [{\"automargin\": true, \"type\": \"pie\"}], \"scatter\": [{\"marker\": {\"colorbar\": {\"outlinewidth\": 0, \"ticks\": \"\"}}, \"type\": \"scatter\"}], \"scatter3d\": [{\"line\": {\"colorbar\": {\"outlinewidth\": 0, \"ticks\": \"\"}}, \"marker\": {\"colorbar\": {\"outlinewidth\": 0, \"ticks\": \"\"}}, \"type\": \"scatter3d\"}], \"scattercarpet\": [{\"marker\": {\"colorbar\": {\"outlinewidth\": 0, \"ticks\": \"\"}}, \"type\": \"scattercarpet\"}], \"scattergeo\": [{\"marker\": {\"colorbar\": {\"outlinewidth\": 0, \"ticks\": \"\"}}, \"type\": \"scattergeo\"}], \"scattergl\": [{\"marker\": {\"colorbar\": {\"outlinewidth\": 0, \"ticks\": \"\"}}, \"type\": \"scattergl\"}], \"scattermapbox\": [{\"marker\": {\"colorbar\": {\"outlinewidth\": 0, \"ticks\": \"\"}}, \"type\": \"scattermapbox\"}], \"scatterpolar\": [{\"marker\": {\"colorbar\": {\"outlinewidth\": 0, \"ticks\": \"\"}}, \"type\": \"scatterpolar\"}], \"scatterpolargl\": [{\"marker\": {\"colorbar\": {\"outlinewidth\": 0, \"ticks\": \"\"}}, \"type\": \"scatterpolargl\"}], \"scatterternary\": [{\"marker\": {\"colorbar\": {\"outlinewidth\": 0, \"ticks\": \"\"}}, \"type\": \"scatterternary\"}], \"surface\": [{\"colorbar\": {\"outlinewidth\": 0, \"ticks\": \"\"}, \"colorscale\": [[0.0, \"#0d0887\"], [0.1111111111111111, \"#46039f\"], [0.2222222222222222, \"#7201a8\"], [0.3333333333333333, \"#9c179e\"], [0.4444444444444444, \"#bd3786\"], [0.5555555555555556, \"#d8576b\"], [0.6666666666666666, \"#ed7953\"], [0.7777777777777778, \"#fb9f3a\"], [0.8888888888888888, \"#fdca26\"], [1.0, \"#f0f921\"]], \"type\": \"surface\"}], \"table\": [{\"cells\": {\"fill\": {\"color\": \"#EBF0F8\"}, \"line\": {\"color\": \"white\"}}, \"header\": {\"fill\": {\"color\": \"#C8D4E3\"}, \"line\": {\"color\": \"white\"}}, \"type\": \"table\"}]}, \"layout\": {\"annotationdefaults\": {\"arrowcolor\": \"#2a3f5f\", \"arrowhead\": 0, \"arrowwidth\": 1}, \"coloraxis\": {\"colorbar\": {\"outlinewidth\": 0, \"ticks\": \"\"}}, \"colorscale\": {\"diverging\": [[0, \"#8e0152\"], [0.1, \"#c51b7d\"], [0.2, \"#de77ae\"], [0.3, \"#f1b6da\"], [0.4, \"#fde0ef\"], [0.5, \"#f7f7f7\"], [0.6, \"#e6f5d0\"], [0.7, \"#b8e186\"], [0.8, \"#7fbc41\"], [0.9, \"#4d9221\"], [1, \"#276419\"]], \"sequential\": [[0.0, \"#0d0887\"], [0.1111111111111111, \"#46039f\"], [0.2222222222222222, \"#7201a8\"], [0.3333333333333333, \"#9c179e\"], [0.4444444444444444, \"#bd3786\"], [0.5555555555555556, \"#d8576b\"], [0.6666666666666666, \"#ed7953\"], [0.7777777777777778, \"#fb9f3a\"], [0.8888888888888888, \"#fdca26\"], [1.0, \"#f0f921\"]], \"sequentialminus\": [[0.0, \"#0d0887\"], [0.1111111111111111, \"#46039f\"], [0.2222222222222222, \"#7201a8\"], [0.3333333333333333, \"#9c179e\"], [0.4444444444444444, \"#bd3786\"], [0.5555555555555556, \"#d8576b\"], [0.6666666666666666, \"#ed7953\"], [0.7777777777777778, \"#fb9f3a\"], [0.8888888888888888, \"#fdca26\"], [1.0, \"#f0f921\"]]}, \"colorway\": [\"#636efa\", \"#EF553B\", \"#00cc96\", \"#ab63fa\", \"#FFA15A\", \"#19d3f3\", \"#FF6692\", \"#B6E880\", \"#FF97FF\", \"#FECB52\"], \"font\": {\"color\": \"#2a3f5f\"}, \"geo\": {\"bgcolor\": \"white\", \"lakecolor\": \"white\", \"landcolor\": \"#E5ECF6\", \"showlakes\": true, \"showland\": true, \"subunitcolor\": \"white\"}, \"hoverlabel\": {\"align\": \"left\"}, \"hovermode\": \"closest\", \"mapbox\": {\"style\": \"light\"}, \"paper_bgcolor\": \"white\", \"plot_bgcolor\": \"#E5ECF6\", \"polar\": {\"angularaxis\": {\"gridcolor\": \"white\", \"linecolor\": \"white\", \"ticks\": \"\"}, \"bgcolor\": \"#E5ECF6\", \"radialaxis\": {\"gridcolor\": \"white\", \"linecolor\": \"white\", \"ticks\": \"\"}}, \"scene\": {\"xaxis\": {\"backgroundcolor\": \"#E5ECF6\", \"gridcolor\": \"white\", \"gridwidth\": 2, \"linecolor\": \"white\", \"showbackground\": true, \"ticks\": \"\", \"zerolinecolor\": \"white\"}, \"yaxis\": {\"backgroundcolor\": \"#E5ECF6\", \"gridcolor\": \"white\", \"gridwidth\": 2, \"linecolor\": \"white\", \"showbackground\": true, \"ticks\": \"\", \"zerolinecolor\": \"white\"}, \"zaxis\": {\"backgroundcolor\": \"#E5ECF6\", \"gridcolor\": \"white\", \"gridwidth\": 2, \"linecolor\": \"white\", \"showbackground\": true, \"ticks\": \"\", \"zerolinecolor\": \"white\"}}, \"shapedefaults\": {\"line\": {\"color\": \"#2a3f5f\"}}, \"ternary\": {\"aaxis\": {\"gridcolor\": \"white\", \"linecolor\": \"white\", \"ticks\": \"\"}, \"baxis\": {\"gridcolor\": \"white\", \"linecolor\": \"white\", \"ticks\": \"\"}, \"bgcolor\": \"#E5ECF6\", \"caxis\": {\"gridcolor\": \"white\", \"linecolor\": \"white\", \"ticks\": \"\"}}, \"title\": {\"x\": 0.05}, \"xaxis\": {\"automargin\": true, \"gridcolor\": \"white\", \"linecolor\": \"white\", \"ticks\": \"\", \"title\": {\"standoff\": 15}, \"zerolinecolor\": \"white\", \"zerolinewidth\": 2}, \"yaxis\": {\"automargin\": true, \"gridcolor\": \"white\", \"linecolor\": \"white\", \"ticks\": \"\", \"title\": {\"standoff\": 15}, \"zerolinecolor\": \"white\", \"zerolinewidth\": 2}}}, \"title\": {\"text\": \"Importance of Attribute As Rated By Your Partner\"}},                        {\"responsive\": true}                    ).then(function(){\n",
       "                            \n",
       "var gd = document.getElementById('e28fc161-0a35-4d36-a352-14532f1c136e');\n",
       "var x = new MutationObserver(function (mutations, observer) {{\n",
       "        var display = window.getComputedStyle(gd).display;\n",
       "        if (!display || display === 'none') {{\n",
       "            console.log([gd, 'removed!']);\n",
       "            Plotly.purge(gd);\n",
       "            observer.disconnect();\n",
       "        }}\n",
       "}});\n",
       "\n",
       "// Listen for the removal of the full notebook cells\n",
       "var notebookContainer = gd.closest('#notebook-container');\n",
       "if (notebookContainer) {{\n",
       "    x.observe(notebookContainer, {childList: true});\n",
       "}}\n",
       "\n",
       "// Listen for the clearing of the current output cell\n",
       "var outputEl = gd.closest('.output');\n",
       "if (outputEl) {{\n",
       "    x.observe(outputEl, {childList: true});\n",
       "}}\n",
       "\n",
       "                        })                };                });            </script>        </div>"
      ]
     },
     "metadata": {},
     "output_type": "display_data"
    }
   ],
   "source": [
    "import plotly.graph_objects as go\n",
    "\n",
    "attributes=['Ambition', 'Fun', 'Intelligence', 'Attractiveness', 'Shared Interests/Hobbies', 'Sincerity']\n",
    "importance_m = male_rating_df['Feature_Percentage']\n",
    "importance_f = female_rating_df['Feature_Percentage']\n",
    "\n",
    "\n",
    "fig = go.Figure(data=[\n",
    "    go.Bar(name='Men', x=attributes, y=importance_m, hovertext='The Impotance as Rated by Women'),\n",
    "    go.Bar(name='Women', x=attributes, y=importance_f, hovertext='The Impotance as Rated by Men')\n",
    "])\n",
    "# Change the bar mode\n",
    "fig.update_layout(barmode='group')\n",
    "\n",
    "# Add details\n",
    "fig.update_layout(title_text='Importance of Attribute As Rated By Your Partner')\n",
    "\n",
    "fig.show()"
   ]
  },
  {
   "cell_type": "code",
   "execution_count": null,
   "metadata": {},
   "outputs": [],
   "source": []
  }
 ],
 "metadata": {
  "kernelspec": {
   "display_name": "Python 3",
   "language": "python",
   "name": "python3"
  },
  "language_info": {
   "codemirror_mode": {
    "name": "ipython",
    "version": 3
   },
   "file_extension": ".py",
   "mimetype": "text/x-python",
   "name": "python",
   "nbconvert_exporter": "python",
   "pygments_lexer": "ipython3",
   "version": "3.8.5"
  }
 },
 "nbformat": 4,
 "nbformat_minor": 4
}
