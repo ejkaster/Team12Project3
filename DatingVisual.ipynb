{
 "cells": [
  {
   "cell_type": "code",
   "execution_count": 23,
   "metadata": {},
   "outputs": [],
   "source": [
    "from sklearn.ensemble import RandomForestClassifier\n",
    "import pandas as pd\n",
    "from sklearn.model_selection import train_test_split\n",
    "import plotly.graph_objects as go\n",
    "import plotly.io as pio\n",
    "import os"
   ]
  },
  {
   "cell_type": "code",
   "execution_count": 24,
   "metadata": {},
   "outputs": [
    {
     "data": {
      "text/html": [
       "<div>\n",
       "<style scoped>\n",
       "    .dataframe tbody tr th:only-of-type {\n",
       "        vertical-align: middle;\n",
       "    }\n",
       "\n",
       "    .dataframe tbody tr th {\n",
       "        vertical-align: top;\n",
       "    }\n",
       "\n",
       "    .dataframe thead th {\n",
       "        text-align: right;\n",
       "    }\n",
       "</style>\n",
       "<table border=\"1\" class=\"dataframe\">\n",
       "  <thead>\n",
       "    <tr style=\"text-align: right;\">\n",
       "      <th></th>\n",
       "      <th>gender</th>\n",
       "      <th>order</th>\n",
       "      <th>match</th>\n",
       "      <th>sim_int_pct</th>\n",
       "      <th>samerace</th>\n",
       "      <th>age_partner</th>\n",
       "      <th>race_partner</th>\n",
       "      <th>pf_o_att</th>\n",
       "      <th>pref_sincerity</th>\n",
       "      <th>Pref_intell</th>\n",
       "      <th>...</th>\n",
       "      <th>clubbing</th>\n",
       "      <th>reading</th>\n",
       "      <th>tv</th>\n",
       "      <th>theater</th>\n",
       "      <th>movies</th>\n",
       "      <th>concerts</th>\n",
       "      <th>music</th>\n",
       "      <th>shopping</th>\n",
       "      <th>yoga</th>\n",
       "      <th>exphappy_frm_spddting</th>\n",
       "    </tr>\n",
       "  </thead>\n",
       "  <tbody>\n",
       "    <tr>\n",
       "      <th>0</th>\n",
       "      <td>0</td>\n",
       "      <td>4</td>\n",
       "      <td>0</td>\n",
       "      <td>0.14</td>\n",
       "      <td>0</td>\n",
       "      <td>27.0</td>\n",
       "      <td>2.0</td>\n",
       "      <td>35.0</td>\n",
       "      <td>20.0</td>\n",
       "      <td>20.0</td>\n",
       "      <td>...</td>\n",
       "      <td>5.0</td>\n",
       "      <td>6.0</td>\n",
       "      <td>9.0</td>\n",
       "      <td>1.0</td>\n",
       "      <td>10.0</td>\n",
       "      <td>10.0</td>\n",
       "      <td>9.0</td>\n",
       "      <td>8.0</td>\n",
       "      <td>1.0</td>\n",
       "      <td>3.0</td>\n",
       "    </tr>\n",
       "    <tr>\n",
       "      <th>1</th>\n",
       "      <td>0</td>\n",
       "      <td>3</td>\n",
       "      <td>0</td>\n",
       "      <td>0.54</td>\n",
       "      <td>0</td>\n",
       "      <td>22.0</td>\n",
       "      <td>2.0</td>\n",
       "      <td>60.0</td>\n",
       "      <td>0.0</td>\n",
       "      <td>0.0</td>\n",
       "      <td>...</td>\n",
       "      <td>5.0</td>\n",
       "      <td>6.0</td>\n",
       "      <td>9.0</td>\n",
       "      <td>1.0</td>\n",
       "      <td>10.0</td>\n",
       "      <td>10.0</td>\n",
       "      <td>9.0</td>\n",
       "      <td>8.0</td>\n",
       "      <td>1.0</td>\n",
       "      <td>3.0</td>\n",
       "    </tr>\n",
       "    <tr>\n",
       "      <th>2</th>\n",
       "      <td>0</td>\n",
       "      <td>10</td>\n",
       "      <td>1</td>\n",
       "      <td>0.16</td>\n",
       "      <td>1</td>\n",
       "      <td>22.0</td>\n",
       "      <td>4.0</td>\n",
       "      <td>19.0</td>\n",
       "      <td>18.0</td>\n",
       "      <td>19.0</td>\n",
       "      <td>...</td>\n",
       "      <td>5.0</td>\n",
       "      <td>6.0</td>\n",
       "      <td>9.0</td>\n",
       "      <td>1.0</td>\n",
       "      <td>10.0</td>\n",
       "      <td>10.0</td>\n",
       "      <td>9.0</td>\n",
       "      <td>8.0</td>\n",
       "      <td>1.0</td>\n",
       "      <td>3.0</td>\n",
       "    </tr>\n",
       "    <tr>\n",
       "      <th>3</th>\n",
       "      <td>0</td>\n",
       "      <td>5</td>\n",
       "      <td>1</td>\n",
       "      <td>0.61</td>\n",
       "      <td>0</td>\n",
       "      <td>23.0</td>\n",
       "      <td>2.0</td>\n",
       "      <td>30.0</td>\n",
       "      <td>5.0</td>\n",
       "      <td>15.0</td>\n",
       "      <td>...</td>\n",
       "      <td>5.0</td>\n",
       "      <td>6.0</td>\n",
       "      <td>9.0</td>\n",
       "      <td>1.0</td>\n",
       "      <td>10.0</td>\n",
       "      <td>10.0</td>\n",
       "      <td>9.0</td>\n",
       "      <td>8.0</td>\n",
       "      <td>1.0</td>\n",
       "      <td>3.0</td>\n",
       "    </tr>\n",
       "    <tr>\n",
       "      <th>4</th>\n",
       "      <td>0</td>\n",
       "      <td>7</td>\n",
       "      <td>1</td>\n",
       "      <td>0.21</td>\n",
       "      <td>0</td>\n",
       "      <td>24.0</td>\n",
       "      <td>3.0</td>\n",
       "      <td>30.0</td>\n",
       "      <td>10.0</td>\n",
       "      <td>20.0</td>\n",
       "      <td>...</td>\n",
       "      <td>5.0</td>\n",
       "      <td>6.0</td>\n",
       "      <td>9.0</td>\n",
       "      <td>1.0</td>\n",
       "      <td>10.0</td>\n",
       "      <td>10.0</td>\n",
       "      <td>9.0</td>\n",
       "      <td>8.0</td>\n",
       "      <td>1.0</td>\n",
       "      <td>3.0</td>\n",
       "    </tr>\n",
       "    <tr>\n",
       "      <th>...</th>\n",
       "      <td>...</td>\n",
       "      <td>...</td>\n",
       "      <td>...</td>\n",
       "      <td>...</td>\n",
       "      <td>...</td>\n",
       "      <td>...</td>\n",
       "      <td>...</td>\n",
       "      <td>...</td>\n",
       "      <td>...</td>\n",
       "      <td>...</td>\n",
       "      <td>...</td>\n",
       "      <td>...</td>\n",
       "      <td>...</td>\n",
       "      <td>...</td>\n",
       "      <td>...</td>\n",
       "      <td>...</td>\n",
       "      <td>...</td>\n",
       "      <td>...</td>\n",
       "      <td>...</td>\n",
       "      <td>...</td>\n",
       "      <td>...</td>\n",
       "    </tr>\n",
       "    <tr>\n",
       "      <th>8373</th>\n",
       "      <td>1</td>\n",
       "      <td>5</td>\n",
       "      <td>0</td>\n",
       "      <td>0.64</td>\n",
       "      <td>0</td>\n",
       "      <td>26.0</td>\n",
       "      <td>3.0</td>\n",
       "      <td>10.0</td>\n",
       "      <td>10.0</td>\n",
       "      <td>30.0</td>\n",
       "      <td>...</td>\n",
       "      <td>9.0</td>\n",
       "      <td>8.0</td>\n",
       "      <td>3.0</td>\n",
       "      <td>7.0</td>\n",
       "      <td>9.0</td>\n",
       "      <td>10.0</td>\n",
       "      <td>10.0</td>\n",
       "      <td>7.0</td>\n",
       "      <td>3.0</td>\n",
       "      <td>10.0</td>\n",
       "    </tr>\n",
       "    <tr>\n",
       "      <th>8374</th>\n",
       "      <td>1</td>\n",
       "      <td>4</td>\n",
       "      <td>0</td>\n",
       "      <td>0.71</td>\n",
       "      <td>0</td>\n",
       "      <td>24.0</td>\n",
       "      <td>6.0</td>\n",
       "      <td>50.0</td>\n",
       "      <td>20.0</td>\n",
       "      <td>10.0</td>\n",
       "      <td>...</td>\n",
       "      <td>9.0</td>\n",
       "      <td>8.0</td>\n",
       "      <td>3.0</td>\n",
       "      <td>7.0</td>\n",
       "      <td>9.0</td>\n",
       "      <td>10.0</td>\n",
       "      <td>10.0</td>\n",
       "      <td>7.0</td>\n",
       "      <td>3.0</td>\n",
       "      <td>10.0</td>\n",
       "    </tr>\n",
       "    <tr>\n",
       "      <th>8375</th>\n",
       "      <td>1</td>\n",
       "      <td>10</td>\n",
       "      <td>0</td>\n",
       "      <td>-0.46</td>\n",
       "      <td>0</td>\n",
       "      <td>29.0</td>\n",
       "      <td>3.0</td>\n",
       "      <td>40.0</td>\n",
       "      <td>10.0</td>\n",
       "      <td>30.0</td>\n",
       "      <td>...</td>\n",
       "      <td>9.0</td>\n",
       "      <td>8.0</td>\n",
       "      <td>3.0</td>\n",
       "      <td>7.0</td>\n",
       "      <td>9.0</td>\n",
       "      <td>10.0</td>\n",
       "      <td>10.0</td>\n",
       "      <td>7.0</td>\n",
       "      <td>3.0</td>\n",
       "      <td>10.0</td>\n",
       "    </tr>\n",
       "    <tr>\n",
       "      <th>8376</th>\n",
       "      <td>1</td>\n",
       "      <td>16</td>\n",
       "      <td>0</td>\n",
       "      <td>0.62</td>\n",
       "      <td>0</td>\n",
       "      <td>22.0</td>\n",
       "      <td>4.0</td>\n",
       "      <td>10.0</td>\n",
       "      <td>25.0</td>\n",
       "      <td>25.0</td>\n",
       "      <td>...</td>\n",
       "      <td>9.0</td>\n",
       "      <td>8.0</td>\n",
       "      <td>3.0</td>\n",
       "      <td>7.0</td>\n",
       "      <td>9.0</td>\n",
       "      <td>10.0</td>\n",
       "      <td>10.0</td>\n",
       "      <td>7.0</td>\n",
       "      <td>3.0</td>\n",
       "      <td>10.0</td>\n",
       "    </tr>\n",
       "    <tr>\n",
       "      <th>8377</th>\n",
       "      <td>1</td>\n",
       "      <td>15</td>\n",
       "      <td>0</td>\n",
       "      <td>0.01</td>\n",
       "      <td>0</td>\n",
       "      <td>22.0</td>\n",
       "      <td>4.0</td>\n",
       "      <td>20.0</td>\n",
       "      <td>20.0</td>\n",
       "      <td>10.0</td>\n",
       "      <td>...</td>\n",
       "      <td>9.0</td>\n",
       "      <td>8.0</td>\n",
       "      <td>3.0</td>\n",
       "      <td>7.0</td>\n",
       "      <td>9.0</td>\n",
       "      <td>10.0</td>\n",
       "      <td>10.0</td>\n",
       "      <td>7.0</td>\n",
       "      <td>3.0</td>\n",
       "      <td>10.0</td>\n",
       "    </tr>\n",
       "  </tbody>\n",
       "</table>\n",
       "<p>8378 rows × 54 columns</p>\n",
       "</div>"
      ],
      "text/plain": [
       "      gender  order  match  sim_int_pct  samerace  age_partner  race_partner  \\\n",
       "0          0      4      0         0.14         0         27.0           2.0   \n",
       "1          0      3      0         0.54         0         22.0           2.0   \n",
       "2          0     10      1         0.16         1         22.0           4.0   \n",
       "3          0      5      1         0.61         0         23.0           2.0   \n",
       "4          0      7      1         0.21         0         24.0           3.0   \n",
       "...      ...    ...    ...          ...       ...          ...           ...   \n",
       "8373       1      5      0         0.64         0         26.0           3.0   \n",
       "8374       1      4      0         0.71         0         24.0           6.0   \n",
       "8375       1     10      0        -0.46         0         29.0           3.0   \n",
       "8376       1     16      0         0.62         0         22.0           4.0   \n",
       "8377       1     15      0         0.01         0         22.0           4.0   \n",
       "\n",
       "      pf_o_att  pref_sincerity  Pref_intell  ...  clubbing  reading   tv  \\\n",
       "0         35.0            20.0         20.0  ...       5.0      6.0  9.0   \n",
       "1         60.0             0.0          0.0  ...       5.0      6.0  9.0   \n",
       "2         19.0            18.0         19.0  ...       5.0      6.0  9.0   \n",
       "3         30.0             5.0         15.0  ...       5.0      6.0  9.0   \n",
       "4         30.0            10.0         20.0  ...       5.0      6.0  9.0   \n",
       "...        ...             ...          ...  ...       ...      ...  ...   \n",
       "8373      10.0            10.0         30.0  ...       9.0      8.0  3.0   \n",
       "8374      50.0            20.0         10.0  ...       9.0      8.0  3.0   \n",
       "8375      40.0            10.0         30.0  ...       9.0      8.0  3.0   \n",
       "8376      10.0            25.0         25.0  ...       9.0      8.0  3.0   \n",
       "8377      20.0            20.0         10.0  ...       9.0      8.0  3.0   \n",
       "\n",
       "      theater  movies  concerts  music  shopping  yoga  exphappy_frm_spddting  \n",
       "0         1.0    10.0      10.0    9.0       8.0   1.0                    3.0  \n",
       "1         1.0    10.0      10.0    9.0       8.0   1.0                    3.0  \n",
       "2         1.0    10.0      10.0    9.0       8.0   1.0                    3.0  \n",
       "3         1.0    10.0      10.0    9.0       8.0   1.0                    3.0  \n",
       "4         1.0    10.0      10.0    9.0       8.0   1.0                    3.0  \n",
       "...       ...     ...       ...    ...       ...   ...                    ...  \n",
       "8373      7.0     9.0      10.0   10.0       7.0   3.0                   10.0  \n",
       "8374      7.0     9.0      10.0   10.0       7.0   3.0                   10.0  \n",
       "8375      7.0     9.0      10.0   10.0       7.0   3.0                   10.0  \n",
       "8376      7.0     9.0      10.0   10.0       7.0   3.0                   10.0  \n",
       "8377      7.0     9.0      10.0   10.0       7.0   3.0                   10.0  \n",
       "\n",
       "[8378 rows x 54 columns]"
      ]
     },
     "execution_count": 24,
     "metadata": {},
     "output_type": "execute_result"
    }
   ],
   "source": [
    "filepath = \"./Data/3_ML_Dry_Run.csv\"\n",
    "df = pd.read_csv(filepath)\n",
    "# df = pd.read_csv(os.path.join(\"Data\", \"Speed_Dating_Data_columns.csv\"))\n",
    "df"
   ]
  },
  {
   "cell_type": "code",
   "execution_count": 25,
   "metadata": {},
   "outputs": [
    {
     "data": {
      "text/html": [
       "<div>\n",
       "<style scoped>\n",
       "    .dataframe tbody tr th:only-of-type {\n",
       "        vertical-align: middle;\n",
       "    }\n",
       "\n",
       "    .dataframe tbody tr th {\n",
       "        vertical-align: top;\n",
       "    }\n",
       "\n",
       "    .dataframe thead th {\n",
       "        text-align: right;\n",
       "    }\n",
       "</style>\n",
       "<table border=\"1\" class=\"dataframe\">\n",
       "  <thead>\n",
       "    <tr style=\"text-align: right;\">\n",
       "      <th></th>\n",
       "      <th>order</th>\n",
       "      <th>match</th>\n",
       "      <th>sim_int_pct</th>\n",
       "      <th>samerace</th>\n",
       "      <th>age_partner</th>\n",
       "      <th>race_partner</th>\n",
       "      <th>pf_o_att</th>\n",
       "      <th>pref_sincerity</th>\n",
       "      <th>Pref_intell</th>\n",
       "      <th>pref_fun</th>\n",
       "      <th>...</th>\n",
       "      <th>clubbing</th>\n",
       "      <th>reading</th>\n",
       "      <th>tv</th>\n",
       "      <th>theater</th>\n",
       "      <th>movies</th>\n",
       "      <th>concerts</th>\n",
       "      <th>music</th>\n",
       "      <th>shopping</th>\n",
       "      <th>yoga</th>\n",
       "      <th>exphappy_frm_spddting</th>\n",
       "    </tr>\n",
       "    <tr>\n",
       "      <th>gender</th>\n",
       "      <th></th>\n",
       "      <th></th>\n",
       "      <th></th>\n",
       "      <th></th>\n",
       "      <th></th>\n",
       "      <th></th>\n",
       "      <th></th>\n",
       "      <th></th>\n",
       "      <th></th>\n",
       "      <th></th>\n",
       "      <th></th>\n",
       "      <th></th>\n",
       "      <th></th>\n",
       "      <th></th>\n",
       "      <th></th>\n",
       "      <th></th>\n",
       "      <th></th>\n",
       "      <th></th>\n",
       "      <th></th>\n",
       "      <th></th>\n",
       "      <th></th>\n",
       "    </tr>\n",
       "  </thead>\n",
       "  <tbody>\n",
       "    <tr>\n",
       "      <th>0</th>\n",
       "      <td>4184</td>\n",
       "      <td>4184</td>\n",
       "      <td>4105</td>\n",
       "      <td>4184</td>\n",
       "      <td>4155</td>\n",
       "      <td>4164</td>\n",
       "      <td>4164</td>\n",
       "      <td>4164</td>\n",
       "      <td>4164</td>\n",
       "      <td>4155</td>\n",
       "      <td>...</td>\n",
       "      <td>4125</td>\n",
       "      <td>4125</td>\n",
       "      <td>4125</td>\n",
       "      <td>4125</td>\n",
       "      <td>4125</td>\n",
       "      <td>4125</td>\n",
       "      <td>4125</td>\n",
       "      <td>4125</td>\n",
       "      <td>4125</td>\n",
       "      <td>4103</td>\n",
       "    </tr>\n",
       "    <tr>\n",
       "      <th>1</th>\n",
       "      <td>4194</td>\n",
       "      <td>4194</td>\n",
       "      <td>4115</td>\n",
       "      <td>4194</td>\n",
       "      <td>4119</td>\n",
       "      <td>4141</td>\n",
       "      <td>4125</td>\n",
       "      <td>4125</td>\n",
       "      <td>4125</td>\n",
       "      <td>4125</td>\n",
       "      <td>...</td>\n",
       "      <td>4174</td>\n",
       "      <td>4174</td>\n",
       "      <td>4174</td>\n",
       "      <td>4174</td>\n",
       "      <td>4174</td>\n",
       "      <td>4174</td>\n",
       "      <td>4174</td>\n",
       "      <td>4174</td>\n",
       "      <td>4174</td>\n",
       "      <td>4174</td>\n",
       "    </tr>\n",
       "  </tbody>\n",
       "</table>\n",
       "<p>2 rows × 53 columns</p>\n",
       "</div>"
      ],
      "text/plain": [
       "        order  match  sim_int_pct  samerace  age_partner  race_partner  \\\n",
       "gender                                                                   \n",
       "0        4184   4184         4105      4184         4155          4164   \n",
       "1        4194   4194         4115      4194         4119          4141   \n",
       "\n",
       "        pf_o_att  pref_sincerity  Pref_intell  pref_fun  ...  clubbing  \\\n",
       "gender                                                   ...             \n",
       "0           4164            4164         4164      4155  ...      4125   \n",
       "1           4125            4125         4125      4125  ...      4174   \n",
       "\n",
       "        reading    tv  theater  movies  concerts  music  shopping  yoga  \\\n",
       "gender                                                                    \n",
       "0          4125  4125     4125    4125      4125   4125      4125  4125   \n",
       "1          4174  4174     4174    4174      4174   4174      4174  4174   \n",
       "\n",
       "        exphappy_frm_spddting  \n",
       "gender                         \n",
       "0                        4103  \n",
       "1                        4174  \n",
       "\n",
       "[2 rows x 53 columns]"
      ]
     },
     "execution_count": 25,
     "metadata": {},
     "output_type": "execute_result"
    }
   ],
   "source": [
    "df.groupby(\"gender\").count()"
   ]
  },
  {
   "cell_type": "code",
   "execution_count": 26,
   "metadata": {},
   "outputs": [
    {
     "data": {
      "text/html": [
       "<div>\n",
       "<style scoped>\n",
       "    .dataframe tbody tr th:only-of-type {\n",
       "        vertical-align: middle;\n",
       "    }\n",
       "\n",
       "    .dataframe tbody tr th {\n",
       "        vertical-align: top;\n",
       "    }\n",
       "\n",
       "    .dataframe thead th {\n",
       "        text-align: right;\n",
       "    }\n",
       "</style>\n",
       "<table border=\"1\" class=\"dataframe\">\n",
       "  <thead>\n",
       "    <tr style=\"text-align: right;\">\n",
       "      <th></th>\n",
       "      <th>gender</th>\n",
       "      <th>order</th>\n",
       "      <th>match</th>\n",
       "      <th>sim_int_pct</th>\n",
       "      <th>samerace</th>\n",
       "      <th>age_partner</th>\n",
       "      <th>race_partner</th>\n",
       "      <th>pf_o_att</th>\n",
       "      <th>pref_sincerity</th>\n",
       "      <th>Pref_intell</th>\n",
       "      <th>...</th>\n",
       "      <th>undergra_colby college, waterville, me</th>\n",
       "      <th>undergra_harvard</th>\n",
       "      <th>undergra_marymount manhattan college</th>\n",
       "      <th>undergra_nyu</th>\n",
       "      <th>undergra_oberlin</th>\n",
       "      <th>undergra_u of southern california, economics</th>\n",
       "      <th>undergra_ucla</th>\n",
       "      <th>undergra_umass</th>\n",
       "      <th>undergra_university of pennsylvania</th>\n",
       "      <th>undergra_wellesley college</th>\n",
       "    </tr>\n",
       "  </thead>\n",
       "  <tbody>\n",
       "    <tr>\n",
       "      <th>0</th>\n",
       "      <td>0</td>\n",
       "      <td>4</td>\n",
       "      <td>0</td>\n",
       "      <td>0.14</td>\n",
       "      <td>0</td>\n",
       "      <td>27.0</td>\n",
       "      <td>2.0</td>\n",
       "      <td>35.0</td>\n",
       "      <td>20.0</td>\n",
       "      <td>20.0</td>\n",
       "      <td>...</td>\n",
       "      <td>0</td>\n",
       "      <td>0</td>\n",
       "      <td>0</td>\n",
       "      <td>0</td>\n",
       "      <td>0</td>\n",
       "      <td>0</td>\n",
       "      <td>0</td>\n",
       "      <td>0</td>\n",
       "      <td>0</td>\n",
       "      <td>0</td>\n",
       "    </tr>\n",
       "    <tr>\n",
       "      <th>1</th>\n",
       "      <td>0</td>\n",
       "      <td>3</td>\n",
       "      <td>0</td>\n",
       "      <td>0.54</td>\n",
       "      <td>0</td>\n",
       "      <td>22.0</td>\n",
       "      <td>2.0</td>\n",
       "      <td>60.0</td>\n",
       "      <td>0.0</td>\n",
       "      <td>0.0</td>\n",
       "      <td>...</td>\n",
       "      <td>0</td>\n",
       "      <td>0</td>\n",
       "      <td>0</td>\n",
       "      <td>0</td>\n",
       "      <td>0</td>\n",
       "      <td>0</td>\n",
       "      <td>0</td>\n",
       "      <td>0</td>\n",
       "      <td>0</td>\n",
       "      <td>0</td>\n",
       "    </tr>\n",
       "    <tr>\n",
       "      <th>2</th>\n",
       "      <td>0</td>\n",
       "      <td>10</td>\n",
       "      <td>1</td>\n",
       "      <td>0.16</td>\n",
       "      <td>1</td>\n",
       "      <td>22.0</td>\n",
       "      <td>4.0</td>\n",
       "      <td>19.0</td>\n",
       "      <td>18.0</td>\n",
       "      <td>19.0</td>\n",
       "      <td>...</td>\n",
       "      <td>0</td>\n",
       "      <td>0</td>\n",
       "      <td>0</td>\n",
       "      <td>0</td>\n",
       "      <td>0</td>\n",
       "      <td>0</td>\n",
       "      <td>0</td>\n",
       "      <td>0</td>\n",
       "      <td>0</td>\n",
       "      <td>0</td>\n",
       "    </tr>\n",
       "    <tr>\n",
       "      <th>3</th>\n",
       "      <td>0</td>\n",
       "      <td>5</td>\n",
       "      <td>1</td>\n",
       "      <td>0.61</td>\n",
       "      <td>0</td>\n",
       "      <td>23.0</td>\n",
       "      <td>2.0</td>\n",
       "      <td>30.0</td>\n",
       "      <td>5.0</td>\n",
       "      <td>15.0</td>\n",
       "      <td>...</td>\n",
       "      <td>0</td>\n",
       "      <td>0</td>\n",
       "      <td>0</td>\n",
       "      <td>0</td>\n",
       "      <td>0</td>\n",
       "      <td>0</td>\n",
       "      <td>0</td>\n",
       "      <td>0</td>\n",
       "      <td>0</td>\n",
       "      <td>0</td>\n",
       "    </tr>\n",
       "    <tr>\n",
       "      <th>4</th>\n",
       "      <td>0</td>\n",
       "      <td>7</td>\n",
       "      <td>1</td>\n",
       "      <td>0.21</td>\n",
       "      <td>0</td>\n",
       "      <td>24.0</td>\n",
       "      <td>3.0</td>\n",
       "      <td>30.0</td>\n",
       "      <td>10.0</td>\n",
       "      <td>20.0</td>\n",
       "      <td>...</td>\n",
       "      <td>0</td>\n",
       "      <td>0</td>\n",
       "      <td>0</td>\n",
       "      <td>0</td>\n",
       "      <td>0</td>\n",
       "      <td>0</td>\n",
       "      <td>0</td>\n",
       "      <td>0</td>\n",
       "      <td>0</td>\n",
       "      <td>0</td>\n",
       "    </tr>\n",
       "    <tr>\n",
       "      <th>...</th>\n",
       "      <td>...</td>\n",
       "      <td>...</td>\n",
       "      <td>...</td>\n",
       "      <td>...</td>\n",
       "      <td>...</td>\n",
       "      <td>...</td>\n",
       "      <td>...</td>\n",
       "      <td>...</td>\n",
       "      <td>...</td>\n",
       "      <td>...</td>\n",
       "      <td>...</td>\n",
       "      <td>...</td>\n",
       "      <td>...</td>\n",
       "      <td>...</td>\n",
       "      <td>...</td>\n",
       "      <td>...</td>\n",
       "      <td>...</td>\n",
       "      <td>...</td>\n",
       "      <td>...</td>\n",
       "      <td>...</td>\n",
       "      <td>...</td>\n",
       "    </tr>\n",
       "    <tr>\n",
       "      <th>8350</th>\n",
       "      <td>1</td>\n",
       "      <td>19</td>\n",
       "      <td>0</td>\n",
       "      <td>0.48</td>\n",
       "      <td>0</td>\n",
       "      <td>24.0</td>\n",
       "      <td>2.0</td>\n",
       "      <td>10.0</td>\n",
       "      <td>15.0</td>\n",
       "      <td>30.0</td>\n",
       "      <td>...</td>\n",
       "      <td>0</td>\n",
       "      <td>0</td>\n",
       "      <td>0</td>\n",
       "      <td>0</td>\n",
       "      <td>0</td>\n",
       "      <td>0</td>\n",
       "      <td>0</td>\n",
       "      <td>0</td>\n",
       "      <td>0</td>\n",
       "      <td>0</td>\n",
       "    </tr>\n",
       "    <tr>\n",
       "      <th>8351</th>\n",
       "      <td>1</td>\n",
       "      <td>16</td>\n",
       "      <td>0</td>\n",
       "      <td>0.41</td>\n",
       "      <td>0</td>\n",
       "      <td>26.0</td>\n",
       "      <td>3.0</td>\n",
       "      <td>10.0</td>\n",
       "      <td>10.0</td>\n",
       "      <td>30.0</td>\n",
       "      <td>...</td>\n",
       "      <td>0</td>\n",
       "      <td>0</td>\n",
       "      <td>0</td>\n",
       "      <td>0</td>\n",
       "      <td>0</td>\n",
       "      <td>0</td>\n",
       "      <td>0</td>\n",
       "      <td>0</td>\n",
       "      <td>0</td>\n",
       "      <td>0</td>\n",
       "    </tr>\n",
       "    <tr>\n",
       "      <th>8352</th>\n",
       "      <td>1</td>\n",
       "      <td>15</td>\n",
       "      <td>0</td>\n",
       "      <td>0.29</td>\n",
       "      <td>0</td>\n",
       "      <td>24.0</td>\n",
       "      <td>6.0</td>\n",
       "      <td>50.0</td>\n",
       "      <td>20.0</td>\n",
       "      <td>10.0</td>\n",
       "      <td>...</td>\n",
       "      <td>0</td>\n",
       "      <td>0</td>\n",
       "      <td>0</td>\n",
       "      <td>0</td>\n",
       "      <td>0</td>\n",
       "      <td>0</td>\n",
       "      <td>0</td>\n",
       "      <td>0</td>\n",
       "      <td>0</td>\n",
       "      <td>0</td>\n",
       "    </tr>\n",
       "    <tr>\n",
       "      <th>8354</th>\n",
       "      <td>1</td>\n",
       "      <td>5</td>\n",
       "      <td>0</td>\n",
       "      <td>0.09</td>\n",
       "      <td>0</td>\n",
       "      <td>22.0</td>\n",
       "      <td>4.0</td>\n",
       "      <td>10.0</td>\n",
       "      <td>25.0</td>\n",
       "      <td>25.0</td>\n",
       "      <td>...</td>\n",
       "      <td>0</td>\n",
       "      <td>0</td>\n",
       "      <td>0</td>\n",
       "      <td>0</td>\n",
       "      <td>0</td>\n",
       "      <td>0</td>\n",
       "      <td>0</td>\n",
       "      <td>0</td>\n",
       "      <td>0</td>\n",
       "      <td>0</td>\n",
       "    </tr>\n",
       "    <tr>\n",
       "      <th>8355</th>\n",
       "      <td>1</td>\n",
       "      <td>4</td>\n",
       "      <td>0</td>\n",
       "      <td>-0.32</td>\n",
       "      <td>0</td>\n",
       "      <td>22.0</td>\n",
       "      <td>4.0</td>\n",
       "      <td>20.0</td>\n",
       "      <td>20.0</td>\n",
       "      <td>10.0</td>\n",
       "      <td>...</td>\n",
       "      <td>0</td>\n",
       "      <td>0</td>\n",
       "      <td>0</td>\n",
       "      <td>0</td>\n",
       "      <td>0</td>\n",
       "      <td>0</td>\n",
       "      <td>0</td>\n",
       "      <td>0</td>\n",
       "      <td>0</td>\n",
       "      <td>0</td>\n",
       "    </tr>\n",
       "  </tbody>\n",
       "</table>\n",
       "<p>5135 rows × 187 columns</p>\n",
       "</div>"
      ],
      "text/plain": [
       "      gender  order  match  sim_int_pct  samerace  age_partner  race_partner  \\\n",
       "0          0      4      0         0.14         0         27.0           2.0   \n",
       "1          0      3      0         0.54         0         22.0           2.0   \n",
       "2          0     10      1         0.16         1         22.0           4.0   \n",
       "3          0      5      1         0.61         0         23.0           2.0   \n",
       "4          0      7      1         0.21         0         24.0           3.0   \n",
       "...      ...    ...    ...          ...       ...          ...           ...   \n",
       "8350       1     19      0         0.48         0         24.0           2.0   \n",
       "8351       1     16      0         0.41         0         26.0           3.0   \n",
       "8352       1     15      0         0.29         0         24.0           6.0   \n",
       "8354       1      5      0         0.09         0         22.0           4.0   \n",
       "8355       1      4      0        -0.32         0         22.0           4.0   \n",
       "\n",
       "      pf_o_att  pref_sincerity  Pref_intell  ...  \\\n",
       "0         35.0            20.0         20.0  ...   \n",
       "1         60.0             0.0          0.0  ...   \n",
       "2         19.0            18.0         19.0  ...   \n",
       "3         30.0             5.0         15.0  ...   \n",
       "4         30.0            10.0         20.0  ...   \n",
       "...        ...             ...          ...  ...   \n",
       "8350      10.0            15.0         30.0  ...   \n",
       "8351      10.0            10.0         30.0  ...   \n",
       "8352      50.0            20.0         10.0  ...   \n",
       "8354      10.0            25.0         25.0  ...   \n",
       "8355      20.0            20.0         10.0  ...   \n",
       "\n",
       "      undergra_colby college, waterville, me  undergra_harvard  \\\n",
       "0                                          0                 0   \n",
       "1                                          0                 0   \n",
       "2                                          0                 0   \n",
       "3                                          0                 0   \n",
       "4                                          0                 0   \n",
       "...                                      ...               ...   \n",
       "8350                                       0                 0   \n",
       "8351                                       0                 0   \n",
       "8352                                       0                 0   \n",
       "8354                                       0                 0   \n",
       "8355                                       0                 0   \n",
       "\n",
       "      undergra_marymount manhattan college  undergra_nyu  undergra_oberlin  \\\n",
       "0                                        0             0                 0   \n",
       "1                                        0             0                 0   \n",
       "2                                        0             0                 0   \n",
       "3                                        0             0                 0   \n",
       "4                                        0             0                 0   \n",
       "...                                    ...           ...               ...   \n",
       "8350                                     0             0                 0   \n",
       "8351                                     0             0                 0   \n",
       "8352                                     0             0                 0   \n",
       "8354                                     0             0                 0   \n",
       "8355                                     0             0                 0   \n",
       "\n",
       "      undergra_u of southern california, economics  undergra_ucla  \\\n",
       "0                                                0              0   \n",
       "1                                                0              0   \n",
       "2                                                0              0   \n",
       "3                                                0              0   \n",
       "4                                                0              0   \n",
       "...                                            ...            ...   \n",
       "8350                                             0              0   \n",
       "8351                                             0              0   \n",
       "8352                                             0              0   \n",
       "8354                                             0              0   \n",
       "8355                                             0              0   \n",
       "\n",
       "      undergra_umass  undergra_university of pennsylvania  \\\n",
       "0                  0                                    0   \n",
       "1                  0                                    0   \n",
       "2                  0                                    0   \n",
       "3                  0                                    0   \n",
       "4                  0                                    0   \n",
       "...              ...                                  ...   \n",
       "8350               0                                    0   \n",
       "8351               0                                    0   \n",
       "8352               0                                    0   \n",
       "8354               0                                    0   \n",
       "8355               0                                    0   \n",
       "\n",
       "      undergra_wellesley college  \n",
       "0                              0  \n",
       "1                              0  \n",
       "2                              0  \n",
       "3                              0  \n",
       "4                              0  \n",
       "...                          ...  \n",
       "8350                           0  \n",
       "8351                           0  \n",
       "8352                           0  \n",
       "8354                           0  \n",
       "8355                           0  \n",
       "\n",
       "[5135 rows x 187 columns]"
      ]
     },
     "execution_count": 26,
     "metadata": {},
     "output_type": "execute_result"
    }
   ],
   "source": [
    "df2 = df.dropna()\n",
    "df2 = pd.get_dummies(df2, columns = [\"undergra\"])\n",
    "df2"
   ]
  },
  {
   "cell_type": "code",
   "execution_count": 27,
   "metadata": {},
   "outputs": [],
   "source": [
    "def string_to_number(val):\n",
    "    return int(''.join(filter(str.isdigit, val)))"
   ]
  },
  {
   "cell_type": "code",
   "execution_count": 28,
   "metadata": {},
   "outputs": [],
   "source": [
    "df2[\"mn_sat\"] = df2[\"mn_sat\"].map(string_to_number)"
   ]
  },
  {
   "cell_type": "code",
   "execution_count": 29,
   "metadata": {},
   "outputs": [],
   "source": [
    "df2[\"tuition\"] = df2[\"tuition\"].map(string_to_number)"
   ]
  },
  {
   "cell_type": "code",
   "execution_count": 30,
   "metadata": {},
   "outputs": [],
   "source": [
    "df2[\"income\"] = df2[\"income\"].map(string_to_number)"
   ]
  },
  {
   "cell_type": "code",
   "execution_count": 31,
   "metadata": {},
   "outputs": [],
   "source": [
    "df_male = df2.loc[df2[\"gender\"]==1]\n",
    "df_female = df2.loc[df2[\"gender\"]==0]"
   ]
  },
  {
   "cell_type": "code",
   "execution_count": 32,
   "metadata": {},
   "outputs": [],
   "source": [
    "X = df2.drop(columns = 'match')\n",
    "y = df2[\"match\"]\n",
    "X_male = df_male.drop(columns = ['match' , \"gender\"])\n",
    "y_male = df_male[\"match\"]\n",
    "X_female = df_female.drop(columns = ['match' , \"gender\"])\n",
    "y_female = df_female[\"match\"]"
   ]
  },
  {
   "cell_type": "code",
   "execution_count": 33,
   "metadata": {},
   "outputs": [],
   "source": [
    "X_male_train, X_male_test, y_male_train, y_male_test = train_test_split(X_male, y_male, random_state=42)\n",
    "X_female_train, X_female_test, y_female_train, y_female_test = train_test_split(X_female, y_female, random_state=42)"
   ]
  },
  {
   "cell_type": "code",
   "execution_count": 34,
   "metadata": {},
   "outputs": [],
   "source": [
    "X_train, X_test, y_train, y_test = train_test_split(X, y, random_state=42)"
   ]
  },
  {
   "cell_type": "code",
   "execution_count": 35,
   "metadata": {
    "scrolled": false
   },
   "outputs": [
    {
     "data": {
      "text/plain": [
       "0.8613707165109035"
      ]
     },
     "execution_count": 35,
     "metadata": {},
     "output_type": "execute_result"
    }
   ],
   "source": [
    "rf = RandomForestClassifier(n_estimators=200)\n",
    "rf = rf.fit(X_train, y_train)\n",
    "rf.score(X_test, y_test)"
   ]
  },
  {
   "cell_type": "code",
   "execution_count": 36,
   "metadata": {},
   "outputs": [
    {
     "data": {
      "text/plain": [
       "0.8638743455497382"
      ]
     },
     "execution_count": 36,
     "metadata": {},
     "output_type": "execute_result"
    }
   ],
   "source": [
    "rf_male = RandomForestClassifier(n_estimators=200)\n",
    "rf_male = rf_male.fit(X_male_train, y_male_train)\n",
    "rf_male.score(X_male_test, y_male_test)"
   ]
  },
  {
   "cell_type": "code",
   "execution_count": 37,
   "metadata": {},
   "outputs": [
    {
     "data": {
      "text/plain": [
       "0.8509142053445851"
      ]
     },
     "execution_count": 37,
     "metadata": {},
     "output_type": "execute_result"
    }
   ],
   "source": [
    "rf_female = RandomForestClassifier(n_estimators=200)\n",
    "rf_female = rf_female.fit(X_female_train, y_female_train)\n",
    "rf_female.score(X_female_test, y_female_test)"
   ]
  },
  {
   "cell_type": "code",
   "execution_count": 38,
   "metadata": {},
   "outputs": [
    {
     "data": {
      "text/plain": [
       "gender                                            int64\n",
       "order                                             int64\n",
       "match                                             int64\n",
       "sim_int_pct                                     float64\n",
       "samerace                                          int64\n",
       "                                                 ...   \n",
       "undergra_u of southern california, economics      uint8\n",
       "undergra_ucla                                     uint8\n",
       "undergra_umass                                    uint8\n",
       "undergra_university of pennsylvania               uint8\n",
       "undergra_wellesley college                        uint8\n",
       "Length: 187, dtype: object"
      ]
     },
     "execution_count": 38,
     "metadata": {},
     "output_type": "execute_result"
    }
   ],
   "source": [
    "# pd.set_option('display.max_columns', None)\n",
    "# pd.set_option('display.max_rows', None)\n",
    "df2.dtypes\n"
   ]
  },
  {
   "cell_type": "code",
   "execution_count": 39,
   "metadata": {},
   "outputs": [
    {
     "data": {
      "text/plain": [
       "array([5.00928597e-03, 2.48876467e-02, 3.03904328e-02, 5.54076990e-03,\n",
       "       2.16900911e-02, 1.29158346e-02, 2.37333045e-02, 2.21047771e-02,\n",
       "       2.10619497e-02, 2.16548722e-02, 2.29152591e-02, 2.28136005e-02,\n",
       "       1.24137264e-01, 3.03324141e-02, 1.62310265e-02, 1.75866465e-02,\n",
       "       2.74532370e-02, 1.70902840e-02, 3.34450805e-02, 3.43089853e-02,\n",
       "       3.33857370e-02, 1.13653778e-02, 1.52255708e-02, 1.57324431e-02,\n",
       "       1.13742763e-02, 1.16269355e-02, 8.40250709e-03, 1.37911056e-02,\n",
       "       1.21309582e-02, 1.66756757e-02, 9.23340201e-03, 1.31019848e-02,\n",
       "       9.25570688e-03, 1.20277847e-02, 1.35984399e-02, 1.35489722e-02,\n",
       "       1.47813264e-02, 1.09946249e-02, 1.21987855e-02, 1.22624459e-02,\n",
       "       1.45827457e-02, 1.26471371e-02, 1.48468381e-02, 1.08517875e-02,\n",
       "       1.33114404e-02, 1.27995323e-02, 1.11875675e-02, 1.54272261e-02,\n",
       "       1.28943059e-02, 1.38227543e-02, 1.33679093e-02, 1.29125782e-02,\n",
       "       2.09438115e-04, 3.87065237e-04, 3.21720687e-06, 2.64169620e-04,\n",
       "       3.24173046e-04, 3.40505896e-06, 1.40841472e-04, 8.63389419e-04,\n",
       "       1.77268403e-04, 1.14255113e-04, 4.49106033e-04, 2.25219226e-04,\n",
       "       9.89606588e-05, 2.43095344e-04, 6.84866480e-05, 7.55585344e-05,\n",
       "       3.62867141e-05, 5.59507812e-04, 3.72958302e-04, 5.55610854e-04,\n",
       "       2.20816625e-03, 1.45085241e-04, 2.05835526e-04, 3.08726688e-05,\n",
       "       6.07191760e-04, 1.85221872e-04, 1.35108095e-04, 9.22890789e-06,\n",
       "       1.42865749e-04, 6.27722524e-04, 1.54803382e-04, 0.00000000e+00,\n",
       "       2.00251905e-05, 2.98823686e-04, 2.08322529e-04, 4.30141781e-05,\n",
       "       8.95834495e-04, 5.96695136e-06, 1.14350143e-04, 2.79314176e-04,\n",
       "       5.16137171e-04, 7.77640417e-05, 1.27816364e-04, 0.00000000e+00,\n",
       "       6.82889104e-06, 1.04562070e-03, 3.51094296e-04, 1.54903044e-04,\n",
       "       6.62602979e-04, 1.96199480e-04, 4.23708373e-05, 8.39252279e-04,\n",
       "       1.51444183e-04, 3.25901589e-05, 2.39420038e-04, 4.85541010e-04,\n",
       "       1.03883056e-04, 1.11009989e-04, 2.69008940e-04, 2.34873488e-04,\n",
       "       1.63533155e-04, 1.02795288e-04, 1.29900876e-04, 4.73859336e-09,\n",
       "       2.19904316e-04, 5.95439682e-05, 5.73352623e-04, 1.00495087e-04,\n",
       "       1.68880911e-04, 1.68217118e-05, 3.03804743e-04, 7.99376276e-05,\n",
       "       1.33463492e-05, 0.00000000e+00, 2.80098009e-05, 4.03785293e-05,\n",
       "       1.14645930e-04, 1.04134598e-03, 5.66529701e-05, 1.30001682e-04,\n",
       "       5.55645779e-05, 2.75204823e-04, 5.15427773e-05, 1.85254026e-04,\n",
       "       6.04009985e-05, 6.53379425e-05, 2.24270132e-04, 5.55692815e-05,\n",
       "       1.68940528e-04, 8.32789901e-04, 1.09384826e-06, 8.88869597e-06,\n",
       "       9.32971525e-06, 1.34699197e-04, 2.27042528e-06, 1.28022902e-04,\n",
       "       1.41994091e-05, 3.67544175e-03, 2.68547969e-04, 2.53453138e-04,\n",
       "       3.02291213e-08, 1.44408078e-04, 3.10417220e-05, 7.72952843e-05,\n",
       "       8.80230320e-05, 4.53615467e-04, 4.57172633e-06, 7.12576852e-05,\n",
       "       1.49399156e-04, 6.19469308e-05, 5.63012068e-04, 8.48508547e-06,\n",
       "       5.98379141e-04, 5.20962460e-05, 5.14826816e-04, 1.19521350e-05,\n",
       "       2.46490720e-04, 2.61359862e-04, 3.22599351e-04, 4.40741590e-04,\n",
       "       3.76391525e-04, 3.26388487e-04, 1.62833947e-03, 3.48569885e-04,\n",
       "       4.23652208e-04, 2.96478964e-04, 3.41580893e-09, 3.31719112e-05,\n",
       "       1.25035844e-07, 1.03446206e-04, 5.91492513e-04, 1.87312774e-05,\n",
       "       2.92149240e-05, 1.01511484e-04])"
      ]
     },
     "execution_count": 39,
     "metadata": {},
     "output_type": "execute_result"
    }
   ],
   "source": [
    "importances = rf.feature_importances_\n",
    "importances"
   ]
  },
  {
   "cell_type": "code",
   "execution_count": 40,
   "metadata": {},
   "outputs": [],
   "source": [
    "def round_Feature (x):\n",
    "    return round(x,6)*100"
   ]
  },
  {
   "cell_type": "markdown",
   "metadata": {},
   "source": [
    "## Overall Features"
   ]
  },
  {
   "cell_type": "code",
   "execution_count": 58,
   "metadata": {},
   "outputs": [
    {
     "data": {
      "text/html": [
       "<div>\n",
       "<style scoped>\n",
       "    .dataframe tbody tr th:only-of-type {\n",
       "        vertical-align: middle;\n",
       "    }\n",
       "\n",
       "    .dataframe tbody tr th {\n",
       "        vertical-align: top;\n",
       "    }\n",
       "\n",
       "    .dataframe thead th {\n",
       "        text-align: right;\n",
       "    }\n",
       "</style>\n",
       "<table border=\"1\" class=\"dataframe\">\n",
       "  <thead>\n",
       "    <tr style=\"text-align: right;\">\n",
       "      <th></th>\n",
       "      <th>Feature_Percentage</th>\n",
       "      <th>Feature</th>\n",
       "    </tr>\n",
       "  </thead>\n",
       "  <tbody>\n",
       "    <tr>\n",
       "      <th>0</th>\n",
       "      <td>12.4137</td>\n",
       "      <td>dec_partner</td>\n",
       "    </tr>\n",
       "    <tr>\n",
       "      <th>1</th>\n",
       "      <td>3.4309</td>\n",
       "      <td>likeness_partner</td>\n",
       "    </tr>\n",
       "    <tr>\n",
       "      <th>2</th>\n",
       "      <td>3.3445</td>\n",
       "      <td>shar_of_partner</td>\n",
       "    </tr>\n",
       "    <tr>\n",
       "      <th>3</th>\n",
       "      <td>3.3386</td>\n",
       "      <td>partner_says_yes</td>\n",
       "    </tr>\n",
       "    <tr>\n",
       "      <th>4</th>\n",
       "      <td>3.0390</td>\n",
       "      <td>sim_int_pct</td>\n",
       "    </tr>\n",
       "    <tr>\n",
       "      <th>5</th>\n",
       "      <td>3.0332</td>\n",
       "      <td>overall_attr_partner</td>\n",
       "    </tr>\n",
       "    <tr>\n",
       "      <th>6</th>\n",
       "      <td>2.7453</td>\n",
       "      <td>fun_of_partner</td>\n",
       "    </tr>\n",
       "    <tr>\n",
       "      <th>7</th>\n",
       "      <td>2.4888</td>\n",
       "      <td>order</td>\n",
       "    </tr>\n",
       "    <tr>\n",
       "      <th>8</th>\n",
       "      <td>2.3733</td>\n",
       "      <td>pf_o_att</td>\n",
       "    </tr>\n",
       "    <tr>\n",
       "      <th>9</th>\n",
       "      <td>2.2915</td>\n",
       "      <td>pref_ambiton</td>\n",
       "    </tr>\n",
       "    <tr>\n",
       "      <th>10</th>\n",
       "      <td>2.2814</td>\n",
       "      <td>pref_shared_int</td>\n",
       "    </tr>\n",
       "    <tr>\n",
       "      <th>11</th>\n",
       "      <td>2.2105</td>\n",
       "      <td>pref_sincerity</td>\n",
       "    </tr>\n",
       "    <tr>\n",
       "      <th>12</th>\n",
       "      <td>2.1690</td>\n",
       "      <td>age_partner</td>\n",
       "    </tr>\n",
       "    <tr>\n",
       "      <th>13</th>\n",
       "      <td>2.1655</td>\n",
       "      <td>pref_fun</td>\n",
       "    </tr>\n",
       "    <tr>\n",
       "      <th>14</th>\n",
       "      <td>2.1062</td>\n",
       "      <td>Pref_intell</td>\n",
       "    </tr>\n",
       "    <tr>\n",
       "      <th>15</th>\n",
       "      <td>1.7587</td>\n",
       "      <td>intel_of_partner</td>\n",
       "    </tr>\n",
       "    <tr>\n",
       "      <th>16</th>\n",
       "      <td>1.7090</td>\n",
       "      <td>amb_of_partner</td>\n",
       "    </tr>\n",
       "    <tr>\n",
       "      <th>17</th>\n",
       "      <td>1.6676</td>\n",
       "      <td>income</td>\n",
       "    </tr>\n",
       "    <tr>\n",
       "      <th>18</th>\n",
       "      <td>1.6231</td>\n",
       "      <td>sinc_of_partner</td>\n",
       "    </tr>\n",
       "    <tr>\n",
       "      <th>19</th>\n",
       "      <td>1.5732</td>\n",
       "      <td>field_cd</td>\n",
       "    </tr>\n",
       "    <tr>\n",
       "      <th>20</th>\n",
       "      <td>1.5427</td>\n",
       "      <td>concerts</td>\n",
       "    </tr>\n",
       "    <tr>\n",
       "      <th>21</th>\n",
       "      <td>1.5226</td>\n",
       "      <td>age_subject</td>\n",
       "    </tr>\n",
       "    <tr>\n",
       "      <th>22</th>\n",
       "      <td>1.4847</td>\n",
       "      <td>clubbing</td>\n",
       "    </tr>\n",
       "    <tr>\n",
       "      <th>23</th>\n",
       "      <td>1.4781</td>\n",
       "      <td>exercise</td>\n",
       "    </tr>\n",
       "    <tr>\n",
       "      <th>24</th>\n",
       "      <td>1.4583</td>\n",
       "      <td>hiking</td>\n",
       "    </tr>\n",
       "    <tr>\n",
       "      <th>25</th>\n",
       "      <td>1.3823</td>\n",
       "      <td>shopping</td>\n",
       "    </tr>\n",
       "    <tr>\n",
       "      <th>26</th>\n",
       "      <td>1.3791</td>\n",
       "      <td>imprace</td>\n",
       "    </tr>\n",
       "    <tr>\n",
       "      <th>27</th>\n",
       "      <td>1.3598</td>\n",
       "      <td>sports</td>\n",
       "    </tr>\n",
       "    <tr>\n",
       "      <th>28</th>\n",
       "      <td>1.3549</td>\n",
       "      <td>tvsports</td>\n",
       "    </tr>\n",
       "    <tr>\n",
       "      <th>29</th>\n",
       "      <td>1.3368</td>\n",
       "      <td>yoga</td>\n",
       "    </tr>\n",
       "  </tbody>\n",
       "</table>\n",
       "</div>"
      ],
      "text/plain": [
       "    Feature_Percentage               Feature\n",
       "0              12.4137           dec_partner\n",
       "1               3.4309      likeness_partner\n",
       "2               3.3445       shar_of_partner\n",
       "3               3.3386      partner_says_yes\n",
       "4               3.0390           sim_int_pct\n",
       "5               3.0332  overall_attr_partner\n",
       "6               2.7453        fun_of_partner\n",
       "7               2.4888                 order\n",
       "8               2.3733              pf_o_att\n",
       "9               2.2915          pref_ambiton\n",
       "10              2.2814       pref_shared_int\n",
       "11              2.2105        pref_sincerity\n",
       "12              2.1690           age_partner\n",
       "13              2.1655              pref_fun\n",
       "14              2.1062           Pref_intell\n",
       "15              1.7587      intel_of_partner\n",
       "16              1.7090        amb_of_partner\n",
       "17              1.6676                income\n",
       "18              1.6231       sinc_of_partner\n",
       "19              1.5732              field_cd\n",
       "20              1.5427              concerts\n",
       "21              1.5226           age_subject\n",
       "22              1.4847              clubbing\n",
       "23              1.4781              exercise\n",
       "24              1.4583                hiking\n",
       "25              1.3823              shopping\n",
       "26              1.3791               imprace\n",
       "27              1.3598                sports\n",
       "28              1.3549              tvsports\n",
       "29              1.3368                  yoga"
      ]
     },
     "execution_count": 58,
     "metadata": {},
     "output_type": "execute_result"
    }
   ],
   "source": [
    "# Import Model for all Match Data\n",
    "features_of_importance = sorted(zip(rf.feature_importances_, X.columns), reverse=True)\n",
    "feature_df = pd.DataFrame(features_of_importance, columns=[\"Feature_Percentage\" , \"Feature\"])\n",
    "feature_df[\"Feature_Percentage\"] = feature_df[\"Feature_Percentage\"].map(round_Feature)\n",
    "feature_df = feature_df.head(30)\n",
    "feature_df"
   ]
  },
  {
   "cell_type": "code",
   "execution_count": 60,
   "metadata": {},
   "outputs": [
    {
     "data": {
      "text/html": [
       "<div>\n",
       "<style scoped>\n",
       "    .dataframe tbody tr th:only-of-type {\n",
       "        vertical-align: middle;\n",
       "    }\n",
       "\n",
       "    .dataframe tbody tr th {\n",
       "        vertical-align: top;\n",
       "    }\n",
       "\n",
       "    .dataframe thead th {\n",
       "        text-align: right;\n",
       "    }\n",
       "</style>\n",
       "<table border=\"1\" class=\"dataframe\">\n",
       "  <thead>\n",
       "    <tr style=\"text-align: right;\">\n",
       "      <th></th>\n",
       "      <th>Feature</th>\n",
       "    </tr>\n",
       "    <tr>\n",
       "      <th>Feature_Percentage</th>\n",
       "      <th></th>\n",
       "    </tr>\n",
       "  </thead>\n",
       "  <tbody>\n",
       "    <tr>\n",
       "      <th>12.4137</th>\n",
       "      <td>dec_partner</td>\n",
       "    </tr>\n",
       "    <tr>\n",
       "      <th>3.4309</th>\n",
       "      <td>likeness_partner</td>\n",
       "    </tr>\n",
       "    <tr>\n",
       "      <th>3.3445</th>\n",
       "      <td>shar_of_partner</td>\n",
       "    </tr>\n",
       "    <tr>\n",
       "      <th>3.3386</th>\n",
       "      <td>partner_says_yes</td>\n",
       "    </tr>\n",
       "    <tr>\n",
       "      <th>3.0390</th>\n",
       "      <td>sim_int_pct</td>\n",
       "    </tr>\n",
       "    <tr>\n",
       "      <th>3.0332</th>\n",
       "      <td>overall_attr_partner</td>\n",
       "    </tr>\n",
       "    <tr>\n",
       "      <th>2.7453</th>\n",
       "      <td>fun_of_partner</td>\n",
       "    </tr>\n",
       "    <tr>\n",
       "      <th>2.4888</th>\n",
       "      <td>order</td>\n",
       "    </tr>\n",
       "    <tr>\n",
       "      <th>2.3733</th>\n",
       "      <td>pf_o_att</td>\n",
       "    </tr>\n",
       "    <tr>\n",
       "      <th>2.2915</th>\n",
       "      <td>pref_ambiton</td>\n",
       "    </tr>\n",
       "  </tbody>\n",
       "</table>\n",
       "</div>"
      ],
      "text/plain": [
       "                                 Feature\n",
       "Feature_Percentage                      \n",
       "12.4137                      dec_partner\n",
       "3.4309                  likeness_partner\n",
       "3.3445                   shar_of_partner\n",
       "3.3386                  partner_says_yes\n",
       "3.0390                       sim_int_pct\n",
       "3.0332              overall_attr_partner\n",
       "2.7453                    fun_of_partner\n",
       "2.4888                             order\n",
       "2.3733                          pf_o_att\n",
       "2.2915                      pref_ambiton"
      ]
     },
     "execution_count": 60,
     "metadata": {},
     "output_type": "execute_result"
    }
   ],
   "source": [
    "top_feature_rawdf = feature_df.head(10)\n",
    "\n",
    "# top_feature_rawdf = top_feature_rawdf.sort_values('Feature_Percentage', desc=True)\n",
    "top_feature_rawdf = top_feature_rawdf.set_index('Feature_Percentage')\n",
    "top_feature_rawdf"
   ]
  },
  {
   "cell_type": "code",
   "execution_count": 63,
   "metadata": {},
   "outputs": [
    {
     "data": {
      "application/vnd.plotly.v1+json": {
       "config": {
        "plotlyServerURL": "https://plot.ly"
       },
       "data": [
        {
         "marker": {
          "color": "rgba(71, 58, 131, 0.8)"
         },
         "name": "Top 10 Overall Features",
         "orientation": "h",
         "type": "bar",
         "x": [
          12.4137,
          3.4309,
          3.3445,
          3.3386,
          3.039,
          3.0332000000000003,
          2.7453000000000003,
          2.4888,
          2.3733,
          2.2915
         ],
         "y": [
          "dec_partner",
          "likeness_partner",
          "shar_of_partner",
          "partner_says_yes",
          "sim_int_pct",
          "overall_attr_partner",
          "fun_of_partner",
          "order",
          "pf_o_att",
          "pref_ambiton"
         ]
        }
       ],
       "layout": {
        "template": {
         "data": {
          "bar": [
           {
            "error_x": {
             "color": "#2a3f5f"
            },
            "error_y": {
             "color": "#2a3f5f"
            },
            "marker": {
             "line": {
              "color": "#E5ECF6",
              "width": 0.5
             }
            },
            "type": "bar"
           }
          ],
          "barpolar": [
           {
            "marker": {
             "line": {
              "color": "#E5ECF6",
              "width": 0.5
             }
            },
            "type": "barpolar"
           }
          ],
          "carpet": [
           {
            "aaxis": {
             "endlinecolor": "#2a3f5f",
             "gridcolor": "white",
             "linecolor": "white",
             "minorgridcolor": "white",
             "startlinecolor": "#2a3f5f"
            },
            "baxis": {
             "endlinecolor": "#2a3f5f",
             "gridcolor": "white",
             "linecolor": "white",
             "minorgridcolor": "white",
             "startlinecolor": "#2a3f5f"
            },
            "type": "carpet"
           }
          ],
          "choropleth": [
           {
            "colorbar": {
             "outlinewidth": 0,
             "ticks": ""
            },
            "type": "choropleth"
           }
          ],
          "contour": [
           {
            "colorbar": {
             "outlinewidth": 0,
             "ticks": ""
            },
            "colorscale": [
             [
              0,
              "#0d0887"
             ],
             [
              0.1111111111111111,
              "#46039f"
             ],
             [
              0.2222222222222222,
              "#7201a8"
             ],
             [
              0.3333333333333333,
              "#9c179e"
             ],
             [
              0.4444444444444444,
              "#bd3786"
             ],
             [
              0.5555555555555556,
              "#d8576b"
             ],
             [
              0.6666666666666666,
              "#ed7953"
             ],
             [
              0.7777777777777778,
              "#fb9f3a"
             ],
             [
              0.8888888888888888,
              "#fdca26"
             ],
             [
              1,
              "#f0f921"
             ]
            ],
            "type": "contour"
           }
          ],
          "contourcarpet": [
           {
            "colorbar": {
             "outlinewidth": 0,
             "ticks": ""
            },
            "type": "contourcarpet"
           }
          ],
          "heatmap": [
           {
            "colorbar": {
             "outlinewidth": 0,
             "ticks": ""
            },
            "colorscale": [
             [
              0,
              "#0d0887"
             ],
             [
              0.1111111111111111,
              "#46039f"
             ],
             [
              0.2222222222222222,
              "#7201a8"
             ],
             [
              0.3333333333333333,
              "#9c179e"
             ],
             [
              0.4444444444444444,
              "#bd3786"
             ],
             [
              0.5555555555555556,
              "#d8576b"
             ],
             [
              0.6666666666666666,
              "#ed7953"
             ],
             [
              0.7777777777777778,
              "#fb9f3a"
             ],
             [
              0.8888888888888888,
              "#fdca26"
             ],
             [
              1,
              "#f0f921"
             ]
            ],
            "type": "heatmap"
           }
          ],
          "heatmapgl": [
           {
            "colorbar": {
             "outlinewidth": 0,
             "ticks": ""
            },
            "colorscale": [
             [
              0,
              "#0d0887"
             ],
             [
              0.1111111111111111,
              "#46039f"
             ],
             [
              0.2222222222222222,
              "#7201a8"
             ],
             [
              0.3333333333333333,
              "#9c179e"
             ],
             [
              0.4444444444444444,
              "#bd3786"
             ],
             [
              0.5555555555555556,
              "#d8576b"
             ],
             [
              0.6666666666666666,
              "#ed7953"
             ],
             [
              0.7777777777777778,
              "#fb9f3a"
             ],
             [
              0.8888888888888888,
              "#fdca26"
             ],
             [
              1,
              "#f0f921"
             ]
            ],
            "type": "heatmapgl"
           }
          ],
          "histogram": [
           {
            "marker": {
             "colorbar": {
              "outlinewidth": 0,
              "ticks": ""
             }
            },
            "type": "histogram"
           }
          ],
          "histogram2d": [
           {
            "colorbar": {
             "outlinewidth": 0,
             "ticks": ""
            },
            "colorscale": [
             [
              0,
              "#0d0887"
             ],
             [
              0.1111111111111111,
              "#46039f"
             ],
             [
              0.2222222222222222,
              "#7201a8"
             ],
             [
              0.3333333333333333,
              "#9c179e"
             ],
             [
              0.4444444444444444,
              "#bd3786"
             ],
             [
              0.5555555555555556,
              "#d8576b"
             ],
             [
              0.6666666666666666,
              "#ed7953"
             ],
             [
              0.7777777777777778,
              "#fb9f3a"
             ],
             [
              0.8888888888888888,
              "#fdca26"
             ],
             [
              1,
              "#f0f921"
             ]
            ],
            "type": "histogram2d"
           }
          ],
          "histogram2dcontour": [
           {
            "colorbar": {
             "outlinewidth": 0,
             "ticks": ""
            },
            "colorscale": [
             [
              0,
              "#0d0887"
             ],
             [
              0.1111111111111111,
              "#46039f"
             ],
             [
              0.2222222222222222,
              "#7201a8"
             ],
             [
              0.3333333333333333,
              "#9c179e"
             ],
             [
              0.4444444444444444,
              "#bd3786"
             ],
             [
              0.5555555555555556,
              "#d8576b"
             ],
             [
              0.6666666666666666,
              "#ed7953"
             ],
             [
              0.7777777777777778,
              "#fb9f3a"
             ],
             [
              0.8888888888888888,
              "#fdca26"
             ],
             [
              1,
              "#f0f921"
             ]
            ],
            "type": "histogram2dcontour"
           }
          ],
          "mesh3d": [
           {
            "colorbar": {
             "outlinewidth": 0,
             "ticks": ""
            },
            "type": "mesh3d"
           }
          ],
          "parcoords": [
           {
            "line": {
             "colorbar": {
              "outlinewidth": 0,
              "ticks": ""
             }
            },
            "type": "parcoords"
           }
          ],
          "pie": [
           {
            "automargin": true,
            "type": "pie"
           }
          ],
          "scatter": [
           {
            "marker": {
             "colorbar": {
              "outlinewidth": 0,
              "ticks": ""
             }
            },
            "type": "scatter"
           }
          ],
          "scatter3d": [
           {
            "line": {
             "colorbar": {
              "outlinewidth": 0,
              "ticks": ""
             }
            },
            "marker": {
             "colorbar": {
              "outlinewidth": 0,
              "ticks": ""
             }
            },
            "type": "scatter3d"
           }
          ],
          "scattercarpet": [
           {
            "marker": {
             "colorbar": {
              "outlinewidth": 0,
              "ticks": ""
             }
            },
            "type": "scattercarpet"
           }
          ],
          "scattergeo": [
           {
            "marker": {
             "colorbar": {
              "outlinewidth": 0,
              "ticks": ""
             }
            },
            "type": "scattergeo"
           }
          ],
          "scattergl": [
           {
            "marker": {
             "colorbar": {
              "outlinewidth": 0,
              "ticks": ""
             }
            },
            "type": "scattergl"
           }
          ],
          "scattermapbox": [
           {
            "marker": {
             "colorbar": {
              "outlinewidth": 0,
              "ticks": ""
             }
            },
            "type": "scattermapbox"
           }
          ],
          "scatterpolar": [
           {
            "marker": {
             "colorbar": {
              "outlinewidth": 0,
              "ticks": ""
             }
            },
            "type": "scatterpolar"
           }
          ],
          "scatterpolargl": [
           {
            "marker": {
             "colorbar": {
              "outlinewidth": 0,
              "ticks": ""
             }
            },
            "type": "scatterpolargl"
           }
          ],
          "scatterternary": [
           {
            "marker": {
             "colorbar": {
              "outlinewidth": 0,
              "ticks": ""
             }
            },
            "type": "scatterternary"
           }
          ],
          "surface": [
           {
            "colorbar": {
             "outlinewidth": 0,
             "ticks": ""
            },
            "colorscale": [
             [
              0,
              "#0d0887"
             ],
             [
              0.1111111111111111,
              "#46039f"
             ],
             [
              0.2222222222222222,
              "#7201a8"
             ],
             [
              0.3333333333333333,
              "#9c179e"
             ],
             [
              0.4444444444444444,
              "#bd3786"
             ],
             [
              0.5555555555555556,
              "#d8576b"
             ],
             [
              0.6666666666666666,
              "#ed7953"
             ],
             [
              0.7777777777777778,
              "#fb9f3a"
             ],
             [
              0.8888888888888888,
              "#fdca26"
             ],
             [
              1,
              "#f0f921"
             ]
            ],
            "type": "surface"
           }
          ],
          "table": [
           {
            "cells": {
             "fill": {
              "color": "#EBF0F8"
             },
             "line": {
              "color": "white"
             }
            },
            "header": {
             "fill": {
              "color": "#C8D4E3"
             },
             "line": {
              "color": "white"
             }
            },
            "type": "table"
           }
          ]
         },
         "layout": {
          "annotationdefaults": {
           "arrowcolor": "#2a3f5f",
           "arrowhead": 0,
           "arrowwidth": 1
          },
          "coloraxis": {
           "colorbar": {
            "outlinewidth": 0,
            "ticks": ""
           }
          },
          "colorscale": {
           "diverging": [
            [
             0,
             "#8e0152"
            ],
            [
             0.1,
             "#c51b7d"
            ],
            [
             0.2,
             "#de77ae"
            ],
            [
             0.3,
             "#f1b6da"
            ],
            [
             0.4,
             "#fde0ef"
            ],
            [
             0.5,
             "#f7f7f7"
            ],
            [
             0.6,
             "#e6f5d0"
            ],
            [
             0.7,
             "#b8e186"
            ],
            [
             0.8,
             "#7fbc41"
            ],
            [
             0.9,
             "#4d9221"
            ],
            [
             1,
             "#276419"
            ]
           ],
           "sequential": [
            [
             0,
             "#0d0887"
            ],
            [
             0.1111111111111111,
             "#46039f"
            ],
            [
             0.2222222222222222,
             "#7201a8"
            ],
            [
             0.3333333333333333,
             "#9c179e"
            ],
            [
             0.4444444444444444,
             "#bd3786"
            ],
            [
             0.5555555555555556,
             "#d8576b"
            ],
            [
             0.6666666666666666,
             "#ed7953"
            ],
            [
             0.7777777777777778,
             "#fb9f3a"
            ],
            [
             0.8888888888888888,
             "#fdca26"
            ],
            [
             1,
             "#f0f921"
            ]
           ],
           "sequentialminus": [
            [
             0,
             "#0d0887"
            ],
            [
             0.1111111111111111,
             "#46039f"
            ],
            [
             0.2222222222222222,
             "#7201a8"
            ],
            [
             0.3333333333333333,
             "#9c179e"
            ],
            [
             0.4444444444444444,
             "#bd3786"
            ],
            [
             0.5555555555555556,
             "#d8576b"
            ],
            [
             0.6666666666666666,
             "#ed7953"
            ],
            [
             0.7777777777777778,
             "#fb9f3a"
            ],
            [
             0.8888888888888888,
             "#fdca26"
            ],
            [
             1,
             "#f0f921"
            ]
           ]
          },
          "colorway": [
           "#636efa",
           "#EF553B",
           "#00cc96",
           "#ab63fa",
           "#FFA15A",
           "#19d3f3",
           "#FF6692",
           "#B6E880",
           "#FF97FF",
           "#FECB52"
          ],
          "font": {
           "color": "#2a3f5f"
          },
          "geo": {
           "bgcolor": "white",
           "lakecolor": "white",
           "landcolor": "#E5ECF6",
           "showlakes": true,
           "showland": true,
           "subunitcolor": "white"
          },
          "hoverlabel": {
           "align": "left"
          },
          "hovermode": "closest",
          "mapbox": {
           "style": "light"
          },
          "paper_bgcolor": "white",
          "plot_bgcolor": "#E5ECF6",
          "polar": {
           "angularaxis": {
            "gridcolor": "white",
            "linecolor": "white",
            "ticks": ""
           },
           "bgcolor": "#E5ECF6",
           "radialaxis": {
            "gridcolor": "white",
            "linecolor": "white",
            "ticks": ""
           }
          },
          "scene": {
           "xaxis": {
            "backgroundcolor": "#E5ECF6",
            "gridcolor": "white",
            "gridwidth": 2,
            "linecolor": "white",
            "showbackground": true,
            "ticks": "",
            "zerolinecolor": "white"
           },
           "yaxis": {
            "backgroundcolor": "#E5ECF6",
            "gridcolor": "white",
            "gridwidth": 2,
            "linecolor": "white",
            "showbackground": true,
            "ticks": "",
            "zerolinecolor": "white"
           },
           "zaxis": {
            "backgroundcolor": "#E5ECF6",
            "gridcolor": "white",
            "gridwidth": 2,
            "linecolor": "white",
            "showbackground": true,
            "ticks": "",
            "zerolinecolor": "white"
           }
          },
          "shapedefaults": {
           "line": {
            "color": "#2a3f5f"
           }
          },
          "ternary": {
           "aaxis": {
            "gridcolor": "white",
            "linecolor": "white",
            "ticks": ""
           },
           "baxis": {
            "gridcolor": "white",
            "linecolor": "white",
            "ticks": ""
           },
           "bgcolor": "#E5ECF6",
           "caxis": {
            "gridcolor": "white",
            "linecolor": "white",
            "ticks": ""
           }
          },
          "title": {
           "x": 0.05
          },
          "xaxis": {
           "automargin": true,
           "gridcolor": "white",
           "linecolor": "white",
           "ticks": "",
           "title": {
            "standoff": 15
           },
           "zerolinecolor": "white",
           "zerolinewidth": 2
          },
          "yaxis": {
           "automargin": true,
           "gridcolor": "white",
           "linecolor": "white",
           "ticks": "",
           "title": {
            "standoff": 15
           },
           "zerolinecolor": "white",
           "zerolinewidth": 2
          }
         }
        }
       }
      },
      "text/html": [
       "<div>                            <div id=\"e3c653c6-5569-4b4b-a7d8-57d4574d9cb1\" class=\"plotly-graph-div\" style=\"height:525px; width:100%;\"></div>            <script type=\"text/javascript\">                require([\"plotly\"], function(Plotly) {                    window.PLOTLYENV=window.PLOTLYENV || {};                                    if (document.getElementById(\"e3c653c6-5569-4b4b-a7d8-57d4574d9cb1\")) {                    Plotly.newPlot(                        \"e3c653c6-5569-4b4b-a7d8-57d4574d9cb1\",                        [{\"marker\": {\"color\": \"rgba(71, 58, 131, 0.8)\"}, \"name\": \"Top 10 Overall Features\", \"orientation\": \"h\", \"type\": \"bar\", \"x\": [12.4137, 3.4309, 3.3445, 3.3386, 3.039, 3.0332000000000003, 2.7453000000000003, 2.4888, 2.3733, 2.2915], \"y\": [\"dec_partner\", \"likeness_partner\", \"shar_of_partner\", \"partner_says_yes\", \"sim_int_pct\", \"overall_attr_partner\", \"fun_of_partner\", \"order\", \"pf_o_att\", \"pref_ambiton\"]}],                        {\"template\": {\"data\": {\"bar\": [{\"error_x\": {\"color\": \"#2a3f5f\"}, \"error_y\": {\"color\": \"#2a3f5f\"}, \"marker\": {\"line\": {\"color\": \"#E5ECF6\", \"width\": 0.5}}, \"type\": \"bar\"}], \"barpolar\": [{\"marker\": {\"line\": {\"color\": \"#E5ECF6\", \"width\": 0.5}}, \"type\": \"barpolar\"}], \"carpet\": [{\"aaxis\": {\"endlinecolor\": \"#2a3f5f\", \"gridcolor\": \"white\", \"linecolor\": \"white\", \"minorgridcolor\": \"white\", \"startlinecolor\": \"#2a3f5f\"}, \"baxis\": {\"endlinecolor\": \"#2a3f5f\", \"gridcolor\": \"white\", \"linecolor\": \"white\", \"minorgridcolor\": \"white\", \"startlinecolor\": \"#2a3f5f\"}, \"type\": \"carpet\"}], \"choropleth\": [{\"colorbar\": {\"outlinewidth\": 0, \"ticks\": \"\"}, \"type\": \"choropleth\"}], \"contour\": [{\"colorbar\": {\"outlinewidth\": 0, \"ticks\": \"\"}, \"colorscale\": [[0.0, \"#0d0887\"], [0.1111111111111111, \"#46039f\"], [0.2222222222222222, \"#7201a8\"], [0.3333333333333333, \"#9c179e\"], [0.4444444444444444, \"#bd3786\"], [0.5555555555555556, \"#d8576b\"], [0.6666666666666666, \"#ed7953\"], [0.7777777777777778, \"#fb9f3a\"], [0.8888888888888888, \"#fdca26\"], [1.0, \"#f0f921\"]], \"type\": \"contour\"}], \"contourcarpet\": [{\"colorbar\": {\"outlinewidth\": 0, \"ticks\": \"\"}, \"type\": \"contourcarpet\"}], \"heatmap\": [{\"colorbar\": {\"outlinewidth\": 0, \"ticks\": \"\"}, \"colorscale\": [[0.0, \"#0d0887\"], [0.1111111111111111, \"#46039f\"], [0.2222222222222222, \"#7201a8\"], [0.3333333333333333, \"#9c179e\"], [0.4444444444444444, \"#bd3786\"], [0.5555555555555556, \"#d8576b\"], [0.6666666666666666, \"#ed7953\"], [0.7777777777777778, \"#fb9f3a\"], [0.8888888888888888, \"#fdca26\"], [1.0, \"#f0f921\"]], \"type\": \"heatmap\"}], \"heatmapgl\": [{\"colorbar\": {\"outlinewidth\": 0, \"ticks\": \"\"}, \"colorscale\": [[0.0, \"#0d0887\"], [0.1111111111111111, \"#46039f\"], [0.2222222222222222, \"#7201a8\"], [0.3333333333333333, \"#9c179e\"], [0.4444444444444444, \"#bd3786\"], [0.5555555555555556, \"#d8576b\"], [0.6666666666666666, \"#ed7953\"], [0.7777777777777778, \"#fb9f3a\"], [0.8888888888888888, \"#fdca26\"], [1.0, \"#f0f921\"]], \"type\": \"heatmapgl\"}], \"histogram\": [{\"marker\": {\"colorbar\": {\"outlinewidth\": 0, \"ticks\": \"\"}}, \"type\": \"histogram\"}], \"histogram2d\": [{\"colorbar\": {\"outlinewidth\": 0, \"ticks\": \"\"}, \"colorscale\": [[0.0, \"#0d0887\"], [0.1111111111111111, \"#46039f\"], [0.2222222222222222, \"#7201a8\"], [0.3333333333333333, \"#9c179e\"], [0.4444444444444444, \"#bd3786\"], [0.5555555555555556, \"#d8576b\"], [0.6666666666666666, \"#ed7953\"], [0.7777777777777778, \"#fb9f3a\"], [0.8888888888888888, \"#fdca26\"], [1.0, \"#f0f921\"]], \"type\": \"histogram2d\"}], \"histogram2dcontour\": [{\"colorbar\": {\"outlinewidth\": 0, \"ticks\": \"\"}, \"colorscale\": [[0.0, \"#0d0887\"], [0.1111111111111111, \"#46039f\"], [0.2222222222222222, \"#7201a8\"], [0.3333333333333333, \"#9c179e\"], [0.4444444444444444, \"#bd3786\"], [0.5555555555555556, \"#d8576b\"], [0.6666666666666666, \"#ed7953\"], [0.7777777777777778, \"#fb9f3a\"], [0.8888888888888888, \"#fdca26\"], [1.0, \"#f0f921\"]], \"type\": \"histogram2dcontour\"}], \"mesh3d\": [{\"colorbar\": {\"outlinewidth\": 0, \"ticks\": \"\"}, \"type\": \"mesh3d\"}], \"parcoords\": [{\"line\": {\"colorbar\": {\"outlinewidth\": 0, \"ticks\": \"\"}}, \"type\": \"parcoords\"}], \"pie\": [{\"automargin\": true, \"type\": \"pie\"}], \"scatter\": [{\"marker\": {\"colorbar\": {\"outlinewidth\": 0, \"ticks\": \"\"}}, \"type\": \"scatter\"}], \"scatter3d\": [{\"line\": {\"colorbar\": {\"outlinewidth\": 0, \"ticks\": \"\"}}, \"marker\": {\"colorbar\": {\"outlinewidth\": 0, \"ticks\": \"\"}}, \"type\": \"scatter3d\"}], \"scattercarpet\": [{\"marker\": {\"colorbar\": {\"outlinewidth\": 0, \"ticks\": \"\"}}, \"type\": \"scattercarpet\"}], \"scattergeo\": [{\"marker\": {\"colorbar\": {\"outlinewidth\": 0, \"ticks\": \"\"}}, \"type\": \"scattergeo\"}], \"scattergl\": [{\"marker\": {\"colorbar\": {\"outlinewidth\": 0, \"ticks\": \"\"}}, \"type\": \"scattergl\"}], \"scattermapbox\": [{\"marker\": {\"colorbar\": {\"outlinewidth\": 0, \"ticks\": \"\"}}, \"type\": \"scattermapbox\"}], \"scatterpolar\": [{\"marker\": {\"colorbar\": {\"outlinewidth\": 0, \"ticks\": \"\"}}, \"type\": \"scatterpolar\"}], \"scatterpolargl\": [{\"marker\": {\"colorbar\": {\"outlinewidth\": 0, \"ticks\": \"\"}}, \"type\": \"scatterpolargl\"}], \"scatterternary\": [{\"marker\": {\"colorbar\": {\"outlinewidth\": 0, \"ticks\": \"\"}}, \"type\": \"scatterternary\"}], \"surface\": [{\"colorbar\": {\"outlinewidth\": 0, \"ticks\": \"\"}, \"colorscale\": [[0.0, \"#0d0887\"], [0.1111111111111111, \"#46039f\"], [0.2222222222222222, \"#7201a8\"], [0.3333333333333333, \"#9c179e\"], [0.4444444444444444, \"#bd3786\"], [0.5555555555555556, \"#d8576b\"], [0.6666666666666666, \"#ed7953\"], [0.7777777777777778, \"#fb9f3a\"], [0.8888888888888888, \"#fdca26\"], [1.0, \"#f0f921\"]], \"type\": \"surface\"}], \"table\": [{\"cells\": {\"fill\": {\"color\": \"#EBF0F8\"}, \"line\": {\"color\": \"white\"}}, \"header\": {\"fill\": {\"color\": \"#C8D4E3\"}, \"line\": {\"color\": \"white\"}}, \"type\": \"table\"}]}, \"layout\": {\"annotationdefaults\": {\"arrowcolor\": \"#2a3f5f\", \"arrowhead\": 0, \"arrowwidth\": 1}, \"coloraxis\": {\"colorbar\": {\"outlinewidth\": 0, \"ticks\": \"\"}}, \"colorscale\": {\"diverging\": [[0, \"#8e0152\"], [0.1, \"#c51b7d\"], [0.2, \"#de77ae\"], [0.3, \"#f1b6da\"], [0.4, \"#fde0ef\"], [0.5, \"#f7f7f7\"], [0.6, \"#e6f5d0\"], [0.7, \"#b8e186\"], [0.8, \"#7fbc41\"], [0.9, \"#4d9221\"], [1, \"#276419\"]], \"sequential\": [[0.0, \"#0d0887\"], [0.1111111111111111, \"#46039f\"], [0.2222222222222222, \"#7201a8\"], [0.3333333333333333, \"#9c179e\"], [0.4444444444444444, \"#bd3786\"], [0.5555555555555556, \"#d8576b\"], [0.6666666666666666, \"#ed7953\"], [0.7777777777777778, \"#fb9f3a\"], [0.8888888888888888, \"#fdca26\"], [1.0, \"#f0f921\"]], \"sequentialminus\": [[0.0, \"#0d0887\"], [0.1111111111111111, \"#46039f\"], [0.2222222222222222, \"#7201a8\"], [0.3333333333333333, \"#9c179e\"], [0.4444444444444444, \"#bd3786\"], [0.5555555555555556, \"#d8576b\"], [0.6666666666666666, \"#ed7953\"], [0.7777777777777778, \"#fb9f3a\"], [0.8888888888888888, \"#fdca26\"], [1.0, \"#f0f921\"]]}, \"colorway\": [\"#636efa\", \"#EF553B\", \"#00cc96\", \"#ab63fa\", \"#FFA15A\", \"#19d3f3\", \"#FF6692\", \"#B6E880\", \"#FF97FF\", \"#FECB52\"], \"font\": {\"color\": \"#2a3f5f\"}, \"geo\": {\"bgcolor\": \"white\", \"lakecolor\": \"white\", \"landcolor\": \"#E5ECF6\", \"showlakes\": true, \"showland\": true, \"subunitcolor\": \"white\"}, \"hoverlabel\": {\"align\": \"left\"}, \"hovermode\": \"closest\", \"mapbox\": {\"style\": \"light\"}, \"paper_bgcolor\": \"white\", \"plot_bgcolor\": \"#E5ECF6\", \"polar\": {\"angularaxis\": {\"gridcolor\": \"white\", \"linecolor\": \"white\", \"ticks\": \"\"}, \"bgcolor\": \"#E5ECF6\", \"radialaxis\": {\"gridcolor\": \"white\", \"linecolor\": \"white\", \"ticks\": \"\"}}, \"scene\": {\"xaxis\": {\"backgroundcolor\": \"#E5ECF6\", \"gridcolor\": \"white\", \"gridwidth\": 2, \"linecolor\": \"white\", \"showbackground\": true, \"ticks\": \"\", \"zerolinecolor\": \"white\"}, \"yaxis\": {\"backgroundcolor\": \"#E5ECF6\", \"gridcolor\": \"white\", \"gridwidth\": 2, \"linecolor\": \"white\", \"showbackground\": true, \"ticks\": \"\", \"zerolinecolor\": \"white\"}, \"zaxis\": {\"backgroundcolor\": \"#E5ECF6\", \"gridcolor\": \"white\", \"gridwidth\": 2, \"linecolor\": \"white\", \"showbackground\": true, \"ticks\": \"\", \"zerolinecolor\": \"white\"}}, \"shapedefaults\": {\"line\": {\"color\": \"#2a3f5f\"}}, \"ternary\": {\"aaxis\": {\"gridcolor\": \"white\", \"linecolor\": \"white\", \"ticks\": \"\"}, \"baxis\": {\"gridcolor\": \"white\", \"linecolor\": \"white\", \"ticks\": \"\"}, \"bgcolor\": \"#E5ECF6\", \"caxis\": {\"gridcolor\": \"white\", \"linecolor\": \"white\", \"ticks\": \"\"}}, \"title\": {\"x\": 0.05}, \"xaxis\": {\"automargin\": true, \"gridcolor\": \"white\", \"linecolor\": \"white\", \"ticks\": \"\", \"title\": {\"standoff\": 15}, \"zerolinecolor\": \"white\", \"zerolinewidth\": 2}, \"yaxis\": {\"automargin\": true, \"gridcolor\": \"white\", \"linecolor\": \"white\", \"ticks\": \"\", \"title\": {\"standoff\": 15}, \"zerolinecolor\": \"white\", \"zerolinewidth\": 2}}}},                        {\"responsive\": true}                    ).then(function(){\n",
       "                            \n",
       "var gd = document.getElementById('e3c653c6-5569-4b4b-a7d8-57d4574d9cb1');\n",
       "var x = new MutationObserver(function (mutations, observer) {{\n",
       "        var display = window.getComputedStyle(gd).display;\n",
       "        if (!display || display === 'none') {{\n",
       "            console.log([gd, 'removed!']);\n",
       "            Plotly.purge(gd);\n",
       "            observer.disconnect();\n",
       "        }}\n",
       "}});\n",
       "\n",
       "// Listen for the removal of the full notebook cells\n",
       "var notebookContainer = gd.closest('#notebook-container');\n",
       "if (notebookContainer) {{\n",
       "    x.observe(notebookContainer, {childList: true});\n",
       "}}\n",
       "\n",
       "// Listen for the clearing of the current output cell\n",
       "var outputEl = gd.closest('.output');\n",
       "if (outputEl) {{\n",
       "    x.observe(outputEl, {childList: true});\n",
       "}}\n",
       "\n",
       "                        })                };                });            </script>        </div>"
      ]
     },
     "metadata": {},
     "output_type": "display_data"
    }
   ],
   "source": [
    "# Top Features Contributing to Match\n",
    "# import plotly.graph_objects as go\n",
    "\n",
    "fig = go.Figure()\n",
    "fig.add_trace(go.Bar(\n",
    "    y=top_feature_rawdf['Feature'],\n",
    "    x=top_feature_rawdf.index,\n",
    "    name='Top 10 Overall Features',\n",
    "    orientation='h',\n",
    "    marker=dict(\n",
    "        color='rgba(71, 58, 131, 0.8)'\n",
    "    )\n",
    "))\n",
    "\n",
    "\n",
    "# fig.update_layout(barmode='stack')\n",
    "fig.show()"
   ]
  },
  {
   "cell_type": "code",
   "execution_count": 44,
   "metadata": {},
   "outputs": [
    {
     "data": {
      "text/html": [
       "<div>\n",
       "<style scoped>\n",
       "    .dataframe tbody tr th:only-of-type {\n",
       "        vertical-align: middle;\n",
       "    }\n",
       "\n",
       "    .dataframe tbody tr th {\n",
       "        vertical-align: top;\n",
       "    }\n",
       "\n",
       "    .dataframe thead th {\n",
       "        text-align: right;\n",
       "    }\n",
       "</style>\n",
       "<table border=\"1\" class=\"dataframe\">\n",
       "  <thead>\n",
       "    <tr style=\"text-align: right;\">\n",
       "      <th></th>\n",
       "      <th>Feature_Percentage</th>\n",
       "      <th>Feature</th>\n",
       "    </tr>\n",
       "  </thead>\n",
       "  <tbody>\n",
       "    <tr>\n",
       "      <th>0</th>\n",
       "      <td>3.4309</td>\n",
       "      <td>likeness_partner</td>\n",
       "    </tr>\n",
       "    <tr>\n",
       "      <th>1</th>\n",
       "      <td>3.3445</td>\n",
       "      <td>shar_of_partner</td>\n",
       "    </tr>\n",
       "    <tr>\n",
       "      <th>2</th>\n",
       "      <td>3.0332</td>\n",
       "      <td>overall_attr_partner</td>\n",
       "    </tr>\n",
       "    <tr>\n",
       "      <th>3</th>\n",
       "      <td>2.7453</td>\n",
       "      <td>fun_of_partner</td>\n",
       "    </tr>\n",
       "    <tr>\n",
       "      <th>4</th>\n",
       "      <td>2.1690</td>\n",
       "      <td>age_partner</td>\n",
       "    </tr>\n",
       "    <tr>\n",
       "      <th>5</th>\n",
       "      <td>1.7587</td>\n",
       "      <td>intel_of_partner</td>\n",
       "    </tr>\n",
       "    <tr>\n",
       "      <th>6</th>\n",
       "      <td>1.7090</td>\n",
       "      <td>amb_of_partner</td>\n",
       "    </tr>\n",
       "    <tr>\n",
       "      <th>7</th>\n",
       "      <td>1.6676</td>\n",
       "      <td>income</td>\n",
       "    </tr>\n",
       "    <tr>\n",
       "      <th>8</th>\n",
       "      <td>1.6231</td>\n",
       "      <td>sinc_of_partner</td>\n",
       "    </tr>\n",
       "    <tr>\n",
       "      <th>9</th>\n",
       "      <td>1.5732</td>\n",
       "      <td>field_cd</td>\n",
       "    </tr>\n",
       "  </tbody>\n",
       "</table>\n",
       "</div>"
      ],
      "text/plain": [
       "   Feature_Percentage               Feature\n",
       "0              3.4309      likeness_partner\n",
       "1              3.3445       shar_of_partner\n",
       "2              3.0332  overall_attr_partner\n",
       "3              2.7453        fun_of_partner\n",
       "4              2.1690           age_partner\n",
       "5              1.7587      intel_of_partner\n",
       "6              1.7090        amb_of_partner\n",
       "7              1.6676                income\n",
       "8              1.6231       sinc_of_partner\n",
       "9              1.5732              field_cd"
      ]
     },
     "execution_count": 44,
     "metadata": {},
     "output_type": "execute_result"
    }
   ],
   "source": [
    "# Filter out non-indivudual data and normalize\n",
    "feature_df = feature_df[~feature_df.Feature.str.contains('dec')]\n",
    "feature_df = feature_df[~feature_df.Feature.str.contains('yes')]\n",
    "feature_df = feature_df[~feature_df.Feature.str.contains('pf_o_att')]\n",
    "feature_df = feature_df[~feature_df.Feature.str.contains('order')]\n",
    "feature_df = feature_df[~feature_df.Feature.str.contains('pref', case=False)]\n",
    "feature_df = feature_df[~feature_df.Feature.str.contains('tv')]\n",
    "feature_df = feature_df[~feature_df.Feature.str.contains('yoga')]\n",
    "feature_df = feature_df[~feature_df.Feature.str.contains('sim_int')]\n",
    "\n",
    "# Top 8 Overall Features that increase chances of Match\n",
    "top_feature_df = feature_df.head(10)\n",
    "top_feature_df = top_feature_df.reset_index(drop = True)\n",
    "top_feature_df"
   ]
  },
  {
   "cell_type": "code",
   "execution_count": null,
   "metadata": {},
   "outputs": [],
   "source": [
    "import plotly.graph_objects as go\n",
    "\n",
    "fig = go.Figure()\n",
    "fig.add_trace(go.Bar(\n",
    "    y=['giraffes', 'orangutans', 'monkeys'],\n",
    "    x=male_rating_df['Feature_Percentage'],\n",
    "    name='SF Zoo',\n",
    "    orientation='h',\n",
    "    marker=dict(\n",
    "        color='rgba(246, 78, 139, 0.6)',\n",
    "        line=dict(color='rgba(246, 78, 139, 1.0)', width=3)\n",
    "    )\n",
    "))\n",
    "fig.add_trace(go.Bar(\n",
    "    y=['giraffes', 'orangutans', 'monkeys'],\n",
    "    x=[12, 18, 29],\n",
    "    name='LA Zoo',\n",
    "    orientation='h',\n",
    "    marker=dict(\n",
    "        color='rgba(58, 71, 80, 0.6)',\n",
    "        line=dict(color='rgba(58, 71, 80, 1.0)', width=3)\n",
    "    )\n",
    "))\n",
    "\n",
    "fig.update_layout(barmode='stack')\n",
    "fig.show()"
   ]
  },
  {
   "cell_type": "markdown",
   "metadata": {},
   "source": [
    "## Male Features"
   ]
  },
  {
   "cell_type": "code",
   "execution_count": null,
   "metadata": {},
   "outputs": [],
   "source": [
    "# Import Model for Male Match Data\n",
    "\n",
    "male_features_of_importance = sorted(zip(rf_male.feature_importances_, X_male.columns), reverse=True)\n",
    "male_feature_df = pd.DataFrame(male_features_of_importance, columns=[\"Feature_Percentage\" , \"Feature\"])\n",
    "male_feature_df[\"Feature_Percentage\"] = male_feature_df[\"Feature_Percentage\"].map(round_Feature)\n",
    "male_feature_df = male_feature_df.head(30)\n",
    "male_feature_df"
   ]
  },
  {
   "cell_type": "code",
   "execution_count": null,
   "metadata": {},
   "outputs": [],
   "source": [
    "# Filter out non-attribute features\n",
    "male_feature_df = male_feature_df[~male_feature_df.Feature.str.contains('dec')]\n",
    "male_feature_df = male_feature_df[~male_feature_df.Feature.str.contains('yes')]\n",
    "male_feature_df = male_feature_df[~male_feature_df.Feature.str.contains('pf_o_att')]\n",
    "male_feature_df = male_feature_df[~male_feature_df.Feature.str.contains('order')]\n",
    "male_feature_df = male_feature_df[~male_feature_df.Feature.str.contains('pref', case=False)]\n",
    "male_feature_df = male_feature_df[~male_feature_df.Feature.str.contains('tv')]\n",
    "male_feature_df = male_feature_df[~male_feature_df.Feature.str.contains('yoga')]\n",
    "male_feature_df = male_feature_df[~male_feature_df.Feature.str.contains('sim_int')]\n",
    "male_feature_df = male_feature_df[~male_feature_df.Feature.str.contains('sport')]"
   ]
  },
  {
   "cell_type": "code",
   "execution_count": null,
   "metadata": {},
   "outputs": [],
   "source": [
    "# TOP 8 Features in Males that increase chances of Match\n",
    "male_top_df = male_feature_df.head(10)\n",
    "male_top_df = male_top_df.reset_index(drop = True)\n",
    "male_top_df"
   ]
  },
  {
   "cell_type": "code",
   "execution_count": null,
   "metadata": {},
   "outputs": [],
   "source": [
    "# Note: Date is the infrequency in which a particular man goes out on dates. "
   ]
  },
  {
   "cell_type": "code",
   "execution_count": null,
   "metadata": {},
   "outputs": [],
   "source": [
    "# Select ONLY Partner Rated Feature\n",
    "male_rating_df = male_feature_df[male_feature_df['Feature'].str.contains('partner')]\n",
    "male_rating_df = male_rating_df[~male_rating_df.Feature.str.contains('likeness')]\n",
    "male_rating_df = male_rating_df[~male_rating_df.Feature.str.contains('age')]\n",
    "male_rating_df = male_rating_df[~male_rating_df.Feature.str.contains('race')]"
   ]
  },
  {
   "cell_type": "code",
   "execution_count": null,
   "metadata": {},
   "outputs": [],
   "source": [
    "# RATED Attributes that increase chances of Match for Males\n",
    "male_rating_df = male_rating_df.sort_values('Feature')\n",
    "male_rating_df = male_rating_df.reset_index(drop=True)\n",
    "male_rating_df"
   ]
  },
  {
   "cell_type": "markdown",
   "metadata": {},
   "source": [
    "## Female Features"
   ]
  },
  {
   "cell_type": "code",
   "execution_count": null,
   "metadata": {},
   "outputs": [],
   "source": [
    "## Import Model for Female Match Data\n",
    "\n",
    "female_features_of_importance = sorted(zip(rf_female.feature_importances_, X_female.columns), reverse=True)\n",
    "female_feature_df = pd.DataFrame(female_features_of_importance, columns=[\"Feature_Percentage\" , \"Feature\"])\n",
    "female_feature_df[\"Feature_Percentage\"] = female_feature_df[\"Feature_Percentage\"].map(round_Feature)\n",
    "female_feature_df = female_feature_df.head(30)\n",
    "female_feature_df"
   ]
  },
  {
   "cell_type": "code",
   "execution_count": null,
   "metadata": {},
   "outputs": [],
   "source": [
    "# Filter out non-attribute features\n",
    "female_feature_df = female_feature_df[~female_feature_df.Feature.str.contains('dec')]\n",
    "female_feature_df = female_feature_df[~female_feature_df.Feature.str.contains('yes')]\n",
    "female_feature_df = female_feature_df[~female_feature_df.Feature.str.contains('pf_o_att')]\n",
    "female_feature_df = female_feature_df[~female_feature_df.Feature.str.contains('order')]\n",
    "female_feature_df = female_feature_df[~female_feature_df.Feature.str.contains('pref', case=False)]\n",
    "female_feature_df = female_feature_df[~female_feature_df.Feature.str.contains('tv')]\n",
    "female_feature_df = female_feature_df[~female_feature_df.Feature.str.contains('yoga')]\n",
    "female_feature_df = female_feature_df[~female_feature_df.Feature.str.contains('sim_int')]\n",
    "female_feature_df.head(30)"
   ]
  },
  {
   "cell_type": "code",
   "execution_count": null,
   "metadata": {},
   "outputs": [],
   "source": [
    "# Top 10 Features in Females that increase chances of Match\n",
    "female_top_df = female_feature_df.head(10)\n",
    "female_top_df = female_top_df.reset_index(drop = True)\n",
    "female_top_df"
   ]
  },
  {
   "cell_type": "code",
   "execution_count": null,
   "metadata": {},
   "outputs": [],
   "source": [
    "# Featured Attributes that increase chances of Match for Females\n",
    "\n",
    "female_rating_df = female_feature_df[female_feature_df['Feature'].str.contains('partner')]\n",
    "female_rating_df = female_rating_df[~female_rating_df.Feature.str.contains('likeness')]\n",
    "female_rating_df = female_rating_df[~female_rating_df.Feature.str.contains('age')]\n",
    "female_rating_df = female_rating_df[~female_rating_df.Feature.str.contains('race')]"
   ]
  },
  {
   "cell_type": "code",
   "execution_count": null,
   "metadata": {},
   "outputs": [],
   "source": [
    "female_rating_df = female_rating_df.sort_values('Feature')\n",
    "female_rating_df = female_rating_df.reset_index(drop=True)\n",
    "female_rating_df"
   ]
  },
  {
   "cell_type": "code",
   "execution_count": null,
   "metadata": {},
   "outputs": [],
   "source": [
    "import plotly.graph_objects as go\n",
    "\n",
    "\n",
    "attributes=['Ambition', 'Fun', 'Intelligence', 'Attractiveness', 'Shared Interests/<br>Hobbies', 'Sincerity']\n",
    "importance_m = male_rating_df['Feature_Percentage']\n",
    "importance_f = female_rating_df['Feature_Percentage']\n",
    "\n",
    "\n",
    "fig = go.Figure(data=[\n",
    "    go.Bar(name='Men', x=attributes, y=importance_m, hovertext='The Impotance as Rated by Women'),\n",
    "    go.Bar(name='Women', x=attributes, y=importance_f, hovertext='The Impotance as Rated by Men')\n",
    "])\n",
    "# Change the bar mode\n",
    "fig.update_layout(barmode='group')\n",
    "\n",
    "# Add details\n",
    "fig.update_layout(title_text='Importance of Attribute As Rated By Your Partner')\n",
    "\n",
    "fig.show()"
   ]
  },
  {
   "cell_type": "code",
   "execution_count": null,
   "metadata": {},
   "outputs": [],
   "source": [
    "import plotly.io as pio\n",
    "\n",
    "pio.to_html(fig, include_plotlyjs=False, full_html=False)"
   ]
  },
  {
   "cell_type": "code",
   "execution_count": null,
   "metadata": {},
   "outputs": [],
   "source": []
  }
 ],
 "metadata": {
  "kernelspec": {
   "display_name": "Python [conda env:PythonData] *",
   "language": "python",
   "name": "conda-env-PythonData-py"
  },
  "language_info": {
   "codemirror_mode": {
    "name": "ipython",
    "version": 3
   },
   "file_extension": ".py",
   "mimetype": "text/x-python",
   "name": "python",
   "nbconvert_exporter": "python",
   "pygments_lexer": "ipython3",
   "version": "3.8.3"
  }
 },
 "nbformat": 4,
 "nbformat_minor": 4
}
